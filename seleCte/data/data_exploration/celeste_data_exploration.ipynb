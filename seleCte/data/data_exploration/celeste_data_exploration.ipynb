{
 "cells": [
  {
   "attachments": {},
   "cell_type": "markdown",
   "metadata": {},
   "source": [
    "# Celeste Database Exploration"
   ]
  },
  {
   "cell_type": "code",
   "execution_count": 1,
   "metadata": {},
   "outputs": [],
   "source": [
    "import os\n",
    "import pandas as pd\n",
    "import numpy as np"
   ]
  },
  {
   "attachments": {},
   "cell_type": "markdown",
   "metadata": {},
   "source": [
    "### 1 - Room sizes distribution\n",
    "\n",
    "So that we kinda have a better idea of what size of room we should generate in the Cskeleton"
   ]
  },
  {
   "cell_type": "code",
   "execution_count": 44,
   "metadata": {},
   "outputs": [],
   "source": [
    "directory = \"../levels/\"\n",
    "\n",
    "l_filenames_fg = []\n",
    "\n",
    "for folder in os.scandir(directory):\n",
    "    for filename in os.scandir(folder.path):\n",
    "        if filename.path.endswith(\"fg.csv\"):\n",
    "            l_filenames_fg.append(filename.path)\n",
    "\n",
    "l_data = []\n",
    "for file in l_filenames_fg:\n",
    "    lvl_name, room_name = file.split(\"/\")[-2:]\n",
    "    height, width = pd.read_csv(file, sep=\";\", header=None).shape\n",
    "    l_data.append((lvl_name, room_name, width, height))\n",
    "\n",
    "df_size_rooms = pd.DataFrame(l_data, columns=[\"level\", \"room\", \"width\", \"height\"])\n",
    "df_size_rooms[\"size\"] = list(zip(df_size_rooms[\"width\"], df_size_rooms[\"height\"]))\n",
    "df_size_rooms[\"unique_comb_width\"] = [df_size_rooms[df_size_rooms.width == w].height.unique().size for w in df_size_rooms.width]\n",
    "df_size_rooms[\"unique_comb_height\"] = [df_size_rooms[df_size_rooms.height == h].width.unique().size for h in df_size_rooms.height]\n",
    "df_size_rooms[\"unique_comb_coords\"] = df_size_rooms[\"size\"].map(lambda x: df_size_rooms[\"size\"].value_counts()[x])"
   ]
  },
  {
   "cell_type": "code",
   "execution_count": 45,
   "metadata": {},
   "outputs": [
    {
     "data": {
      "text/html": [
       "<div>\n",
       "<style scoped>\n",
       "    .dataframe tbody tr th:only-of-type {\n",
       "        vertical-align: middle;\n",
       "    }\n",
       "\n",
       "    .dataframe tbody tr th {\n",
       "        vertical-align: top;\n",
       "    }\n",
       "\n",
       "    .dataframe thead th {\n",
       "        text-align: right;\n",
       "    }\n",
       "</style>\n",
       "<table border=\"1\" class=\"dataframe\">\n",
       "  <thead>\n",
       "    <tr style=\"text-align: right;\">\n",
       "      <th></th>\n",
       "      <th>level</th>\n",
       "      <th>room</th>\n",
       "      <th>width</th>\n",
       "      <th>height</th>\n",
       "      <th>size</th>\n",
       "      <th>unique_comb_width</th>\n",
       "      <th>unique_comb_height</th>\n",
       "      <th>unique_comb_coords</th>\n",
       "    </tr>\n",
       "  </thead>\n",
       "  <tbody>\n",
       "    <tr>\n",
       "      <th>0</th>\n",
       "      <td>8-Epilogue</td>\n",
       "      <td>lvl_outside_fg.csv</td>\n",
       "      <td>40</td>\n",
       "      <td>23</td>\n",
       "      <td>(40, 23)</td>\n",
       "      <td>84</td>\n",
       "      <td>136</td>\n",
       "      <td>169</td>\n",
       "    </tr>\n",
       "    <tr>\n",
       "      <th>1</th>\n",
       "      <td>8-Epilogue</td>\n",
       "      <td>lvl_inside_fg.csv</td>\n",
       "      <td>40</td>\n",
       "      <td>23</td>\n",
       "      <td>(40, 23)</td>\n",
       "      <td>84</td>\n",
       "      <td>136</td>\n",
       "      <td>169</td>\n",
       "    </tr>\n",
       "    <tr>\n",
       "      <th>2</th>\n",
       "      <td>8-Epilogue</td>\n",
       "      <td>lvl_bridge_fg.csv</td>\n",
       "      <td>126</td>\n",
       "      <td>23</td>\n",
       "      <td>(126, 23)</td>\n",
       "      <td>1</td>\n",
       "      <td>136</td>\n",
       "      <td>3</td>\n",
       "    </tr>\n",
       "    <tr>\n",
       "      <th>3</th>\n",
       "      <td>8-Epilogue</td>\n",
       "      <td>lvl_secret_fg.csv</td>\n",
       "      <td>40</td>\n",
       "      <td>23</td>\n",
       "      <td>(40, 23)</td>\n",
       "      <td>84</td>\n",
       "      <td>136</td>\n",
       "      <td>169</td>\n",
       "    </tr>\n",
       "    <tr>\n",
       "      <th>4</th>\n",
       "      <td>7H-Summit</td>\n",
       "      <td>lvl_f-01_fg.csv</td>\n",
       "      <td>114</td>\n",
       "      <td>23</td>\n",
       "      <td>(114, 23)</td>\n",
       "      <td>2</td>\n",
       "      <td>136</td>\n",
       "      <td>4</td>\n",
       "    </tr>\n",
       "    <tr>\n",
       "      <th>...</th>\n",
       "      <td>...</td>\n",
       "      <td>...</td>\n",
       "      <td>...</td>\n",
       "      <td>...</td>\n",
       "      <td>...</td>\n",
       "      <td>...</td>\n",
       "      <td>...</td>\n",
       "      <td>...</td>\n",
       "    </tr>\n",
       "    <tr>\n",
       "      <th>819</th>\n",
       "      <td>3-CelestialResort</td>\n",
       "      <td>lvl_09-d_fg.csv</td>\n",
       "      <td>40</td>\n",
       "      <td>46</td>\n",
       "      <td>(40, 46)</td>\n",
       "      <td>84</td>\n",
       "      <td>5</td>\n",
       "      <td>7</td>\n",
       "    </tr>\n",
       "    <tr>\n",
       "      <th>820</th>\n",
       "      <td>3-CelestialResort</td>\n",
       "      <td>lvl_13-b_fg.csv</td>\n",
       "      <td>40</td>\n",
       "      <td>23</td>\n",
       "      <td>(40, 23)</td>\n",
       "      <td>84</td>\n",
       "      <td>136</td>\n",
       "      <td>169</td>\n",
       "    </tr>\n",
       "    <tr>\n",
       "      <th>821</th>\n",
       "      <td>3-CelestialResort</td>\n",
       "      <td>lvl_00-a_fg.csv</td>\n",
       "      <td>80</td>\n",
       "      <td>23</td>\n",
       "      <td>(80, 23)</td>\n",
       "      <td>6</td>\n",
       "      <td>136</td>\n",
       "      <td>11</td>\n",
       "    </tr>\n",
       "    <tr>\n",
       "      <th>822</th>\n",
       "      <td>3-CelestialResort</td>\n",
       "      <td>lvl_12-y_fg.csv</td>\n",
       "      <td>40</td>\n",
       "      <td>23</td>\n",
       "      <td>(40, 23)</td>\n",
       "      <td>84</td>\n",
       "      <td>136</td>\n",
       "      <td>169</td>\n",
       "    </tr>\n",
       "    <tr>\n",
       "      <th>823</th>\n",
       "      <td>3-CelestialResort</td>\n",
       "      <td>lvl_10-c_fg.csv</td>\n",
       "      <td>40</td>\n",
       "      <td>23</td>\n",
       "      <td>(40, 23)</td>\n",
       "      <td>84</td>\n",
       "      <td>136</td>\n",
       "      <td>169</td>\n",
       "    </tr>\n",
       "  </tbody>\n",
       "</table>\n",
       "<p>824 rows × 8 columns</p>\n",
       "</div>"
      ],
      "text/plain": [
       "                 level                room  width  height       size   \n",
       "0           8-Epilogue  lvl_outside_fg.csv     40      23   (40, 23)  \\\n",
       "1           8-Epilogue   lvl_inside_fg.csv     40      23   (40, 23)   \n",
       "2           8-Epilogue   lvl_bridge_fg.csv    126      23  (126, 23)   \n",
       "3           8-Epilogue   lvl_secret_fg.csv     40      23   (40, 23)   \n",
       "4            7H-Summit     lvl_f-01_fg.csv    114      23  (114, 23)   \n",
       "..                 ...                 ...    ...     ...        ...   \n",
       "819  3-CelestialResort     lvl_09-d_fg.csv     40      46   (40, 46)   \n",
       "820  3-CelestialResort     lvl_13-b_fg.csv     40      23   (40, 23)   \n",
       "821  3-CelestialResort     lvl_00-a_fg.csv     80      23   (80, 23)   \n",
       "822  3-CelestialResort     lvl_12-y_fg.csv     40      23   (40, 23)   \n",
       "823  3-CelestialResort     lvl_10-c_fg.csv     40      23   (40, 23)   \n",
       "\n",
       "     unique_comb_width  unique_comb_height  unique_comb_coords  \n",
       "0                   84                 136                 169  \n",
       "1                   84                 136                 169  \n",
       "2                    1                 136                   3  \n",
       "3                   84                 136                 169  \n",
       "4                    2                 136                   4  \n",
       "..                 ...                 ...                 ...  \n",
       "819                 84                   5                   7  \n",
       "820                 84                 136                 169  \n",
       "821                  6                 136                  11  \n",
       "822                 84                 136                 169  \n",
       "823                 84                 136                 169  \n",
       "\n",
       "[824 rows x 8 columns]"
      ]
     },
     "execution_count": 45,
     "metadata": {},
     "output_type": "execute_result"
    }
   ],
   "source": [
    "df_size_rooms"
   ]
  },
  {
   "cell_type": "code",
   "execution_count": 61,
   "metadata": {},
   "outputs": [
    {
     "data": {
      "text/plain": [
       "size\n",
       "(40, 23)      169\n",
       "(80, 23)       11\n",
       "(47, 23)       10\n",
       "(54, 23)       10\n",
       "(40, 25)        8\n",
       "             ... \n",
       "(244, 23)       1\n",
       "(117, 23)       1\n",
       "(170, 116)      1\n",
       "(94, 47)        1\n",
       "(44, 60)        1\n",
       "Name: count, Length: 375, dtype: int64"
      ]
     },
     "execution_count": 61,
     "metadata": {},
     "output_type": "execute_result"
    }
   ],
   "source": [
    "df_size_rooms[\"size\"].value_counts()"
   ]
  },
  {
   "cell_type": "code",
   "execution_count": 60,
   "metadata": {},
   "outputs": [
    {
     "data": {
      "text/plain": [
       "size        level          \n",
       "(40, 23)    0-Intro             3\n",
       "            1-ForsakenCity     18\n",
       "            1H-ForsakenCity     3\n",
       "            2-OldSite          15\n",
       "            2H-OldSite          2\n",
       "                               ..\n",
       "(334, 23)   LostLevels          1\n",
       "(362, 158)  LostLevels          1\n",
       "(451, 25)   7X-Summit           1\n",
       "(659, 23)   9X-Core             1\n",
       "(768, 340)  LostLevels          1\n",
       "Name: count, Length: 597, dtype: int64"
      ]
     },
     "execution_count": 60,
     "metadata": {},
     "output_type": "execute_result"
    }
   ],
   "source": [
    "df_size_rooms.groupby([\"size\", \"level\"])[\"size\"].value_counts()"
   ]
  },
  {
   "cell_type": "code",
   "execution_count": 81,
   "metadata": {},
   "outputs": [
    {
     "data": {
      "text/html": [
       "<div>\n",
       "<style scoped>\n",
       "    .dataframe tbody tr th:only-of-type {\n",
       "        vertical-align: middle;\n",
       "    }\n",
       "\n",
       "    .dataframe tbody tr th {\n",
       "        vertical-align: top;\n",
       "    }\n",
       "\n",
       "    .dataframe thead th {\n",
       "        text-align: right;\n",
       "    }\n",
       "</style>\n",
       "<table border=\"1\" class=\"dataframe\">\n",
       "  <thead>\n",
       "    <tr style=\"text-align: right;\">\n",
       "      <th></th>\n",
       "      <th>count</th>\n",
       "      <th>w</th>\n",
       "      <th>h</th>\n",
       "    </tr>\n",
       "  </thead>\n",
       "  <tbody>\n",
       "    <tr>\n",
       "      <th>0</th>\n",
       "      <td>169</td>\n",
       "      <td>40</td>\n",
       "      <td>23</td>\n",
       "    </tr>\n",
       "    <tr>\n",
       "      <th>1</th>\n",
       "      <td>11</td>\n",
       "      <td>80</td>\n",
       "      <td>23</td>\n",
       "    </tr>\n",
       "    <tr>\n",
       "      <th>2</th>\n",
       "      <td>10</td>\n",
       "      <td>47</td>\n",
       "      <td>23</td>\n",
       "    </tr>\n",
       "    <tr>\n",
       "      <th>3</th>\n",
       "      <td>10</td>\n",
       "      <td>54</td>\n",
       "      <td>23</td>\n",
       "    </tr>\n",
       "    <tr>\n",
       "      <th>4</th>\n",
       "      <td>8</td>\n",
       "      <td>40</td>\n",
       "      <td>25</td>\n",
       "    </tr>\n",
       "    <tr>\n",
       "      <th>...</th>\n",
       "      <td>...</td>\n",
       "      <td>...</td>\n",
       "      <td>...</td>\n",
       "    </tr>\n",
       "    <tr>\n",
       "      <th>114</th>\n",
       "      <td>2</td>\n",
       "      <td>40</td>\n",
       "      <td>56</td>\n",
       "    </tr>\n",
       "    <tr>\n",
       "      <th>115</th>\n",
       "      <td>2</td>\n",
       "      <td>115</td>\n",
       "      <td>23</td>\n",
       "    </tr>\n",
       "    <tr>\n",
       "      <th>116</th>\n",
       "      <td>2</td>\n",
       "      <td>40</td>\n",
       "      <td>37</td>\n",
       "    </tr>\n",
       "    <tr>\n",
       "      <th>117</th>\n",
       "      <td>2</td>\n",
       "      <td>56</td>\n",
       "      <td>23</td>\n",
       "    </tr>\n",
       "    <tr>\n",
       "      <th>118</th>\n",
       "      <td>2</td>\n",
       "      <td>40</td>\n",
       "      <td>92</td>\n",
       "    </tr>\n",
       "  </tbody>\n",
       "</table>\n",
       "<p>119 rows × 3 columns</p>\n",
       "</div>"
      ],
      "text/plain": [
       "     count    w   h\n",
       "0      169   40  23\n",
       "1       11   80  23\n",
       "2       10   47  23\n",
       "3       10   54  23\n",
       "4        8   40  25\n",
       "..     ...  ...  ..\n",
       "114      2   40  56\n",
       "115      2  115  23\n",
       "116      2   40  37\n",
       "117      2   56  23\n",
       "118      2   40  92\n",
       "\n",
       "[119 rows x 3 columns]"
      ]
     },
     "execution_count": 81,
     "metadata": {},
     "output_type": "execute_result"
    }
   ],
   "source": [
    "df_scatter = df_size_rooms[\"size\"].value_counts().reset_index()\n",
    "df_scatter[\"w\"] = df_scatter[\"size\"].map(lambda x: x[0])\n",
    "df_scatter[\"h\"] = df_scatter[\"size\"].map(lambda x: x[1])\n",
    "df_scatter = df_scatter.drop(\"size\", axis=1)\n",
    "df_scatter = df_scatter[df_scatter[\"count\"] >= 2]\n",
    "df_scatter"
   ]
  },
  {
   "cell_type": "code",
   "execution_count": 82,
   "metadata": {},
   "outputs": [
    {
     "data": {
      "text/plain": [
       "<Axes: xlabel='w', ylabel='h'>"
      ]
     },
     "execution_count": 82,
     "metadata": {},
     "output_type": "execute_result"
    },
    {
     "data": {
      "image/png": "[encoded data removed]",
      "text/plain": [
       "<Figure size 640x480 with 1 Axes>"
      ]
     },
     "metadata": {},
     "output_type": "display_data"
    }
   ],
   "source": [
    "df_scatter.plot.scatter(\"w\", \"h\", \"count\")"
   ]
  },
  {
   "attachments": {},
   "cell_type": "markdown",
   "metadata": {},
   "source": [
    "### 2 - Entities distribution"
   ]
  },
  {
   "cell_type": "markdown",
   "metadata": {},
   "source": []
  }
 ],
 "metadata": {
  "kernelspec": {
   "display_name": "Python 3",
   "language": "python",
   "name": "python3"
  },
  "language_info": {
   "codemirror_mode": {
    "name": "ipython",
    "version": 3
   },
   "file_extension": ".py",
   "mimetype": "text/x-python",
   "name": "python",
   "nbconvert_exporter": "python",
   "pygments_lexer": "ipython3",
   "version": "3.11.1"
  },
  "orig_nbformat": 4,
  "vscode": {
   "interpreter": {
    "hash": "369f2c481f4da34e4445cda3fffd2e751bd1c4d706f27375911949ba6bb62e1c"
   }
  }
 },
 "nbformat": 4,
 "nbformat_minor": 2
}
