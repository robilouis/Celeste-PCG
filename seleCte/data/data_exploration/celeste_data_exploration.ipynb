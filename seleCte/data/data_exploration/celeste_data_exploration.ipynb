{
 "cells": [
  {
   "attachments": {},
   "cell_type": "markdown",
   "metadata": {},
   "source": [
    "# Celeste Database Exploration"
   ]
  },
  {
   "cell_type": "code",
   "execution_count": 30,
   "metadata": {},
   "outputs": [],
   "source": [
    "import json\n",
    "import os\n",
    "import pandas as pd\n",
    "import numpy as np"
   ]
  },
  {
   "attachments": {},
   "cell_type": "markdown",
   "metadata": {},
   "source": [
    "### 1 - Room sizes distribution\n",
    "\n",
    "So that we kinda have a better idea of what size of room we should generate in the Cskeleton"
   ]
  },
  {
   "cell_type": "code",
   "execution_count": 60,
   "metadata": {},
   "outputs": [],
   "source": [
    "directory = \"../levels/\"\n",
    "\n",
    "l_filenames_fg = []\n",
    "\n",
    "for folder in os.scandir(directory):\n",
    "    for filename in os.scandir(folder.path):\n",
    "        if filename.path.endswith(\"fg.csv\"):\n",
    "            l_filenames_fg.append(filename.path)\n",
    "\n",
    "l_data = []\n",
    "for file in l_filenames_fg:\n",
    "    lvl_name, room_name = file.split(\"/\")[-2:]\n",
    "    height, width = pd.read_csv(file, sep=\";\", header=None).shape\n",
    "    l_data.append((lvl_name, room_name, width, height))\n",
    "\n",
    "df_size_rooms = pd.DataFrame(l_data, columns=[\"level\", \"room\", \"width\", \"height\"])\n",
    "df_size_rooms[\"size\"] = list(zip(df_size_rooms[\"width\"], df_size_rooms[\"height\"]))\n",
    "df_size_rooms[\"unique_comb_width\"] = [df_size_rooms[df_size_rooms.width == w].height.unique().size for w in df_size_rooms.width]\n",
    "df_size_rooms[\"unique_comb_height\"] = [df_size_rooms[df_size_rooms.height == h].width.unique().size for h in df_size_rooms.height]\n",
    "df_size_rooms[\"unique_comb_coords\"] = df_size_rooms[\"size\"].map(lambda x: df_size_rooms[\"size\"].value_counts()[x])\n",
    "df_size_rooms[\"filepath\"] = \"../levels/\"+df_size_rooms[\"level\"]+\"/\"+df_size_rooms[\"room\"]\n",
    "df_size_rooms[\"room\"] = df_size_rooms[\"room\"].map(lambda x: x.split(\"_fg\")[0])"
   ]
  },
  {
   "cell_type": "code",
   "execution_count": 62,
   "metadata": {},
   "outputs": [],
   "source": [
    "df_size_rooms.to_csv(\"room_data_celeste.csv\", sep=\";\", decimal=\",\", encoding=\"utf-8\")"
   ]
  },
  {
   "cell_type": "code",
   "execution_count": 61,
   "metadata": {},
   "outputs": [
    {
     "data": {
      "text/html": [
       "<div>\n",
       "<style scoped>\n",
       "    .dataframe tbody tr th:only-of-type {\n",
       "        vertical-align: middle;\n",
       "    }\n",
       "\n",
       "    .dataframe tbody tr th {\n",
       "        vertical-align: top;\n",
       "    }\n",
       "\n",
       "    .dataframe thead th {\n",
       "        text-align: right;\n",
       "    }\n",
       "</style>\n",
       "<table border=\"1\" class=\"dataframe\">\n",
       "  <thead>\n",
       "    <tr style=\"text-align: right;\">\n",
       "      <th></th>\n",
       "      <th>level</th>\n",
       "      <th>room</th>\n",
       "      <th>width</th>\n",
       "      <th>height</th>\n",
       "      <th>size</th>\n",
       "      <th>unique_comb_width</th>\n",
       "      <th>unique_comb_height</th>\n",
       "      <th>unique_comb_coords</th>\n",
       "      <th>filepath</th>\n",
       "    </tr>\n",
       "  </thead>\n",
       "  <tbody>\n",
       "    <tr>\n",
       "      <th>0</th>\n",
       "      <td>8-Epilogue</td>\n",
       "      <td>lvl_outside</td>\n",
       "      <td>40</td>\n",
       "      <td>23</td>\n",
       "      <td>(40, 23)</td>\n",
       "      <td>84</td>\n",
       "      <td>136</td>\n",
       "      <td>169</td>\n",
       "      <td>../levels/8-Epilogue/lvl_outside_fg.csv</td>\n",
       "    </tr>\n",
       "    <tr>\n",
       "      <th>1</th>\n",
       "      <td>8-Epilogue</td>\n",
       "      <td>lvl_inside</td>\n",
       "      <td>40</td>\n",
       "      <td>23</td>\n",
       "      <td>(40, 23)</td>\n",
       "      <td>84</td>\n",
       "      <td>136</td>\n",
       "      <td>169</td>\n",
       "      <td>../levels/8-Epilogue/lvl_inside_fg.csv</td>\n",
       "    </tr>\n",
       "    <tr>\n",
       "      <th>2</th>\n",
       "      <td>8-Epilogue</td>\n",
       "      <td>lvl_bridge</td>\n",
       "      <td>126</td>\n",
       "      <td>23</td>\n",
       "      <td>(126, 23)</td>\n",
       "      <td>1</td>\n",
       "      <td>136</td>\n",
       "      <td>3</td>\n",
       "      <td>../levels/8-Epilogue/lvl_bridge_fg.csv</td>\n",
       "    </tr>\n",
       "    <tr>\n",
       "      <th>3</th>\n",
       "      <td>8-Epilogue</td>\n",
       "      <td>lvl_secret</td>\n",
       "      <td>40</td>\n",
       "      <td>23</td>\n",
       "      <td>(40, 23)</td>\n",
       "      <td>84</td>\n",
       "      <td>136</td>\n",
       "      <td>169</td>\n",
       "      <td>../levels/8-Epilogue/lvl_secret_fg.csv</td>\n",
       "    </tr>\n",
       "    <tr>\n",
       "      <th>4</th>\n",
       "      <td>7H-Summit</td>\n",
       "      <td>lvl_f-01</td>\n",
       "      <td>114</td>\n",
       "      <td>23</td>\n",
       "      <td>(114, 23)</td>\n",
       "      <td>2</td>\n",
       "      <td>136</td>\n",
       "      <td>4</td>\n",
       "      <td>../levels/7H-Summit/lvl_f-01_fg.csv</td>\n",
       "    </tr>\n",
       "    <tr>\n",
       "      <th>...</th>\n",
       "      <td>...</td>\n",
       "      <td>...</td>\n",
       "      <td>...</td>\n",
       "      <td>...</td>\n",
       "      <td>...</td>\n",
       "      <td>...</td>\n",
       "      <td>...</td>\n",
       "      <td>...</td>\n",
       "      <td>...</td>\n",
       "    </tr>\n",
       "    <tr>\n",
       "      <th>819</th>\n",
       "      <td>3-CelestialResort</td>\n",
       "      <td>lvl_09-d</td>\n",
       "      <td>40</td>\n",
       "      <td>46</td>\n",
       "      <td>(40, 46)</td>\n",
       "      <td>84</td>\n",
       "      <td>5</td>\n",
       "      <td>7</td>\n",
       "      <td>../levels/3-CelestialResort/lvl_09-d_fg.csv</td>\n",
       "    </tr>\n",
       "    <tr>\n",
       "      <th>820</th>\n",
       "      <td>3-CelestialResort</td>\n",
       "      <td>lvl_13-b</td>\n",
       "      <td>40</td>\n",
       "      <td>23</td>\n",
       "      <td>(40, 23)</td>\n",
       "      <td>84</td>\n",
       "      <td>136</td>\n",
       "      <td>169</td>\n",
       "      <td>../levels/3-CelestialResort/lvl_13-b_fg.csv</td>\n",
       "    </tr>\n",
       "    <tr>\n",
       "      <th>821</th>\n",
       "      <td>3-CelestialResort</td>\n",
       "      <td>lvl_00-a</td>\n",
       "      <td>80</td>\n",
       "      <td>23</td>\n",
       "      <td>(80, 23)</td>\n",
       "      <td>6</td>\n",
       "      <td>136</td>\n",
       "      <td>11</td>\n",
       "      <td>../levels/3-CelestialResort/lvl_00-a_fg.csv</td>\n",
       "    </tr>\n",
       "    <tr>\n",
       "      <th>822</th>\n",
       "      <td>3-CelestialResort</td>\n",
       "      <td>lvl_12-y</td>\n",
       "      <td>40</td>\n",
       "      <td>23</td>\n",
       "      <td>(40, 23)</td>\n",
       "      <td>84</td>\n",
       "      <td>136</td>\n",
       "      <td>169</td>\n",
       "      <td>../levels/3-CelestialResort/lvl_12-y_fg.csv</td>\n",
       "    </tr>\n",
       "    <tr>\n",
       "      <th>823</th>\n",
       "      <td>3-CelestialResort</td>\n",
       "      <td>lvl_10-c</td>\n",
       "      <td>40</td>\n",
       "      <td>23</td>\n",
       "      <td>(40, 23)</td>\n",
       "      <td>84</td>\n",
       "      <td>136</td>\n",
       "      <td>169</td>\n",
       "      <td>../levels/3-CelestialResort/lvl_10-c_fg.csv</td>\n",
       "    </tr>\n",
       "  </tbody>\n",
       "</table>\n",
       "<p>824 rows × 9 columns</p>\n",
       "</div>"
      ],
      "text/plain": [
       "                 level         room  width  height       size   \n",
       "0           8-Epilogue  lvl_outside     40      23   (40, 23)  \\\n",
       "1           8-Epilogue   lvl_inside     40      23   (40, 23)   \n",
       "2           8-Epilogue   lvl_bridge    126      23  (126, 23)   \n",
       "3           8-Epilogue   lvl_secret     40      23   (40, 23)   \n",
       "4            7H-Summit     lvl_f-01    114      23  (114, 23)   \n",
       "..                 ...          ...    ...     ...        ...   \n",
       "819  3-CelestialResort     lvl_09-d     40      46   (40, 46)   \n",
       "820  3-CelestialResort     lvl_13-b     40      23   (40, 23)   \n",
       "821  3-CelestialResort     lvl_00-a     80      23   (80, 23)   \n",
       "822  3-CelestialResort     lvl_12-y     40      23   (40, 23)   \n",
       "823  3-CelestialResort     lvl_10-c     40      23   (40, 23)   \n",
       "\n",
       "     unique_comb_width  unique_comb_height  unique_comb_coords   \n",
       "0                   84                 136                 169  \\\n",
       "1                   84                 136                 169   \n",
       "2                    1                 136                   3   \n",
       "3                   84                 136                 169   \n",
       "4                    2                 136                   4   \n",
       "..                 ...                 ...                 ...   \n",
       "819                 84                   5                   7   \n",
       "820                 84                 136                 169   \n",
       "821                  6                 136                  11   \n",
       "822                 84                 136                 169   \n",
       "823                 84                 136                 169   \n",
       "\n",
       "                                        filepath  \n",
       "0        ../levels/8-Epilogue/lvl_outside_fg.csv  \n",
       "1         ../levels/8-Epilogue/lvl_inside_fg.csv  \n",
       "2         ../levels/8-Epilogue/lvl_bridge_fg.csv  \n",
       "3         ../levels/8-Epilogue/lvl_secret_fg.csv  \n",
       "4            ../levels/7H-Summit/lvl_f-01_fg.csv  \n",
       "..                                           ...  \n",
       "819  ../levels/3-CelestialResort/lvl_09-d_fg.csv  \n",
       "820  ../levels/3-CelestialResort/lvl_13-b_fg.csv  \n",
       "821  ../levels/3-CelestialResort/lvl_00-a_fg.csv  \n",
       "822  ../levels/3-CelestialResort/lvl_12-y_fg.csv  \n",
       "823  ../levels/3-CelestialResort/lvl_10-c_fg.csv  \n",
       "\n",
       "[824 rows x 9 columns]"
      ]
     },
     "execution_count": 61,
     "metadata": {},
     "output_type": "execute_result"
    }
   ],
   "source": [
    "df_size_rooms"
   ]
  },
  {
   "cell_type": "markdown",
   "metadata": {},
   "source": [
    "Store names of the 40 x 23 rooms"
   ]
  },
  {
   "cell_type": "code",
   "execution_count": 135,
   "metadata": {},
   "outputs": [
    {
     "data": {
      "text/plain": [
       "0         ../levels/8-Epilogue/lvl_outside_entities.json\n",
       "1          ../levels/8-Epilogue/lvl_inside_entities.json\n",
       "3          ../levels/8-Epilogue/lvl_secret_entities.json\n",
       "45               ../levels/9-Core/lvl_b-00_entities.json\n",
       "54                 ../levels/9-Core/lvl_0x_entities.json\n",
       "                             ...                        \n",
       "817    ../levels/3-CelestialResort/lvl_01-b_entities....\n",
       "818    ../levels/3-CelestialResort/lvl_07-b_entities....\n",
       "820    ../levels/3-CelestialResort/lvl_13-b_entities....\n",
       "822    ../levels/3-CelestialResort/lvl_12-y_entities....\n",
       "823    ../levels/3-CelestialResort/lvl_10-c_entities....\n",
       "Name: filepath, Length: 169, dtype: object"
      ]
     },
     "execution_count": 135,
     "metadata": {},
     "output_type": "execute_result"
    }
   ],
   "source": [
    "df_size_rooms[df_size_rooms[\"size\"]==(40, 23)][\"filepath\"].map(lambda x: x.replace(\"_fg.csv\", \"_entities.json\"))"
   ]
  },
  {
   "cell_type": "code",
   "execution_count": 136,
   "metadata": {},
   "outputs": [],
   "source": [
    "l_fp_main_rooms = df_size_rooms[df_size_rooms[\"size\"]==(40, 23)][\"filepath\"].map(lambda x: x.replace(\"_fg.csv\", \"_entities.json\")).to_list()"
   ]
  },
  {
   "cell_type": "code",
   "execution_count": 22,
   "metadata": {},
   "outputs": [
    {
     "data": {
      "text/plain": [
       "size\n",
       "(40, 23)      169\n",
       "(80, 23)       11\n",
       "(47, 23)       10\n",
       "(54, 23)       10\n",
       "(40, 25)        8\n",
       "             ... \n",
       "(244, 23)       1\n",
       "(117, 23)       1\n",
       "(170, 116)      1\n",
       "(94, 47)        1\n",
       "(44, 60)        1\n",
       "Name: count, Length: 375, dtype: int64"
      ]
     },
     "execution_count": 22,
     "metadata": {},
     "output_type": "execute_result"
    }
   ],
   "source": [
    "df_size_rooms[\"size\"].value_counts()"
   ]
  },
  {
   "cell_type": "code",
   "execution_count": 23,
   "metadata": {},
   "outputs": [
    {
     "data": {
      "text/plain": [
       "size        level          \n",
       "(40, 23)    0-Intro             3\n",
       "            1-ForsakenCity     18\n",
       "            1H-ForsakenCity     3\n",
       "            2-OldSite          15\n",
       "            2H-OldSite          2\n",
       "                               ..\n",
       "(334, 23)   LostLevels          1\n",
       "(362, 158)  LostLevels          1\n",
       "(451, 25)   7X-Summit           1\n",
       "(659, 23)   9X-Core             1\n",
       "(768, 340)  LostLevels          1\n",
       "Name: count, Length: 597, dtype: int64"
      ]
     },
     "execution_count": 23,
     "metadata": {},
     "output_type": "execute_result"
    }
   ],
   "source": [
    "df_size_rooms.groupby([\"size\", \"level\"])[\"size\"].value_counts()"
   ]
  },
  {
   "cell_type": "code",
   "execution_count": 24,
   "metadata": {},
   "outputs": [
    {
     "data": {
      "text/html": [
       "<div>\n",
       "<style scoped>\n",
       "    .dataframe tbody tr th:only-of-type {\n",
       "        vertical-align: middle;\n",
       "    }\n",
       "\n",
       "    .dataframe tbody tr th {\n",
       "        vertical-align: top;\n",
       "    }\n",
       "\n",
       "    .dataframe thead th {\n",
       "        text-align: right;\n",
       "    }\n",
       "</style>\n",
       "<table border=\"1\" class=\"dataframe\">\n",
       "  <thead>\n",
       "    <tr style=\"text-align: right;\">\n",
       "      <th></th>\n",
       "      <th>count</th>\n",
       "      <th>w</th>\n",
       "      <th>h</th>\n",
       "    </tr>\n",
       "  </thead>\n",
       "  <tbody>\n",
       "    <tr>\n",
       "      <th>0</th>\n",
       "      <td>169</td>\n",
       "      <td>40</td>\n",
       "      <td>23</td>\n",
       "    </tr>\n",
       "    <tr>\n",
       "      <th>1</th>\n",
       "      <td>11</td>\n",
       "      <td>80</td>\n",
       "      <td>23</td>\n",
       "    </tr>\n",
       "    <tr>\n",
       "      <th>2</th>\n",
       "      <td>10</td>\n",
       "      <td>47</td>\n",
       "      <td>23</td>\n",
       "    </tr>\n",
       "    <tr>\n",
       "      <th>3</th>\n",
       "      <td>10</td>\n",
       "      <td>54</td>\n",
       "      <td>23</td>\n",
       "    </tr>\n",
       "    <tr>\n",
       "      <th>4</th>\n",
       "      <td>8</td>\n",
       "      <td>40</td>\n",
       "      <td>25</td>\n",
       "    </tr>\n",
       "    <tr>\n",
       "      <th>...</th>\n",
       "      <td>...</td>\n",
       "      <td>...</td>\n",
       "      <td>...</td>\n",
       "    </tr>\n",
       "    <tr>\n",
       "      <th>370</th>\n",
       "      <td>1</td>\n",
       "      <td>244</td>\n",
       "      <td>23</td>\n",
       "    </tr>\n",
       "    <tr>\n",
       "      <th>371</th>\n",
       "      <td>1</td>\n",
       "      <td>117</td>\n",
       "      <td>23</td>\n",
       "    </tr>\n",
       "    <tr>\n",
       "      <th>372</th>\n",
       "      <td>1</td>\n",
       "      <td>170</td>\n",
       "      <td>116</td>\n",
       "    </tr>\n",
       "    <tr>\n",
       "      <th>373</th>\n",
       "      <td>1</td>\n",
       "      <td>94</td>\n",
       "      <td>47</td>\n",
       "    </tr>\n",
       "    <tr>\n",
       "      <th>374</th>\n",
       "      <td>1</td>\n",
       "      <td>44</td>\n",
       "      <td>60</td>\n",
       "    </tr>\n",
       "  </tbody>\n",
       "</table>\n",
       "<p>375 rows × 3 columns</p>\n",
       "</div>"
      ],
      "text/plain": [
       "     count    w    h\n",
       "0      169   40   23\n",
       "1       11   80   23\n",
       "2       10   47   23\n",
       "3       10   54   23\n",
       "4        8   40   25\n",
       "..     ...  ...  ...\n",
       "370      1  244   23\n",
       "371      1  117   23\n",
       "372      1  170  116\n",
       "373      1   94   47\n",
       "374      1   44   60\n",
       "\n",
       "[375 rows x 3 columns]"
      ]
     },
     "execution_count": 24,
     "metadata": {},
     "output_type": "execute_result"
    }
   ],
   "source": [
    "df_scatter = df_size_rooms[\"size\"].value_counts().reset_index()\n",
    "df_scatter[\"w\"] = df_scatter[\"size\"].map(lambda x: x[0])\n",
    "df_scatter[\"h\"] = df_scatter[\"size\"].map(lambda x: x[1])\n",
    "df_scatter = df_scatter.drop(\"size\", axis=1)\n",
    "df_scatter"
   ]
  },
  {
   "cell_type": "code",
   "execution_count": 25,
   "metadata": {},
   "outputs": [
    {
     "data": {
      "text/plain": [
       "<Axes: xlabel='w', ylabel='h'>"
      ]
     },
     "execution_count": 25,
     "metadata": {},
     "output_type": "execute_result"
    },
    {
     "data": {
      "image/png": "[encoded data removed]",
      "text/plain": [
       "<Figure size 640x480 with 1 Axes>"
      ]
     },
     "metadata": {},
     "output_type": "display_data"
    }
   ],
   "source": [
    "df_scatter[df_scatter[\"count\"] >= 5].plot.scatter(\"w\", \"h\", \"count\")"
   ]
  },
  {
   "cell_type": "markdown",
   "metadata": {},
   "source": [
    "169 rooms have the same size: (40, 23) $\\longrightarrow$ Training dataset\n",
    "\n",
    "1st step: adapt skeleton to work only with 40 $\\times$ 23 rooms and generate such rooms using training dataset.\n",
    "- Will it be enough training data? Only 169 rooms out of 820ish"
   ]
  },
  {
   "attachments": {},
   "cell_type": "markdown",
   "metadata": {},
   "source": [
    "### 2 - Entities distribution"
   ]
  },
  {
   "cell_type": "markdown",
   "metadata": {},
   "source": [
    "How to detect entities?"
   ]
  },
  {
   "cell_type": "code",
   "execution_count": 88,
   "metadata": {},
   "outputs": [],
   "source": [
    "directory = \"../levels/\"\n",
    "\n",
    "l_filenames_entities = []\n",
    "\n",
    "for folder in os.scandir(directory):\n",
    "    for filename in os.scandir(folder.path):\n",
    "        if filename.path.endswith(\"entities.json\"):\n",
    "            l_filenames_entities.append(filename.path)\n",
    "\n",
    "df_entities = pd.DataFrame()\n",
    "for name in l_filenames_entities:\n",
    "    df_temp = pd.read_json(name)\n",
    "    df_temp[\"room_name\"] = name\n",
    "    df_temp[\"level\"] = name.split(\"/\")[2]\n",
    "    df_temp[\"room\"] = name.split(\"/\")[-1].split(\"_entities\")[0]\n",
    "    df_entities = pd.concat([df_entities, df_temp])\n",
    "df_entities.reset_index(drop=True, inplace=True)"
   ]
  },
  {
   "cell_type": "code",
   "execution_count": 89,
   "metadata": {},
   "outputs": [],
   "source": [
    "df_entities.to_csv(\"table_entities_per_room_celeste.csv\", sep=\";\", decimal=\",\", encoding=\"utf-8\")"
   ]
  },
  {
   "cell_type": "code",
   "execution_count": 94,
   "metadata": {},
   "outputs": [
    {
     "data": {
      "text/plain": [
       "array(['player', 'flutterbird', 'invisibleBarrier', 'lamp', 'bridgeFixed',\n",
       "       'npc', 'bird', 'wire', 'wallSpringLeft', 'trackSpinner', 'spinner',\n",
       "       'rotateSpinner', 'touchSwitch', 'movingPlatform', 'spring',\n",
       "       'switchGate', 'door', 'triggerSpikesLeft', 'soundSource',\n",
       "       'jumpThru', 'fallingBlock', 'spikesUp', 'spikesLeft',\n",
       "       'spikesRight', 'towerviewer', 'dreamBlock', 'hanginglamp',\n",
       "       'checkpoint', 'zipMover', 'spikesDown', 'summitcheckpoint',\n",
       "       'refill', 'crumbleBlock', 'killbox', 'cloud', 'badelineBoost',\n",
       "       'fakeWall', 'SummitBackgroundManager', 'swapBlock', 'booster',\n",
       "       'cassetteBlock', 'blackGem', 'cliffside_flag', 'wallSpringRight',\n",
       "       'moveBlock', 'goldenBerry', 'risingLava', 'coreModeToggle',\n",
       "       'fireBall', 'fireBarrier', 'bounceBlock', 'wallBooster',\n",
       "       'bigSpinner', 'iceBlock', 'exitBlock', 'sandwichLava', 'dashBlock',\n",
       "       'strawberry', 'coreMessage', 'starJumpBlock', 'cassette',\n",
       "       'heartGemDoor', 'introCar', 'infiniteStar', 'lightbeam',\n",
       "       'cliffflag', 'floatingDebris', 'foregroundDebris', 'memorial',\n",
       "       'bonfire', 'payphone', 'darkChaser', 'dreammirror', 'torch',\n",
       "       'seeker', 'seekerBarrier', 'cobweb', 'templeGate', 'dashSwitchV',\n",
       "       'gondola', 'templeMirrorPortal', 'templeCrackedBlock', 'key',\n",
       "       'templeMirror', 'theoCrystal', 'dashSwitchH',\n",
       "       'theoCrystalHoldingBarrier', 'templeEye', 'lockBlock',\n",
       "       'conditionBlock', 'theoCrystalPedestal', 'playerSeeker',\n",
       "       'blockField', 'seekerStatue', 'templeBigEyeball', 'glider',\n",
       "       'lightning', 'floatySpaceBlock', 'lightningBlock', 'flingBird',\n",
       "       'crumbleWallOnRumble', 'eyebomb', 'moonCreature', 'birdPath',\n",
       "       'kevins_pc', 'crushBlock', 'triggerSpikesRight', 'flingBirdIntro',\n",
       "       'cutsceneNode', 'powerSourceNumber', 'playbackTutorial',\n",
       "       'playbackBillboard', 'triggerSpikesUp', 'wavedashmachine',\n",
       "       'waterfall', 'water', 'whiteblock', 'ridgeGate', 'sinkingPlatform',\n",
       "       'resortLantern', 'summitgem', 'summitcloud', 'summitGemManager',\n",
       "       'clothesline', 'coverupWall', 'trapdoor', 'birdForsakenCityGem',\n",
       "       'memorialTextController', 'introCrusher', 'bridge', 'hahaha',\n",
       "       'friendlyGhost', 'redBlocks', 'finalBoss', 'tentacles',\n",
       "       'finalBossFallingBlock', 'finalBossMovingBlock', 'bigWaterfall',\n",
       "       'reflectionHeartStatue', 'plateau', 'greenBlocks', 'yellowBlocks',\n",
       "       'colorSwitch', 'clutterCabinet', 'picoconsole',\n",
       "       'triggerSpikesDown', 'clutterDoor', 'resortmirror',\n",
       "       'resortRoofEnding', 'oshirodoor'], dtype=object)"
      ]
     },
     "execution_count": 94,
     "metadata": {},
     "output_type": "execute_result"
    }
   ],
   "source": [
    "df_entities[\"__name\"].unique()"
   ]
  },
  {
   "cell_type": "code",
   "execution_count": 123,
   "metadata": {},
   "outputs": [],
   "source": [
    "default_entity_map = {\n",
    "    \"spikesUp\": \"^\",\n",
    "    \"spikesLeft\": \"<\",\n",
    "    \"spikesDown\": \"v\",\n",
    "    \"spikesRight\": \">\",\n",
    "    \"player\": \"P\",\n",
    "    \"dreamBlock\": \"D\",\n",
    "    \"crumbleBlock\": \"C\",\n",
    "    \"jumpThru\": \"_\",\n",
    "    \"greenBooster\": \"O\",\n",
    "    \"redBooster\": \"Q\",\n",
    "    \"water\": \"W\",\n",
    "    \"spinner\": \"S\",\n",
    "    \"bumper\": \"B\",\n",
    "    \"refill\": \"R\",\n",
    "    \"feather\": \"F\",\n",
    "    \"lightbeam\": \"L\",\n",
    "}\n",
    "\n",
    "l_main_entities = list(default_entity_map.keys())"
   ]
  },
  {
   "cell_type": "code",
   "execution_count": 126,
   "metadata": {},
   "outputs": [],
   "source": [
    "df_entities_main = df_entities.loc[df_entities[\"__name\"].isin(l_main_entities), :]"
   ]
  },
  {
   "cell_type": "code",
   "execution_count": 140,
   "metadata": {},
   "outputs": [],
   "source": [
    "df_entities_main_rooms_40_23 = df_entities_main[df_entities_main[\"room_name\"].isin(l_fp_main_rooms)]"
   ]
  },
  {
   "cell_type": "code",
   "execution_count": 148,
   "metadata": {},
   "outputs": [],
   "source": [
    "df_entities.groupby(\"room_name\").count()[\"__name\"].to_csv(\"nb_entities_per_room.csv\")"
   ]
  },
  {
   "cell_type": "code",
   "execution_count": 150,
   "metadata": {},
   "outputs": [
    {
     "data": {
      "text/plain": [
       "room_name\n",
       "../levels/6-Reflection/lvl_b-02_entities.json     529\n",
       "../levels/7-Summit/lvl_g-01_entities.json        1190\n",
       "../levels/7-Summit/lvl_g-03_entities.json         672\n",
       "../levels/7H-Summit/lvl_g-01_entities.json       1060\n",
       "../levels/7H-Summit/lvl_g-02_entities.json        642\n",
       "../levels/7X-Summit/lvl_03_entities.json          705\n",
       "../levels/LostLevels/lvl_g-06_entities.json      1318\n",
       "../levels/LostLevels/lvl_h-10_entities.json       898\n",
       "../levels/LostLevels/lvl_j-16_entities.json      1257\n",
       "../levels/LostLevels/lvl_j-19_entities.json       757\n",
       "Name: __name, dtype: int64"
      ]
     },
     "execution_count": 150,
     "metadata": {},
     "output_type": "execute_result"
    }
   ],
   "source": [
    "df_entities.groupby(\"room_name\").count()[\"__name\"][df_entities.groupby(\"room_name\").count()[\"__name\"] > 500]"
   ]
  },
  {
   "cell_type": "markdown",
   "metadata": {},
   "source": [
    "## NEED function to display room with fn"
   ]
  },
  {
   "cell_type": "code",
   "execution_count": 151,
   "metadata": {},
   "outputs": [],
   "source": [
    "def display_room_celeste(lvl_name, room_name):\n",
    "    \"\"\"\n",
    "    Displays room just like in Ahorn? Have a look at Ahorn source code/ask Cruor?\n",
    "    \"\"\"\n",
    "    raise NotImplementedError"
   ]
  },
  {
   "cell_type": "code",
   "execution_count": null,
   "metadata": {},
   "outputs": [],
   "source": []
  }
 ],
 "metadata": {
  "kernelspec": {
   "display_name": "Python 3",
   "language": "python",
   "name": "python3"
  },
  "language_info": {
   "codemirror_mode": {
    "name": "ipython",
    "version": 3
   },
   "file_extension": ".py",
   "mimetype": "text/x-python",
   "name": "python",
   "nbconvert_exporter": "python",
   "pygments_lexer": "ipython3",
   "version": "3.11.1"
  },
  "orig_nbformat": 4,
  "vscode": {
   "interpreter": {
    "hash": "369f2c481f4da34e4445cda3fffd2e751bd1c4d706f27375911949ba6bb62e1c"
   }
  }
 },
 "nbformat": 4,
 "nbformat_minor": 2
}
