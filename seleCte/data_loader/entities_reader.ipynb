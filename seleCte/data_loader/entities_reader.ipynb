{
 "cells": [
  {
   "cell_type": "code",
   "execution_count": 1,
   "metadata": {},
   "outputs": [],
   "source": [
    "import json\n",
    "import pandas as pd\n",
    "import numpy as np"
   ]
  },
  {
   "cell_type": "code",
   "execution_count": 4,
   "metadata": {},
   "outputs": [],
   "source": [
    "json_temp = []\n",
    "\n",
    "with open(\n",
    "    \"D:/master_thesis_v2/Code/Celeste-PCG/data/1-ForsakenCity/lvl_end_entities.json\",\n",
    "    \"r\",\n",
    ") as f:\n",
    "    for i in f:\n",
    "        json_temp.append(json.loads(i))\n",
    "f.close()\n",
    "\n",
    "json_entities = [j for j in json_temp[0]]"
   ]
  },
  {
   "cell_type": "code",
   "execution_count": 5,
   "metadata": {},
   "outputs": [
    {
     "data": {
      "text/plain": [
       "5"
      ]
     },
     "execution_count": 5,
     "metadata": {},
     "output_type": "execute_result"
    }
   ],
   "source": [
    "len(json_entities)"
   ]
  },
  {
   "cell_type": "code",
   "execution_count": 16,
   "metadata": {},
   "outputs": [
    {
     "data": {
      "text/plain": [
       "[{'__name': 'memorial',\n",
       "  'id': 0,\n",
       "  'x': 160,\n",
       "  'originX': 16,\n",
       "  'originY': 16,\n",
       "  'dreaming': False,\n",
       "  'y': 128},\n",
       " {'__name': 'jumpThru',\n",
       "  'id': 1,\n",
       "  'x': 48,\n",
       "  'width': 24,\n",
       "  'originX': 0,\n",
       "  'originY': 0,\n",
       "  'texture': 'default',\n",
       "  'y': 160},\n",
       " {'__name': 'player',\n",
       "  'id': 2,\n",
       "  'x': 56,\n",
       "  'width': 8,\n",
       "  'originX': 4,\n",
       "  'originY': 8,\n",
       "  'y': 160},\n",
       " {'__name': 'bonfire',\n",
       "  'mode': 'unlit',\n",
       "  'id': 3,\n",
       "  'x': 256,\n",
       "  'originX': 0,\n",
       "  'originY': 16,\n",
       "  'y': 152},\n",
       " {'__name': 'memorialTextController',\n",
       "  'id': 4,\n",
       "  'x': 104,\n",
       "  'originX': 8,\n",
       "  'originY': 8,\n",
       "  'y': 88}]"
      ]
     },
     "execution_count": 16,
     "metadata": {},
     "output_type": "execute_result"
    }
   ],
   "source": [
    "json_entities"
   ]
  },
  {
   "cell_type": "code",
   "execution_count": 13,
   "metadata": {},
   "outputs": [
    {
     "data": {
      "text/plain": [
       "{'__name': 'memorial',\n",
       " 'id': 0,\n",
       " 'x': 160,\n",
       " 'originX': 16,\n",
       " 'originY': 16,\n",
       " 'dreaming': False,\n",
       " 'y': 128}"
      ]
     },
     "execution_count": 13,
     "metadata": {},
     "output_type": "execute_result"
    }
   ],
   "source": [
    "json_entities[0]"
   ]
  },
  {
   "cell_type": "code",
   "execution_count": 9,
   "metadata": {},
   "outputs": [
    {
     "name": "stdout",
     "output_type": "stream",
     "text": [
      "[{'__name': 'memorial', 'id': 0, 'x': 160, 'originX': 16, 'originY': 16, 'dreaming': False, 'y': 128}, {'__name': 'jumpThru', 'id': 1, 'x': 48, 'width': 24, 'originX': 0, 'originY': 0, 'texture': 'default', 'y': 160}, {'__name': 'player', 'id': 2, 'x': 56, 'width': 8, 'originX': 4, 'originY': 8, 'y': 160}, {'__name': 'bonfire', 'mode': 'unlit', 'id': 3, 'x': 256, 'originX': 0, 'originY': 16, 'y': 152}, {'__name': 'memorialTextController', 'id': 4, 'x': 104, 'originX': 8, 'originY': 8, 'y': 88}]\n"
     ]
    }
   ],
   "source": [
    "print(json_entities)"
   ]
  }
 ],
 "metadata": {
  "kernelspec": {
   "display_name": "Python 3",
   "language": "python",
   "name": "python3"
  },
  "language_info": {
   "codemirror_mode": {
    "name": "ipython",
    "version": 3
   },
   "file_extension": ".py",
   "mimetype": "text/x-python",
   "name": "python",
   "nbconvert_exporter": "python",
   "pygments_lexer": "ipython3",
   "version": "3.10.2"
  },
  "orig_nbformat": 4,
  "vscode": {
   "interpreter": {
    "hash": "369f2c481f4da34e4445cda3fffd2e751bd1c4d706f27375911949ba6bb62e1c"
   }
  }
 },
 "nbformat": 4,
 "nbformat_minor": 2
}
