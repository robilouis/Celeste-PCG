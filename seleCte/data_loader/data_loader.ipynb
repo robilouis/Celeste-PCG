{
 "cells": [
  {
   "cell_type": "markdown",
   "metadata": {},
   "source": [
    "# Celeste Data Loader"
   ]
  },
  {
   "cell_type": "markdown",
   "metadata": {},
   "source": [
    "### Decode Celeste playable binary files into a set of csv & json files containing background, foreground, and entities data for each room composing a given level."
   ]
  },
  {
   "cell_type": "code",
   "execution_count": 1,
   "metadata": {},
   "outputs": [],
   "source": [
    "using Pkg\n",
    "using DelimitedFiles\n",
    "using Maple\n",
    "using JSON"
   ]
  },
  {
   "cell_type": "markdown",
   "metadata": {},
   "source": [
    "#### Get all filenames of levels to loop later on"
   ]
  },
  {
   "cell_type": "code",
   "execution_count": null,
   "metadata": {},
   "outputs": [],
   "source": [
    "PATH_TO_CELESTE_LEVELS = \"../data/levels/strawberryjam/0-Gyms/\"  # set the right filepath here - and add the maps binary files to decode accordingly\n",
    "\n",
    "CELESTE_LEVELS_FILENAME_VECT = Vector{String}()\n",
    "for name in readdir(PATH_TO_CELESTE_LEVELS)\n",
    "    push!(CELESTE_LEVELS_FILENAME_VECT, PATH_TO_CELESTE_LEVELS*name)\n",
    "end"
   ]
  },
  {
   "cell_type": "code",
   "execution_count": 76,
   "metadata": {},
   "outputs": [
    {
     "data": {
      "text/plain": [
       "12-element Vector{String}:\n",
       " \"../data/levels/strawberryjam/0-Gyms/0-Prologue.bin\"\n",
       " \"../data/levels/strawberryjam/0-Gyms/0-Prologue.texturecache.txt\"\n",
       " \"../data/levels/strawberryjam/0-Gyms/1-Beginner.bin\"\n",
       " \"../data/levels/strawberryjam/0-Gyms/1-Beginner.texturecache.txt\"\n",
       " \"../data/levels/strawberryjam/0-Gyms/2-Intermediate.bin\"\n",
       " \"../data/levels/strawberryjam/0-Gyms/2-Intermediate.texturecache.txt\"\n",
       " \"../data/levels/strawberryjam/0-Gyms/3-Advanced.bin\"\n",
       " \"../data/levels/strawberryjam/0-Gyms/3-Advanced.texturecache.txt\"\n",
       " \"../data/levels/strawberryjam/0-Gyms/4-Expert.bin\"\n",
       " \"../data/levels/strawberryjam/0-Gyms/4-Expert.texturecache.txt\"\n",
       " \"../data/levels/strawberryjam/0-Gyms/5-Grandmaster.bin\"\n",
       " \"../data/levels/strawberryjam/0-Gyms/5-Grandmaster.texturecache.txt\""
      ]
     },
     "metadata": {},
     "output_type": "display_data"
    }
   ],
   "source": [
    "CELESTE_LEVELS_FILENAME_VECT"
   ]
  },
  {
   "cell_type": "markdown",
   "metadata": {},
   "source": [
    "#### Checking names and extensions"
   ]
  },
  {
   "cell_type": "code",
   "execution_count": 33,
   "metadata": {},
   "outputs": [
    {
     "data": {
      "text/plain": [
       "filepath_to_name (generic function with 1 method)"
      ]
     },
     "metadata": {},
     "output_type": "display_data"
    }
   ],
   "source": [
    "function filepath_to_name(fp)\n",
    "    split(last(split(fp, '/')), '.')[1]\n",
    "end"
   ]
  },
  {
   "cell_type": "code",
   "execution_count": 34,
   "metadata": {},
   "outputs": [
    {
     "data": {
      "text/plain": [
       "\"Arphimigon\""
      ]
     },
     "metadata": {},
     "output_type": "display_data"
    }
   ],
   "source": [
    "filepath_to_name(CELESTE_LEVELS_FILENAME_VECT[1])"
   ]
  },
  {
   "cell_type": "code",
   "execution_count": null,
   "metadata": {},
   "outputs": [
    {
     "data": {
      "text/plain": [
       "is_file_bin (generic function with 1 method)"
      ]
     },
     "metadata": {},
     "output_type": "display_data"
    }
   ],
   "source": [
    "function check_file_extension(fp)\n",
    "    split(last(split(fp, '/')), '.')[2]\n",
    "end"
   ]
  },
  {
   "cell_type": "code",
   "execution_count": 36,
   "metadata": {},
   "outputs": [
    {
     "data": {
      "text/plain": [
       "\"../data/levels/strawberryjam/2-Intermediate/Arphimigon.bin\""
      ]
     },
     "metadata": {},
     "output_type": "display_data"
    }
   ],
   "source": [
    "CELESTE_LEVELS_FILENAME_VECT[1]"
   ]
  },
  {
   "cell_type": "code",
   "execution_count": null,
   "metadata": {},
   "outputs": [
    {
     "data": {
      "text/plain": [
       "\"bin\""
      ]
     },
     "metadata": {},
     "output_type": "display_data"
    }
   ],
   "source": [
    "check_file_extension(CELESTE_LEVELS_FILENAME_VECT[1])"
   ]
  },
  {
   "cell_type": "code",
   "execution_count": null,
   "metadata": {},
   "outputs": [
    {
     "data": {
      "text/plain": [
       "true"
      ]
     },
     "metadata": {},
     "output_type": "display_data"
    }
   ],
   "source": [
    "check_file_extension(CELESTE_LEVELS_FILENAME_VECT[1]) == \"bin\""
   ]
  },
  {
   "cell_type": "markdown",
   "metadata": {},
   "source": [
    "#### Fonctions to build a DB (binary files to csv/json triplet)"
   ]
  },
  {
   "cell_type": "code",
   "execution_count": 39,
   "metadata": {},
   "outputs": [
    {
     "data": {
      "text/plain": [
       "room_to_data_files (generic function with 1 method)"
      ]
     },
     "metadata": {},
     "output_type": "display_data"
    }
   ],
   "source": [
    "function room_to_data_files(room, lvl_folder_name)\n",
    "    name = room.name\n",
    "    room_entities = room.entities\n",
    "    l_entities = Vector()\n",
    "    for ent in room_entities\n",
    "        push!(l_entities, Dict(ent))\n",
    "    end\n",
    "    open(lvl_folder_name*name*\"_entities.json\",\"w\") do f \n",
    "        write(f, JSON.json(l_entities))\n",
    "    end\n",
    "    writedlm(lvl_folder_name*name*\"_fg.csv\",  room.fgTiles.data, ';')\n",
    "    writedlm(lvl_folder_name*name*\"_bg.csv\",  room.bgTiles.data, ';')\n",
    "    writedlm(lvl_folder_name*name*\"_obj.csv\",  room.objTiles.data, ';')\n",
    "end"
   ]
  },
  {
   "cell_type": "code",
   "execution_count": null,
   "metadata": {},
   "outputs": [
    {
     "data": {
      "text/plain": [
       "make_database (generic function with 1 method)"
      ]
     },
     "metadata": {},
     "output_type": "display_data"
    }
   ],
   "source": [
    "function make_database(path_database)\n",
    "    for file in CELESTE_LEVELS_FILENAME_VECT\n",
    "        if check_file_extension(file) == \"bin\"\n",
    "            lvl_name = filepath_to_name(file)*'/'\n",
    "            lvl_path = path_database*'/'*lvl_name\n",
    "            mkpath(lvl_path)\n",
    "            map = loadMap(file)\n",
    "            rooms = map.rooms\n",
    "            for room in rooms\n",
    "                room_to_data_files(room, lvl_path)\n",
    "            end\n",
    "        end\n",
    "    end\n",
    "end"
   ]
  },
  {
   "cell_type": "code",
   "execution_count": null,
   "metadata": {},
   "outputs": [],
   "source": [
    "make_database(PATH_TO_CELESTE_LEVELS)"
   ]
  }
 ],
 "metadata": {
  "kernelspec": {
   "display_name": "Julia 1.9.3",
   "language": "julia",
   "name": "julia-1.9"
  },
  "language_info": {
   "file_extension": ".jl",
   "mimetype": "application/julia",
   "name": "julia",
   "version": "1.9.3"
  },
  "orig_nbformat": 4
 },
 "nbformat": 4,
 "nbformat_minor": 2
}
