{
 "cells": [
  {
   "cell_type": "markdown",
   "metadata": {},
   "source": [
    "# Celeste Data Loader"
   ]
  },
  {
   "cell_type": "code",
   "execution_count": 26,
   "metadata": {},
   "outputs": [],
   "source": [
    "using Pkg\n",
    "using DelimitedFiles\n",
    "using Maple\n",
    "using JSON"
   ]
  },
  {
   "cell_type": "markdown",
   "metadata": {},
   "source": [
    "#### Get all filenames of levels to loop later on"
   ]
  },
  {
   "cell_type": "code",
   "execution_count": 2,
   "metadata": {},
   "outputs": [],
   "source": [
    "PATH_TO_CELESTE_LEVELS = \"D:/master_thesis_v2/Code/celeste_maps/\"\n",
    "\n",
    "CELESTE_LEVELS_FILENAME_VECT = Vector{String}()\n",
    "for name in readdir(PATH_TO_CELESTE_LEVELS)\n",
    "    push!(CELESTE_LEVELS_FILENAME_VECT, PATH_TO_CELESTE_LEVELS*name)\n",
    "end"
   ]
  },
  {
   "cell_type": "code",
   "execution_count": 4,
   "metadata": {},
   "outputs": [
    {
     "data": {
      "text/plain": [
       "27-element Vector{String}:\n",
       " \"D:/master_thesis_v2/Code/celeste_maps/0-Intro.bin\"\n",
       " \"D:/master_thesis_v2/Code/celeste_maps/1-ForsakenCity.bin\"\n",
       " \"D:/master_thesis_v2/Code/celeste_maps/1H-ForsakenCity.bin\"\n",
       " \"D:/master_thesis_v2/Code/celeste_maps/1X-ForsakenCity.bin\"\n",
       " \"D:/master_thesis_v2/Code/celeste_maps/2-OldSite.bin\"\n",
       " \"D:/master_thesis_v2/Code/celeste_maps/2H-OldSite.bin\"\n",
       " \"D:/master_thesis_v2/Code/celeste_maps/2X-OldSite.bin\"\n",
       " \"D:/master_thesis_v2/Code/celeste_maps/3-CelestialResort.bin\"\n",
       " \"D:/master_thesis_v2/Code/celeste_maps/3H-CelestialResort.bin\"\n",
       " \"D:/master_thesis_v2/Code/celeste_maps/3X-CelestialResort.bin\"\n",
       " ⋮\n",
       " \"D:/master_thesis_v2/Code/celeste_maps/6X-Reflection.bin\"\n",
       " \"D:/master_thesis_v2/Code/celeste_maps/7-Summit.bin\"\n",
       " \"D:/master_thesis_v2/Code/celeste_maps/7H-Summit.bin\"\n",
       " \"D:/master_thesis_v2/Code/celeste_maps/7X-Summit.bin\"\n",
       " \"D:/master_thesis_v2/Code/celeste_maps/8-Epilogue.bin\"\n",
       " \"D:/master_thesis_v2/Code/celeste_maps/9-Core.bin\"\n",
       " \"D:/master_thesis_v2/Code/celeste_maps/9H-Core.bin\"\n",
       " \"D:/master_thesis_v2/Code/celeste_maps/9X-Core.bin\"\n",
       " \"D:/master_thesis_v2/Code/celeste_maps/LostLevels.bin\""
      ]
     },
     "metadata": {},
     "output_type": "display_data"
    }
   ],
   "source": [
    "CELESTE_LEVELS_FILENAME_VECT"
   ]
  },
  {
   "cell_type": "markdown",
   "metadata": {},
   "source": [
    "#### Define functions to access methods and attributes associated to an object"
   ]
  },
  {
   "cell_type": "code",
   "execution_count": 7,
   "metadata": {},
   "outputs": [
    {
     "data": {
      "text/plain": [
       "attributes (generic function with 1 method)"
      ]
     },
     "metadata": {},
     "output_type": "display_data"
    }
   ],
   "source": [
    "function allinfo(a)\n",
    "    type = typeof(a)\n",
    "    display(fieldnames(type))\n",
    "    methodswith(type)\n",
    " end\n",
    "\n",
    " function attributes(a)\n",
    "    type = typeof(a)\n",
    "    fieldnames(type)\n",
    "end"
   ]
  },
  {
   "cell_type": "code",
   "execution_count": 8,
   "metadata": {},
   "outputs": [
    {
     "data": {
      "text/plain": [
       "(:fgDecals, :bgDecals, :fgTiles, :bgTiles, :objTiles, :entities, :triggers, :name, :color, :position, :size, :musicLayer1, :musicLayer2, :musicLayer3, :musicLayer4, :musicProgress, :ambienceProgress, :delayAltMusicFade, :dark, :space, :underwater, :whisper, :music, :altMusic, :disableDownTransition, :windPattern, :cameraOffsetX, :cameraOffsetY)"
      ]
     },
     "metadata": {},
     "output_type": "display_data"
    }
   ],
   "source": [
    "ROOM_ATTR = fieldnames(Room)"
   ]
  },
  {
   "cell_type": "code",
   "execution_count": 13,
   "metadata": {},
   "outputs": [
    {
     "data": {
      "text/plain": [
       "\"D:/master_thesis_v2/Code/celeste_maps/1-ForsakenCity.bin\""
      ]
     },
     "metadata": {},
     "output_type": "display_data"
    }
   ],
   "source": [
    "CELESTE_LEVELS_FILENAME_VECT[2]"
   ]
  },
  {
   "cell_type": "code",
   "execution_count": 14,
   "metadata": {},
   "outputs": [
    {
     "data": {
      "text/plain": [
       "Room(Decal[Decal(\"generic\\\\hanginggrass_a.png\", 0x30, 0x20, 0x01, 0x01), Decal(\"generic\\\\snow_b.png\", 272, 0x30, 0x01, 0x01), Decal(\"generic\\\\grass_a.png\", 0x60, 0x7c, -1, 0x01), Decal(\"generic\\\\grass_d.png\", 0x24, 0x8c, -1, 0x01)], Decal[Decal(\"1-forsakencity\\\\collumn_small_broken.png\", 256, 0x68, 0x01, -1), Decal(\"1-forsakencity\\\\collumn_small_E.png\", 256, 0x58, 0x01, -1), Decal(\"1-forsakencity\\\\Collumn_concrete_E_broken.png\", 0x34, 0x50, 0x01, -1), Decal(\"1-forsakencity\\\\sign_under_construction.png\", 0x5c, 0x68, 0x01, 0x01), Decal(\"1-forsakencity\\\\box.png\", 0xa4, 0x44, 0x01, 0x01), Decal(\"generic\\\\snow_e.png\", 0x9c, 0x50, 0x01, 0x01), Decal(\"generic\\\\snow_d.png\", 0x38, 0x30, 0x01, 0x01), Decal(\"generic\\\\snow_d.png\", 0xae, 0x50, 0x01, 0x01), Decal(\"generic\\\\snow_d.png\", 0x52, 0x80, -1, 0x01), Decal(\"generic\\\\snow_g.png\", 0x68, 0x08, 0x01, 0x01)  …  Decal(\"generic\\\\snow_h.png\", 0x4f, 0x0c, 0x01, 0x01), Decal(\"generic\\\\snow_c.png\", 257, 0x58, 0x01, -1), Decal(\"1-forsakencity\\\\windowA.png\", 0xfc, 0x20, 0x01, 0x01), Decal(\"1-forsakencity\\\\posterE.png\", 0x58, 0x1c, 0x01, 0x01), Decal(\"1-forsakencity\\\\posterA.png\", 0x98, 0x34, 0x01, 0x01), Decal(\"1-forsakencity\\\\ragsB.png\", 280, 0x68, 0x01, 0x01), Decal(\"1-forsakencity\\\\rags.png\", 0x2c, 0x40, 0x01, 0x01), Decal(\"1-forsakencity\\\\ragsB.png\", 0xd0, 0x14, 0x01, 0x01), Decal(\"1-forsakencity\\\\rags.png\", 0x84, 0x20, -1, 0x01), Decal(\"1-forsakencity\\\\ragsB.png\", 0x5c, 0x14, -1, 0x01)], Tiles(['3' '3' … '7' '7'; '3' '3' … '3' '7'; … ; '1' '1' … '0' '1'; '1' '1' … '0' '1']), Tiles(['1' '1' … '1' '1'; '1' '1' … '1' '1'; … ; '1' '1' … '0' '0'; '1' '1' … '0' '0']), ObjectTiles([-1 -1 … -1 -1; -1 -1 … -1 -1; … ; -1 -1 … -1 -1; -1 -1 … -1 -1]), Entity[Player(\"player\", Dict{String, Any}(\"x\" => 0x13, \"width\" => 0x08, \"originX\" => 0x04, \"originY\" => 0x08, \"y\" => 0x90), 0x00), SpikesUp(\"spikesUp\", Dict{String, Any}(\"x\" => 0x28, \"width\" => 0x28, \"originX\" => 0x00, \"originY\" => 0x04, \"type\" => \"default\", \"y\" => 0xa8), 0x07), SpikesUp(\"spikesUp\", Dict{String, Any}(\"x\" => 0x68, \"width\" => 0x28, \"originX\" => 0x00, \"originY\" => 0x04, \"type\" => \"default\", \"y\" => 0x98), 0x08), SpikesUp(\"spikesUp\", Dict{String, Any}(\"x\" => 0xb0, \"width\" => 0x20, \"originX\" => 0x00, \"originY\" => 0x04, \"type\" => \"default\", \"y\" => 0x80), 0x09), SpikesUp(\"spikesUp\", Dict{String, Any}(\"x\" => 0xd0, \"width\" => 0x18, \"originX\" => 0x00, \"originY\" => 0x04, \"type\" => \"default\", \"y\" => 0xa0), 0x0a), SpikesLeft(\"spikesLeft\", Dict{String, Any}(\"height\" => 0x10, \"x\" => 272, \"originX\" => 0x04, \"originY\" => 0x00, \"type\" => \"default\", \"y\" => 0x50), 0x0b), GoldenStrawberry(\"goldenBerry\", Dict{String, Any}(\"x\" => 0x14, \"originX\" => 0x08, \"originY\" => 0x08, \"y\" => 0x70), 0x0c)], Trigger[], \"lvl_1\", 0x00, (0x00, 0x00), (320, 0xb8), true, true, true, true, \"\", \"\", false, false, false, false, false, \"\", \"\", false, \"None\", 0x00, 0x00)"
      ]
     },
     "metadata": {},
     "output_type": "display_data"
    }
   ],
   "source": [
    "test_map = loadMap(CELESTE_LEVELS_FILENAME_VECT[2])\n",
    "test_map_room1 = test_map.rooms[1]"
   ]
  },
  {
   "cell_type": "code",
   "execution_count": 15,
   "metadata": {},
   "outputs": [
    {
     "data": {
      "text/plain": [
       "(:package, :rooms, :style, :fillers)"
      ]
     },
     "metadata": {},
     "output_type": "display_data"
    },
    {
     "data": {
      "text/html": [
       "4-element Vector{Method}:<ul><li> encodeMap(map::<b>Map</b>, outfile::<b>String</b>) in Maple at <a href=\"file://C:/Users/louis/.julia/packages/Maple/7xztF/src/map.jl\" target=\"_blank\">C:\\Users\\louis\\.julia\\packages\\Maple\\7xztF\\src\\map.jl:84</a><li> getRoomByName(map::<b>Map</b>, name::<b>String</b>) in Maple at <a href=\"file://C:/Users/louis/.julia/packages/Maple/7xztF/src/map.jl\" target=\"_blank\">C:\\Users\\louis\\.julia\\packages\\Maple\\7xztF\\src\\map.jl:43</a><li> ==(lhs::<b>Map</b>, rhs::<b>Map</b>) in Maple at <a href=\"file://C:/Users/louis/.julia/packages/Maple/7xztF/src/macros.jl\" target=\"_blank\">C:\\Users\\louis\\.julia\\packages\\Maple\\7xztF\\src\\macros.jl:224</a><li> hash(s::<b>Map</b>, h::<b>UInt64</b>) in Maple at <a href=\"file://C:/Users/louis/.julia/packages/Maple/7xztF/src/macros.jl\" target=\"_blank\">C:\\Users\\louis\\.julia\\packages\\Maple\\7xztF\\src\\macros.jl:225</a></ul>"
      ],
      "text/plain": [
       "[1] encodeMap(map::Map, outfile::String) in Maple at C:\\Users\\louis\\.julia\\packages\\Maple\\7xztF\\src\\map.jl:84\n",
       "[2] getRoomByName(map::Map, name::String) in Maple at C:\\Users\\louis\\.julia\\packages\\Maple\\7xztF\\src\\map.jl:43\n",
       "[3] ==(lhs::Map, rhs::Map) in Maple at C:\\Users\\louis\\.julia\\packages\\Maple\\7xztF\\src\\macros.jl:224\n",
       "[4] hash(s::Map, h::UInt64) in Maple at C:\\Users\\louis\\.julia\\packages\\Maple\\7xztF\\src\\macros.jl:225"
      ]
     },
     "metadata": {},
     "output_type": "display_data"
    }
   ],
   "source": [
    "allinfo(test_map)"
   ]
  },
  {
   "cell_type": "code",
   "execution_count": 16,
   "metadata": {},
   "outputs": [
    {
     "data": {
      "text/plain": [
       "(:fgDecals, :bgDecals, :fgTiles, :bgTiles, :objTiles, :entities, :triggers, :name, :color, :position, :size, :musicLayer1, :musicLayer2, :musicLayer3, :musicLayer4, :musicProgress, :ambienceProgress, :delayAltMusicFade, :dark, :space, :underwater, :whisper, :music, :altMusic, :disableDownTransition, :windPattern, :cameraOffsetX, :cameraOffsetY)"
      ]
     },
     "metadata": {},
     "output_type": "display_data"
    },
    {
     "data": {
      "text/html": [
       "2-element Vector{Method}:<ul><li> ==(lhs::<b>Room</b>, rhs::<b>Room</b>) in Maple at <a href=\"file://C:/Users/louis/.julia/packages/Maple/7xztF/src/macros.jl\" target=\"_blank\">C:\\Users\\louis\\.julia\\packages\\Maple\\7xztF\\src\\macros.jl:224</a><li> hash(s::<b>Room</b>, h::<b>UInt64</b>) in Maple at <a href=\"file://C:/Users/louis/.julia/packages/Maple/7xztF/src/macros.jl\" target=\"_blank\">C:\\Users\\louis\\.julia\\packages\\Maple\\7xztF\\src\\macros.jl:225</a></ul>"
      ],
      "text/plain": [
       "[1] ==(lhs::Room, rhs::Room) in Maple at C:\\Users\\louis\\.julia\\packages\\Maple\\7xztF\\src\\macros.jl:224\n",
       "[2] hash(s::Room, h::UInt64) in Maple at C:\\Users\\louis\\.julia\\packages\\Maple\\7xztF\\src\\macros.jl:225"
      ]
     },
     "metadata": {},
     "output_type": "display_data"
    }
   ],
   "source": [
    "allinfo(test_map_room1)"
   ]
  },
  {
   "cell_type": "markdown",
   "metadata": {},
   "source": [
    "#### Get info from a room"
   ]
  },
  {
   "cell_type": "code",
   "execution_count": 17,
   "metadata": {},
   "outputs": [
    {
     "data": {
      "text/plain": [
       "38"
      ]
     },
     "metadata": {},
     "output_type": "display_data"
    }
   ],
   "source": [
    "nb_rooms = size(test_map.rooms)[1]"
   ]
  },
  {
   "cell_type": "code",
   "execution_count": 19,
   "metadata": {},
   "outputs": [
    {
     "data": {
      "text/plain": [
       "Room(Decal[Decal(\"generic\\\\snow_b.png\", 0x50, 0x48, -1, 0x01), Decal(\"generic\\\\snow_e.png\", 0x58, 0x50, 0x01, 0x01)], Decal[Decal(\"1-forsakencity\\\\big_sign_c.png\", 0x98, 0x7c, 0x01, 0x01), Decal(\"1-forsakencity\\\\posterB.png\", 340, 0xe8, 0x01, 0x01), Decal(\"1-forsakencity\\\\posterA.png\", 348, 0xe0, 0x01, 0x01), Decal(\"1-forsakencity\\\\posterC.png\", 356, 0xec, 0x01, 0x01), Decal(\"1-forsakencity\\\\posterD.png\", 360, 0xdc, 0x01, 0x01), Decal(\"1-forsakencity\\\\posterB.png\", 364, 0xe4, 0x01, 0x01), Decal(\"1-forsakencity\\\\posterA.png\", 352, 0xd4, 0x01, 0x01), Decal(\"1-forsakencity\\\\posterD.png\", 344, 0xd8, 0x01, 0x01), Decal(\"1-forsakencity\\\\posterC.png\", 340, 0xd0, 0x01, 0x01), Decal(\"1-forsakencity\\\\posterE.png\", 372, 0xe8, 0x01, 0x01)  …  Decal(\"1-forsakencity\\\\post_extra_broken.png\", 0x94, 0xdc, -1, 0x01), Decal(\"1-forsakencity\\\\post_extra_broken.png\", 264, 0x58, 0x01, 0x01), Decal(\"1-forsakencity\\\\post_extra_broken.png\", 284, 0x5c, -1, 0x01), Decal(\"1-forsakencity\\\\paint_buckets.png\", 0x50, 0x48, 0x01, 0x01), Decal(\"1-forsakencity\\\\collumn_small_E.png\", 0x38, 0xf0, 0x01, 0x01), Decal(\"1-forsakencity\\\\collumn_small_broken.png\", 0x38, 0xe0, 0x01, 0x01), Decal(\"1-forsakencity\\\\posterB.png\", 0x24, 0xe4, 0x01, 0x01), Decal(\"1-forsakencity\\\\Collumn_concrete_E_less_broken.png\", 312, 0x1c, 0x01, -1), Decal(\"1-forsakencity\\\\collumn_small_broken.png\", 0xf0, 0x48, 0x01, -1), Decal(\"1-forsakencity\\\\windowC.png\", 0x68, 0x9c, 0x01, 0x01)], Tiles(['3' '3' … '3' '3'; '3' '3' … '3' '3'; … ; '7' '7' … '3' '3'; '7' '7' … '3' '3']), Tiles(['0' '0' … '0' '0'; '0' '0' … '0' '0'; … ; '1' '1' … '0' '0'; '0' '0' … '0' '0']), ObjectTiles([-1 -1 … -1 -1; -1 -1 … -1 -1; … ; -1 -1 … -1 -1; -1 -1 … -1 -1]), Entity[JumpThru(\"jumpThru\", Dict{String, Any}(\"x\" => 0x28, \"width\" => 0x18, \"originX\" => 0x00, \"originY\" => 0x00, \"texture\" => \"default\", \"y\" => 0xf8), 0x00), Player(\"player\", Dict{String, Any}(\"x\" => 0x30, \"width\" => 0x08, \"originX\" => 0x04, \"originY\" => 0x08, \"y\" => 0xf8), 0x02), SpikesUp(\"spikesUp\", Dict{String, Any}(\"x\" => 0x78, \"width\" => 0x08, \"originX\" => 0x00, \"originY\" => 0x04, \"type\" => \"default\", \"y\" => 0xf0), 0x05), SpikesUp(\"spikesUp\", Dict{String, Any}(\"x\" => 0x80, \"width\" => 0x20, \"originX\" => 0x00, \"originY\" => 0x04, \"type\" => \"default\", \"y\" => 0xe8), 0x06), SpikesUp(\"spikesUp\", Dict{String, Any}(\"x\" => 0xa0, \"width\" => 0x20, \"originX\" => 0x00, \"originY\" => 0x04, \"type\" => \"default\", \"y\" => 0xc8), 0x07), SpikesUp(\"spikesUp\", Dict{String, Any}(\"x\" => 0xc0, \"width\" => 0x10, \"originX\" => 0x00, \"originY\" => 0x04, \"type\" => \"default\", \"y\" => 0xd0), 0x08), Strawberry(\"strawberry\", Dict{String, Any}(\"winged\" => false, \"order\" => 0x01, \"x\" => 264, \"checkpointID\" => 0x02, \"originX\" => 0x04, \"originY\" => 0x04, \"y\" => 0xd8), 0x09), JumpThru(\"jumpThru\", Dict{String, Any}(\"x\" => 352, \"width\" => 0x18, \"originX\" => 0x00, \"originY\" => 0x00, \"texture\" => \"default\", \"y\" => 0xf8), 0x0b), Player(\"player\", Dict{String, Any}(\"x\" => 368, \"width\" => 0x08, \"originX\" => 0x04, \"originY\" => 0x08, \"y\" => 0xf8), 0x0c), Spring(\"spring\", Dict{String, Any}(\"playerCanUse\" => true, \"x\" => 320, \"originX\" => 0x04, \"originY\" => 0x08, \"y\" => 0xe0), 0x0e)  …  SpikesUp(\"spikesUp\", Dict{String, Any}(\"x\" => 0xd8, \"width\" => 0x18, \"originX\" => 0x00, \"originY\" => 0x04, \"type\" => \"default\", \"y\" => 0x58), 0x1e), SpikesUp(\"spikesUp\", Dict{String, Any}(\"x\" => 296, \"width\" => 0x08, \"originX\" => 0x00, \"originY\" => 0x04, \"type\" => \"default\", \"y\" => 0x78), 0x23), SpikesDown(\"spikesDown\", Dict{String, Any}(\"x\" => 352, \"width\" => 0x20, \"originX\" => 0x00, \"originY\" => 0x00, \"type\" => \"default\", \"y\" => 0x10), 0x25), Player(\"player\", Dict{String, Any}(\"x\" => 0xd8, \"width\" => 0x08, \"originX\" => 0x04, \"originY\" => 0x08, \"y\" => 0xf8), 0x26), SpikesRight(\"spikesRight\", Dict{String, Any}(\"height\" => 0x28, \"x\" => 0x68, \"originX\" => 0x00, \"originY\" => 0x00, \"type\" => \"default\", \"y\" => 0x60), 0x28), ZipMover(\"zipMover\", Dict{String, Any}(\"nodes\" => Tuple{Integer, Integer}[(64, 176)], \"height\" => 0x18, \"x\" => 0x08, \"width\" => 0x18, \"originX\" => 0x00, \"originY\" => 0x00, \"y\" => 0xb0), 0x29), SpikesRight(\"spikesRight\", Dict{String, Any}(\"height\" => 0x28, \"x\" => 0x50, \"originX\" => 0x00, \"originY\" => 0x00, \"type\" => \"default\", \"y\" => 0x88), 0x2a), Lightbeam(\"lightbeam\", Dict{String, Any}(\"rotation\" => -90, \"height\" => 0x20, \"flag\" => \"\", \"x\" => 0x03, \"width\" => 0x18, \"originX\" => 0x0c, \"originY\" => 0x00, \"y\" => 0xbc), 0x2b), SpikesLeft(\"spikesLeft\", Dict{String, Any}(\"height\" => 0x18, \"x\" => 0xa0, \"originX\" => 0x04, \"originY\" => 0x00, \"type\" => \"default\", \"y\" => 0xc8), 0x2c), SpikesRight(\"spikesRight\", Dict{String, Any}(\"height\" => 0x28, \"x\" => 0x08, \"originX\" => 0x00, \"originY\" => 0x00, \"type\" => \"default\", \"y\" => 0xd0), 0x2d)], Trigger[CameraTargetTrigger(\"cameraTargetTrigger\", Dict{String, Any}(\"yOnly\" => false, \"x\" => 296, \"lerpStrength\" => 0x01, \"positionMode\" => \"BottomToTop\", \"height\" => 0x48, \"xOnly\" => false, \"originX\" => 0x00, \"y\" => 0x58, \"width\" => 0x70, \"originY\" => 0x00…), 0x03)], \"lvl_11\", 0x03, (3352, -2680), (408, 264), true, true, true, true, \"\", \"\", false, false, false, false, false, \"\", \"\", false, \"None\", 0x00, 0x00)"
      ]
     },
     "metadata": {},
     "output_type": "display_data"
    }
   ],
   "source": [
    "test_room = test_map.rooms[6]"
   ]
  },
  {
   "cell_type": "code",
   "execution_count": 20,
   "metadata": {},
   "outputs": [
    {
     "name": "stdout",
     "output_type": "stream",
     "text": [
      "fgDecals\n"
     ]
    },
    {
     "name": "stdout",
     "output_type": "stream",
     "text": [
      "Decal"
     ]
    },
    {
     "name": "stdout",
     "output_type": "stream",
     "text": [
      "[Decal(\"generic\\\\snow_b.png\", "
     ]
    },
    {
     "name": "stdout",
     "output_type": "stream",
     "text": [
      "0x50, 0x48, -1, 0x01), Decal(\"generic\\\\snow_e.png\", 0x58, 0x50, 0x01, 0x01)]\n",
      "\n",
      "bgDecals\n",
      "Decal[Decal(\"1-forsakencity\\\\big_sign_c.png\", 0x98, 0x7c, 0x01, 0x01), Decal(\"1-forsakencity\\\\posterB.png\", 340, 0xe8, 0x01, 0x01), Decal(\"1-forsakencity\\\\posterA.png\", 348, 0xe0, 0x01, 0x01), Decal(\"1-forsakencity\\\\posterC.png\", 356, 0xec, 0x01, 0x01), Decal(\"1-forsakencity\\\\posterD.png\", 360, 0xdc, 0x01, 0x01), Decal(\"1-forsakencity\\\\posterB.png\", 364, 0xe4, 0x01, 0x01), Decal(\"1-forsakencity\\\\posterA.png\", 352, 0xd4, 0x01, 0x01), Decal(\"1-forsakencity\\\\posterD.png\", 344, 0xd8, 0x01, 0x01), Decal(\"1-forsakencity\\\\posterC.png\", 340, 0xd0, 0x01, 0x01), Decal(\"1-forsakencity\\\\posterE.png\", 372, 0xe8, 0x01, 0x01), Decal(\"1-forsakencity\\\\posterA.png\", 368, 0xf4, 0x01, 0x01), Decal(\"1-forsakencity\\\\posterD.png\", 344, 0xf0, 0x01, 0x01), Decal(\"1-forsakencity\\\\posterE.png\", 332, 0xf0, 0x01, 0x01), Decal(\"1-forsakencity\\\\posterA.png\", 332, 0xd8, 0x01, 0x01), Decal(\"1-forsakencity\\\\posterB.png\", 348, 0xc8, 0x01, 0x01), Decal(\"1-forsakencity\\\\posterE.png\", 356, 0xc0, 0x01, 0x01), Decal(\"1-forsakencity\\\\posterC.png\", 344, 0xbc, 0x01, 0x01), Decal(\"1-forsakencity\\\\posterD.png\", 340, 0xc4, 0x01, 0x01), Decal(\"1-forsakencity\\\\posterE.png\", 332, 0xc0, 0x01, 0x01), Decal(\"1-forsakencity\\\\collumn_small_E.png\", 336, 0xb0, 0x01, -1), Decal(\"1-forsakencity\\\\collumn_small_broken_b.png\", 336, 0xc0, 0x01, -1), Decal(\"1-forsakencity\\\\ragsB.png\", 0x94, 0x68, 0x01, 0x01), Decal(\"1-forsakencity\\\\rags.png\", 288, 0x14, 0x01, 0x01), Decal(\"1-forsakencity\\\\posterE.png\", 0x58, 0x3c, 0x01, 0x01), Decal(\"1-forsakencity\\\\posterA.png\", 0x50, 0xe4, 0x01, 0x01), Decal(\"1-forsakencity\\\\collumn_small_E.png\", 0xd0, 0x38, 0x01, 0x01), Decal(\"1-forsakencity\\\\collumn_small_E.png\", 0xd0, 0x20, 0x01, -1), Decal(\"1-forsakencity\\\\collumn"
     ]
    },
    {
     "name": "stdout",
     "output_type": "stream",
     "text": [
      "_small_mid.png\", 0xd0, 0x2c, 0x01, 0x01), Decal(\"1-forsakencity\\\\collumn_small_E.png\", 0x78, 0x48, 0x01, 0x01), Decal(\"1-forsakencity\\\\collumn_small_E.png\", 0x78, 0x30, 0x01, -1), Decal(\"1-forsakencity\\\\collumn_small_mid.png\", 0x78, 0x3c, 0x01, 0x01), Decal(\"1-forsakencity\\\\collumn_small_E.png\", 0xf0, 0x28, 0x01, -1), Decal(\"1-forsakencity\\\\collumn_small_mid.png\", 0xf0, 0x38, 0x01, 0x01), Decal(\"1-forsakencity\\\\collumn_small_E.png\", 0xa8, 0x40, 0x01, 0x01), Decal(\"1-forsakencity\\\\collumn_small_E.png\", 0xa8, 0x20, 0x01, -1), Decal(\"1-forsakencity\\\\collumn_small_broken_b.png\", 0xa8, 0x38, 0x01, 0x01), Decal(\"1-forsakencity\\\\collumn_small_broken.png\", 0xa8, 0x28, 0x01, -1), Decal(\"1-forsakencity\\\\ragsB.png\", 340, 0x14, -1, 0x01), Decal(\"1-forsakencity\\\\old_lamp.png\", 0xc8, 0x7c, 0x01, 0x01), Decal(\"1-forsakencity\\\\post_extra_broken.png\", 0x94, 0xdc, -1, 0x01), Decal(\"1-forsakencity\\\\post_extra_broken.png\", 264, 0x58, 0x01, 0x01), Decal(\"1-forsakencity\\\\post_extra_broken.png\", 284, 0x5c, -1, 0x01), Decal(\"1-forsakencity\\\\paint_buckets.png\", 0x50, 0x48, 0x01, 0x01), Decal(\"1-forsakencity\\\\collumn_small_E.png\", 0x38, 0xf0, 0x01, 0x01), Decal(\"1-forsakencity\\\\collumn_small_broken.png\", 0x38, 0xe0, 0x01, 0x01), Decal(\"1-forsakencity\\\\posterB.png\", 0x24, 0xe4, 0x01, 0x01), Decal(\"1-forsakencity\\\\Collumn_concrete_E_less_broken.png\", 312, 0x1c, 0x01, -1), Decal(\"1-forsakencity\\\\collumn_small_broken.png\", 0xf0, 0x48, 0x01, -1), Decal(\"1-forsakencity\\\\windowC.png\", 0x68, 0x9c, 0x01, 0x01)]\n",
      "\n",
      "fgTiles"
     ]
    },
    {
     "name": "stdout",
     "output_type": "stream",
     "text": [
      "\n",
      "Tiles"
     ]
    },
    {
     "name": "stdout",
     "output_type": "stream",
     "text": [
      "(['3' '3' '3' '3' '3' '3' '3' '3' '3' '4' '0' '0' '0' '4' '3' '3' '3' '3' '3' '3' '3' '3' '3' '3' '3' '3' '3' '3' '3' '3' '3' '3' '3' '3' '3' '3' '3' '3' '3' '3' '3' '3' '3' '3' '3' '3' '3' '3' '3' '3' '3'; '3' '3' '3' '3' '3' '3' '3' '3' '3' '4' '0' '0' '0' '4' '3' '3' '3' '3' '3' '3' '3' '3' '3' '3' '3' '3' '3' '3' '3' '3' '3' '0' '0' '0' '0' '0' '0' '0' '0' '0' '0' '0' '0' '0' '3' '3' '3' '3' '3' '3' '3'; '3' '3' '3' '3' '3' '3' '3' '3' '3' '4' '0' '0' '0' '4' '3' '3' '3' '3' '3' '3' '3' '3' '3' '3' '3' '3' '3' '3' '3' '3' '3' '0' '0' '0' '0' '0' '0' '0' '0' '0' '0' '0' '0' '0' '0' '0' '0' '0' '3' '3' '3'; '3' '3' '3' '3' '3' '3' '3' '3' '3' '4' '0' '0' '0' '4' '3' '3' '3' '0' '0' '0' '0' '0' '0' '0' '0' '0' '0' '0' '0' '3' '3' '0' '0' '0' '0' '0' '0' '0' '0' '0' '0' '0' '0' '0' '0' '0' '0' '0' '0' '3' '3'; '3' '3' '3' '3' '3' '3' '3' '3' '3' '4' '0' '0' '0' '4' '3' '3' '0' '0' '0' '0' '0' '0' '0' '0' '0' '0' '0' '0' '0' '0' '0' '0' '0' '0' '0' '0' '0' '0' '0' '0' '0' '0' '0' '0' '0' '0' '0' '0' '0' '3' '3'; '3' '3' '3' '3' '3' '3' '3' '3' '3' '0' '0' '0' '0' '4' '0' '0' '0' '0' '0' '0' '0' '0' '0' '0' '0' '0' '0' '0' '0' '0' '0' '0' '0' '0' '0' '0' '0' '0' '0' '0' '0' '0' '0' '0' '0' '0' '0' '0' '0' '0' '3'; '3' '3' '3' '3' '3' '3' '3' '3' '3' '0' '0' '0' '0' '4' '0' '0' '0' '0' '0' '0' '0' '0' '0' '0' '0' '0' '0' '0' '0' '0' '0' '0' '0' '0' '0' '0' '"
     ]
    },
    {
     "name": "stdout",
     "output_type": "stream",
     "text": [
      "0' '0' '0' '0' '0' '0' '0' '0' '0' '0' '0' '0' '0' '0' '3'; '3' '3' '3' '3' '3' '3' '3' '3' '3' '0' '0' '0' '0' '0' '0' '0' '0' '0' '0' '0' '0' '0' '0' '0' '0' '0' '0' '0' '0' '0' '0' '0' '0' '0' '0' '0' '0' '0' '0' '0' '0' '0' '0' '0' '0' '0' '0' '0' '0' '0' '3'; '3' '3' '3' '3' '3' '3' '3' '3' '3' '0' '0' '0' '0' '0' '0' '0' '0' '0' '0' '0' '0' '0' '0' '0' '0' '3' '3' '0' '0' '0' '0' '0' '0' '0' '0' '0' '0' '0' '0' '0' '0' '0' '0' '0' '0' '0' '0' '0' '0' '0' '3'; '3' '3' '3' '3' '3' '3' '3' '3' '3' '0' '0' '0' '0' '0' '0' '0' '0' '0' '0' '0' '7' '7' '7' '7' '3' '3' '3' '0' '0' '0' '0' '0' '0' '0' '0' '0' '0' '0' '0' '0' '0' '0' '0' '0' '0' '0' '0' '0' '0' '0' '3'; '3' '3' '3' '3' '3' '3' '3' '7' '7' '7' '7' '7' '7' '7' '7' '7' '0' '0' '0' '0' '7' '7' '7' '7' '7' '3' '3' '0' '0' '0' '0' '0' '0' '0' '0' '0' '0' '0' '0' '0' '0' '0' '0' '0' '0' '0' '0' '0' '0' '0' '3'; '3' '3' '3' '3' '3' '3' '3' '7' '7' '7' '7' '7' '7' '7' '7' '7' '7' '7' '7' '7' '7' '7' '7' '7' '7' '7' '3' '7' '7' '7' '0' '0' '0' '0' '0' '0' '0' '0' '0' '0' '0' '0' '0' '0' '0' '0' '0' '0' '0' '0' '3'; '3' '3' '3' '3' '3' '3' '3' '7' '7' '7' '7' '7' '7' '0' '0' '0' '0' '0' '0' '0' '7' '7' '7' '7' '7' '7' '7' '7' '7' '7' '7' '7' '7' '7' '7' '7' '7' '0' '0' '0' '0' '0' '0' '0' '0' '0' '0' '0' '0' '0' '3'; '3' '3' '3' '3' '3' '3' '3' '7' '7' '7' '7' '7' '7' '0' '0' '0' '0' '0' '0' '0' '0' '0' '0' '0' '7' '7' '7' '7' '7' '7' '7' '7' '7' '7' '7' '7' '7' '0' '0' '0' '0' '0' '0' '0' '0' '0' '0' '0' '0' '0' '3'; '3' '3' '3' '3' '3' '3' '3' '7' '7' '7' '7' '7' '7' '0' '0' '0' '0' '0' '0' '0' '0"
     ]
    },
    {
     "name": "stdout",
     "output_type": "stream",
     "text": [
      "' '0' '0' '0' '0' '0' '7' '7' '7' '7' '7' '7' '7' '7' '7' '7' '7' '0' '0' '0' '0' '0' '0' '0' '0' '0' '0' '0' '0' '0' '3'; '3' '3' '3' '3' '3' '3' '3' '7' '7' '7' '7' '7' '7' '0' '0' '0' '0' '0' '0' '0' '0' '0' '0' '0' '0' '0' '7' '7' '7' '7' '7' '7' '7' '7' '7' '7' '7' '7' '0' '0' '0' '0' '0' '0' '0' '0' '0' '0' '0' '0' '3'; '3' '3' '3' '3' '3' '3' '3' '7' '7' '7' '7' '7' '7' '0' '0' '0' '0' '0' '0' '0' '0' '0' '0' '0' '0' '0' '0' '0' '0' '0' '0' '0' '7' '7' '7' '7' '7' '7' '0' '0' '0' '0' '0' '0' '0' '0' '0' '0' '0' '0' '3'; '3' '3' '3' '3' '3' '3' '7' '7' '7' '7' '0' '0' '0' '0' '0' '0' '0' '0' '0' '0' '0' '0' '0' '0' '0' '0' '0' '0' '0' '0' '0' '0' '7' '7' '7' '7' '7' '7' '0' '0' '0' '0' '0' '0' '0' '0' '0' '0' '0' '0' '3'; '3' '3' '3' '3' '3' '3' '7' '7' '7' '7' '0' '0' '0' '0' '0' '0' '0' '0' '0' '0' '0' '0' '0' '0' '0' '0' '0' '0' '0' '0' '0' '0' '7' '7' '7' '7' '7' '7' '0' '0' '0' '0' '0' '0' '0' '0' '0' '0' '0' '0' '3'; '3' '3' '3' '3' '3' '7' '7' '7' '7' '7' '0' '0' '0' '0' '0' '0' '0' '0' '0' '0' '0' '0' '0' '0' '0' '0' '0' '0' '0' '0' '0' '0' '7' '7' '7' '7' '7' '7' '0' '0' '0' '0' '0' '0' '0' '0' '0' '0' '0' '0' '3'; '3' '3' '3' '3' '3' '7' '7' '7' '7' '7' '0' '0' '0' '0' '0' '0' '0' '0' '0' '0' '0' '0' '0' '0' '0' '0' '0' '0' '0' '0' '0' '0' '0' '7' '7' '7' '7' '7' '0' '0' '3' '3' '3' '3' '3' '3' '3' '0' '0' '0' '3'; '3' '3' '3' '3' '7' '7' '7' '7' '7' '7' '0' '0' '0' '0' '0' '0' '0' '0' '0' '0' '0' '0' '0' '0' '0' '0' '0' '0' '0' '0' '0' '0' '0' '7' '7' '7' '7' '7' '0' '0' '0' '0' '0' '3' '3' '3' '3' '3' '3' '3' '3'; '0' '0' '0' '0' '0' '0' '0' '0' '0' '0' '0' "
     ]
    },
    {
     "name": "stdout",
     "output_type": "stream",
     "text": [
      "'0' '0' '0' '0' '0' '0' '0' '0' '0' '0' '0' '0' '0' '0' '0' '0' '0' '0' '0' '0' '0' '0' '7' '7' '7' '3' '3' '0' '0' '0' '0' '0' '3' '3' '3' '3' '3' '3' '3' '3'; '0' '0' '0' '0' '0' '0' '0' '0' '0' '0' '0' '0' '0' '0' '0' '0' '0' '0' '0' '0' '0' '0' '0' '0' '0' '0' '0' '0' '0' '0' '0' '0' '0' '7' '7' '7' '3' '3' '0' '0' '0' '0' '0' '0' '0' '3' '3' '3' '3' '3' '3'; '0' '0' '0' '0' '0' '0' '0' '0' '0' '0' '0' '0' '0' '0' '0' '0' '0' '0' '0' '0' '0' '0' '0' '0' '0' '0' '0' '0' '0' '0' '0' '0' '0' '0' '0' '7' '3' '3' '0' '0' '0' '0' '0' '0' '0' '3' '3' '3' '3' '3' '3'; '3' '3' '7' '7' '0' '0' '0' '0' '0' '0' '0' '0' '0' '0' '0' '0' '0' '0' '0' '0' '3' '3' '3' '3' '0' '0' '0' '0' '0' '0' '0' '0' '0' '0' '0' '7' '3' '3' '0' '0' '0' '0' '0' '0' '0' '3' '3' '3' '3' '3' '3'; '3' '0' '0' '0' '0' '0' '0' '0' '0' '0' '0' '0' '0' '0' '0' '0' '0' '0' '0' '0' '3' '3' '3' '3' '7' '7' '0' '0' '0' '0' '0' '0' '0' '0' '0' '7' '3' '3' '0' '0' '0' '0' '0' '0' '0' '0' '3' '3' '3' '3' '3'; '3' '0' '0' '0' '0' '0' '0' '0' '0' '0' '0' '0' '0' '0' '0' '0' '0' '0' '0' '0' '3' '3' '3' '3' '7' '7' '0' '0' '0' '0' '0' '0' '0' '0' '0' '7' '7' '3' '0' '0' '0' '0' '0' '0' '0' '0' '3' '3' '3' '3' '3'; '3' '0' '0' '0' '0' '0' '0' '0' '0' '0' '0' '0' '0' '0' '0' '0' '0' '0' '0' '0' '3' '3' '3' '3' '7' '7' '0' '0' '0' '0' '0' '0' '0' '0' '0' '7' '7' '3' '0' '3' '3' '0' '0' '0' '0' '0' '0' '3' '3' '3' '3'; '3' '0' '0' '0' '0' '0' '0' '0' '0' '0' '0' '0' '0' '0' '0' '0' '7' '7' '7' '7' '3' '3' '3' '3' '7' '7' '0' '0' '0' '0' '0' '0' '0' '0' '0' '7' '7' '3' '3' '3' '3' '0' '0' '0'"
     ]
    },
    {
     "name": "stdout",
     "output_type": "stream",
     "text": [
      " '0' '0' '0' '3' '3' '3' '3'; '7' '0' '0' '0' '0' '0' '0' '0' '0' '0' '0' '0' '0' '0' '0' '7' '7' '7' '7' '7' '7' '7' '7' '7' '7' '7' '0' '0' '0' '0' '0' '7' '7' '7' '7' '7' '7' '3' '3' '3' '3' '0' '0' '0' '0' '0' '0' '3' '3' '3' '3'; '7' '7' '7' '7' '7' '0' '0' '0' '7' '7' '7' '7' '7' '7' '7' '7' '7' '7' '7' '7' '7' '7' '7' '7' '7' '7' '7' '7' '0' '0' '0' '7' '7' '7' '7' '7' '7' '3' '3' '3' '3' '3' '3' '3' '0' '0' '0' '3' '3' '3' '3'; '7' '7' '7' '7' '7' '0' '0' '0' '7' '7' '7' '7' '7' '7' '7' '7' '7' '7' '7' '7' '7' '7' '7' '7' '7' '7' '7' '7' '0' '0' '0' '7' '7' '7' '7' '7' '7' '3' '3' '3' '3' '3' '3' '3' '0' '0' '0' '3' '3' '3' '3'])\n",
      "\n",
      "bgTiles\n",
      "Tiles(['0' '0' '0' '0' '0' '0' '0' '0' '0' '1' '1' '1' '1' '1' '0' '0' '0' '0' '0' '0' '0' '0' '0' '0' '0' '0' '0' '0' '0' '0' '0' '1' '1' '1' '1' '1' '1' '1' '1' '1' '1' '1' '1' '1' '1' '0' '0' '0' '0' '0' '0'; '0' '0' '0' '0' '0' '0' '0' '0' '0' '1' '1' '1' '1' '1' '0' '0' '0' '0' '0' '0' '0' '0' '0' '0' '0' '0' '0' '0' '0' '0' '0' '1' '1' '1' '1' '1' '1' '1' '1' '1' '1' '1' '1' '1' '1' '1' '1' '1' '1' '0' '0'; '0' '0' '0' '0' '0' '0' '0' '0' '0' '1' '1' '1' '1' '1' '0' '0' '0' '0' '0' '0' '0' '0' '0' '1' '1' '1' '1' '1' '1' '1' '1' '1' '1' '1' '0' '0' '1' '1' '1' '1' '1' '1' '1' '1' '1' '1' '1' '1' '1' '1' '0'; '0' '0' '0' '0' '0' '0' '0' '0' '0' '1' '1' '1' '1' '1' '0' '0' '0' '0' '0' '0' '0' '0' '0' '1' '1' '1' '1' '1' '1' '1' '1' '1' '1' '1' '0' '0' '0' '0' '0' '0' '0' '1' '1' '1' '1' '1' '1' '1' '1' '1' '0'; '0' '0' '0' '0' '0' '0' '0' '0' '1' '1' '1' '1' '1' '1' '0' '0' '0' '0' '0' '0' '0' '0' '0' '1' '1' '1' '1' '1' '1' '1' '1' '1' '1' '1' '0' '0' '0' '0' '0' '0' '0' '0' '0' '0' '1' '1' '1' '1' '1' '1' '1'; '0' '0' '0' '0' '0' '0' '0' '0' '1' '1' '1' '1' '1' '1' '0' '0' '0' '0' '0' '0' '0' '0' '1' '1' '1' '1' '0' '0' '0' '1' '1' '1' "
     ]
    },
    {
     "name": "stdout",
     "output_type": "stream",
     "text": [
      "'1' '0' '0' '0' '0' '0' '0' '0' '0' '0' '0' '0' '1' '1' '1' '1' '1' '1' '1'; '0' '0' '0' '0' '0' '0' '0' '0' '1' '1' '1' '1' '1' '1' '0' '0' '0' '0' '0' '0' '0' '0' '1' '1' '1' '1' '0' '0' '0' '0' '0' '1' '1' '0' '0' '0' '0' '0' '0' '0' '0' '0' '0' '0' '0' '0' '1' '1' '1' '1' '1'; '0' '0' '0' '0' '0' '0' '0' '0' '1' '1' '1' '1' '1' '1' '0' '0' '0' '0' '0' '1' '1' '1' '1' '1' '1' '1' '0' '0' '0' '0' '0' '0' '0' '0' '0' '0' '0' '0' '0' '0' '0' '0' '0' '0' '0' '0' '1' '1' '1' '1' '1'; '0' '0' '0' '0' '0' '0' '0' '0' '1' '1' '1' '1' '1' '1' '1' '1' '1' '1' '1' '1' '1' '1' '1' '1' '1' '1' '0' '0' '0' '0' '0' '0' '0' '0' '0' '0' '0' '0' '0' '0' '0' '0' '0' '0' '0' '0' '1' '1' '1' '1' '1'; '0' '0' '0' '0' '0' '0' '0' '0' '1' '1' '1' '1' '1' '1' '1' '1' '1' '1' '1' '1' '1' '1' '1' '1' '1' '1' '0' '0' '0' '0' '0' '0' '0' '0' '0' '0' '0' '0' '0' '0' '0' '0' '0' '0' '0' '0' '0' '1' '1' '1' '1'; '0' '0' '0' '0' '0' '0' '0' '0' '1' '1' '1' '1' '1' '1' '1' '1' '1' '1' '1' '1' '1' '0' '0' '0' '0' '0' '0' '0' '0' '0' '0' '0' '0' '0' '0' '0' '0' '0' '0' '0' '0' '0' '0' '0' '0' '0' '0' '1' '1' '1' '1'; '0' '0' '0' '0' '0' '0' '0' '0' '0' '0' '0' '0' '1' '1' '1' '1' '1' '1' '1' '1' '1' '0' '0' '0' '0' '0' '0' '0' '0' '0' '0' '0' '0' '0' '0' '0' '0' '0' '0' '0' '0' '0' '0' '0' '0' '0' '0' '1' '1' '1' '1'; '0' '0' '0' '0' '0' '0' '0' '0' '0' '0' '0' '0' '1' '1' '1' '1' '1' '1' '1' '1' '1' '1' '1' '1' '1' '0' '0' '0' '0' '0' '0' '0' '0' '0' '0' '0' '0' '0' '0' '0' '0' '0' '0' '0' '0' '0' '0' '1' '1' '1' '1'; '0' '0' '0' '0' '0' '0' '0' '0' '0' '0' '0' '0' '1' '1' '1' '1' '1' '1' '1' '0' '0' '1' '1' '1' '1' '1' '1' '0' '0' '0' '0' '0' '0' '0' '0' '0' '0' '0' '0' '0' '0' '0' '0' '0' '0' '0' '0' '1' '1' '1' '1'; '0' '0' '0' '0' '0' '0' '0' '0' '0' '"
     ]
    },
    {
     "name": "stdout",
     "output_type": "stream",
     "text": [
      "0' '0' '0' '1' '1' '1' '1' '1' '0' '0' '0' '0' '1' '1' '1' '1' '1' '1' '1' '1' '1' '0' '0' '0' '0' '0' '0' '0' '0' '0' '0' '0' '0' '0' '0' '0' '0' '0' '1' '1' '1' '1'; '0' '0' '0' '0' '0' '0' '0' '0' '0' '0' '0' '0' '1' '1' '1' '1' '1' '0' '0' '0' '0' '1' '1' '1' '1' '1' '1' '1' '1' '1' '1' '1' '1' '0' '0' '0' '0' '0' '0' '0' '0' '0' '0' '0' '0' '0' '0' '1' '1' '1' '1'; '0' '0' '0' '0' '0' '0' '0' '0' '1' '1' '1' '1' '1' '1' '1' '1' '1' '1' '0' '0' '0' '0' '1' '1' '1' '1' '1' '1' '1' '1' '1' '1' '1' '0' '0' '0' '0' '1' '1' '0' '0' '0' '0' '0' '0' '0' '1' '1' '1' '1' '1'; '0' '0' '0' '0' '0' '0' '0' '0' '1' '1' '1' '1' '1' '1' '1' '1' '1' '1' '0' '0' '0' '0' '0' '0' '1' '1' '1' '1' '1' '1' '1' '1' '1' '0' '0' '0' '0' '1' '1' '0' '1' '1' '0' '0' '0' '0' '1' '1' '1' '1' '1'; '0' '0' '0' '0' '0' '0' '0' '0' '1' '1' '1' '1' '1' '1' '1' '1' '0' '0' '0' '0' '0' '0' '0' '0' '1' '1' '1' '0' '0' '1' '1' '1' '1' '0' '0' '0' '0' '1' '1' '1' '1' '1' '0' '0' '1' '1' '1' '1' '1' '1' '1'; '0' '0' '0' '0' '0' '0' '0' '0' '1' '1' '1' '1' '1' '1' '1' '1' '0' '0' '0' '0' '0' '0' '0' '0' '0' '0' '0' '0' '0' '1' '1' '1' '1' '1' '0' '0' '0' '1' '1' '1' '1' '1' '1' '1' '1' '1' '1' '1' '1' '1' '1'; '0' '0' '0' '0' '0' '0' '0' '0' '1' '1' '1' '1' '1' '1' '1' '1' '1' '0' '0' '0' '0' '0' '0' '0' '0' '0' '0' '0' '0' '1' '1' '1' '1' '1' '0' '0' '0' '1' '1' '1' '1' '1' '1' '1' '1' '1' '1' '1' '1' '1' '1'; '1' '1' '1' '1' '1' '1' '1' '1' '1' '1' '1' '1' '1' '1' '1' '1' '1' '0' '0' '0' '0' '0' '0' '0' '0' '0' '0' '0' '0' '0' '0' '1' '1' '1' '0' '0' '1' '1' '1' '1' '1' '1' '1' '1' '0' '0' '1' '1' '1' '1' '1'; '1' '1' '1' '1' '1' '1' '1' '1' '1' '1' '1' '1' '1' '1' '1' '1' '1' '0' '0' '0' '1' '1' '0' '0' '0' '0' '0' '0' '0' '0' '0' '1'"
     ]
    },
    {
     "name": "stdout",
     "output_type": "stream",
     "text": [
      " '1' '1' '0' '0' '1' '1' '1' '1' '1' '1' '1' '1' '1' '1' '0' '0' '0' '0' '0'; '1' '1' '1' '1' '1' '1' '1' '1' '1' '1' '1' '1' '1' '0' '0' '1' '1' '0' '0' '0' '1' '1' '0' '0' '0' '0' '0' '0' '0' '0' '0' '1' '1' '1' '1' '1' '1' '1' '1' '1' '1' '1' '1' '1' '1' '1' '0' '0' '0' '0' '0'; '1' '1' '1' '1' '1' '1' '1' '1' '1' '1' '1' '1' '1' '0' '0' '0' '0' '0' '0' '1' '1' '1' '0' '0' '0' '0' '0' '0' '0' '0' '1' '1' '1' '1' '1' '1' '1' '1' '1' '1' '1' '1' '1' '1' '1' '1' '0' '0' '0' '0' '0'; '1' '1' '1' '1' '1' '1' '1' '1' '1' '1' '1' '1' '1' '0' '0' '0' '0' '0' '0' '1' '1' '1' '1' '0' '0' '0' '0' '0' '0' '0' '1' '1' '1' '1' '1' '1' '1' '1' '1' '1' '1' '1' '1' '1' '1' '1' '1' '0' '0' '0' '0'; '1' '1' '1' '1' '1' '1' '1' '1' '1' '1' '1' '1' '0' '0' '0' '0' '0' '0' '0' '1' '1' '1' '1' '1' '1' '0' '0' '0' '0' '0' '0' '0' '1' '1' '1' '1' '1' '1' '1' '1' '1' '1' '1' '1' '1' '1' '1' '0' '0' '0' '0'; '1' '1' '1' '1' '1' '1' '1' '1' '1' '1' '1' '1' '0' '0' '0' '0' '0' '1' '1' '1' '1' '1' '1' '1' '1' '0' '0' '0' '0' '0' '0' '1' '1' '1' '1' '1' '1' '1' '1' '1' '1' '1' '1' '1' '1' '1' '1' '1' '0' '0' '0'; '1' '1' '1' '1' '1' '1' '1' '1' '1' '1' '1' '1' '0' '0' '0' '0' '0' '1' '1' '1' '1' '0' '1' '1' '1' '0' '0' '0' '0' '0' '0' '1' '1' '1' '1' '1' '0' '1' '1' '1' '1' '1' '1' '1' '1' '1' '1' '1' '0' '0' '0'; '1' '1' '1' '1' '1' '1' '1' '1' '1' '1' '1' '1' '0' '0' '0' '0' '0' '1' '1' '1' '1' '0' '0' '0' '0' '0' '0' '0' '0' '0' '0' '0' '0' '1' '1' '1' '0' '1' '1' '1' '1' '1' '1' '1' '1' '1' '1' '1' '0' '0' '0'; '1' '1' '1' '1' '1' '1' '1' '1' '1' '1' '1' '1' '1' '1' '1' '0' '0' '0' '0' '0' '0' '0' '0' '0' '0' '1' '1' '1' '0' '0' '0' '0' '0' '1' '1' '1' '0' '0' '0' '1' '1' '1' '1' '1' '1' '1' '1' '1' '0' '0' '0'; '1' '1' '1' '1' '1"
     ]
    },
    {
     "name": "stdout",
     "output_type": "stream",
     "text": [
      "' '1' '1' '1' '1' '1' '1' '1' '1' '1' '1' '0' '0' '0' '0' '0' '0' '0' '0' '0' '0' '1' '1' '1' '1' '1' '0' '0' '0' '0' '0' '0' '0' '0' '0' '0' '0' '1' '1' '1' '1' '1' '1' '1' '0' '0' '0'; '0' '0' '1' '1' '1' '1' '1' '1' '1' '1' '1' '1' '1' '1' '1' '0' '0' '0' '0' '0' '0' '0' '0' '0' '0' '1' '1' '1' '1' '1' '0' '0' '0' '0' '0' '0' '0' '0' '0' '0' '0' '1' '1' '1' '1' '1' '0' '0' '0' '0' '0'])\n",
      "\n",
      "objTiles\n",
      "ObjectTiles("
     ]
    },
    {
     "name": "stdout",
     "output_type": "stream",
     "text": [
      "[-1 -1 -1 -1 -1 -1 -1 -1 -1 -1 -1 -1 -1 -1 -1 -1 -1 -1 -1 -1 -1 -1 -1 -1 -1 -1 -1 -1 -1 -1 -1 -1 -1 -1 -1 -1 -1 -1 -1 -1 -1 -1 -1 -1 -1 -1 -1 -1 -1 -1 -1; -1 -1 -1 -1 -1 -1 -1 -1 -1 -1 -1 -1 -1 -1 -1 -1 -1 -1 -1 -1 -1 -1 -1 -1 -1 -1 -1 -1 -1 -1 -1 -1 -1 -1 -1 -1 -1 -1 -1 -1 -1 -1 -1 -1 -1 -1 -1 -1 -1 -1 -1; -1 -1 -1 -1 -1 -1 -1 -1 -1 -1 -1 -1 -1 -1 -1 -1 -1 -1 -1 -1 -1 -1 -1 -1 -1 -1 -1 -1 -1 -1 -1 -1 -1 -1 -1 -1 -1 -1 -1 -1 -1 -1 -1 -1 -1 -1 -1 -1 -1 -1 -1; -1 -1 -1 -1 -1 -1 -1 -1 -1 -1 -1 -1 -1 -1 -1 -1 -1 -1 -1 -1 -1 -1 -1 -1 -1 -1 -1 -1 -1 -1 -1 -1 -1 -1 -1 -1 -1 -1 -1 -1 -1 -1 -1 -1 -1 -1 -1 -1 -1 -1 -1; -1 -1 -1 -1 -1 -1 -1 -1 -1 -1 -1 -1 -1 -1 -1 -1 -1 -1 -1 -1 -1 -1 -1 -1 -1 -1 -1 -1 -1 -1 -1 -1 -1 -1 -1 -1 -1 -1 -1 -1 -1 -1 -1 -1 -1 -1 -1 -1 -1 -1 -1; -1 -1 -1 -1 -1 -1 -1 -1 -1 -1 -1 -1 -1 -1 -1 -1 -1 -1 -1 -1 -1 -1 -1 -1 -1 -1 -1 -1 -1 -1 -1 -1 -1 -1 -1 -1 -1 -1 -1 -1 -1 -1 -1 -1 -1 -1 -1 -1 -1 -1 -1; -1 -1 -1 -1 -1 -1 -1 -1 -1 -1 -1 -1 -1 -1 -1 -1 -1 -1 -1 -1 -1 -1 -1 -1 -1 -1 -1 -1 -1 -1 -1 -1 -1 -1 -1 -1 -1 -1 -1 -1 -1 -1 -1 -1 -1 -1 -1 -1 -1 -1 -1; -1 -1 -1 -1 -1 -1 -1 -1 -1 -1 -1 -1 -1 -1 -1 -1 -1 -1 -1 -1 -1 -1 -1 -1 -1 -1 -1 -1 -1 -1 -1 -1 -1 -1 -1 -1 -1 -1 -1 -1 -1 -1 -1 -1 -1 -1 -1 -1 -1 -1 -1; -1 -1 -1 -1 -1 -1 -1 -1 -1 -1 -1 -1 -1 -1 -1 -1 -1 -1 -1 -1 -1 -1 -1 -1 -1 -1 -1 -1 -1 -1 -1 -1 -1 -1 -1 -1 -1 -1 -1 -1 -1 -1 -1 -1 -1 -1 -1 -1 -1 -1 -1; -1 -1 -1 -1 -1 -1 -1 -1 -1 -1 -1 -1 -1 -1 -1 -1 -1 -1 -1 -1 -1 -1 -1 -1 -1 -1 -1 -1 -1 -1 -1 -1 -1 -1 -1 -1 -1 -1 -1 -1 -1 -1 -1 -1 -1 -1 -1 -1 -1 -1 -1; -1 -1 -1 -1 -1 -1 -1 -1 -1 -1 -1 -1 -1 -1 -1 -1 -1 -1 -1 -1 -1 -1 -1 -1 -1 -1 -1 -1 -1 -1 -1 -1 -1 -1 -1 -1 -1 -1 -1 -1 -1 -1 -1 -1 -1 -1 -1 -1 -1 -1 -1; -1 -1 -1 -1 -1 -1 -1 -1 -1 -1 -1 -1 -1 -1 -1 -1 -1 -1 -1 -1 -1 -1 -1 -1 -1 -1 -1 -1 -1 -1 -1 -1 -1 -1 -1 -1 -1 -1 -1 -1 -1 -1 -1 -1 -1 -1 -1 -1 -1 -1 -1; -1 -1 -1 -1 -1 -1 -1 -1 -1 -1 -1 -1 -1 -1 -1 -1 -1 -1 -1 -1 -1 -1 -1 -1 -1 -1 -1 -1 -1 -1 -1 -1 -1 -1 -1 -1 -1 -1 -1 -1 -1 -1 -1 -1 -1 -1 -1 -1 -1 -1 -1; -1 -1 -1 -1 -1 -1 -1 -1 -1 -1 -1 -1 -1 -1 -1 -1 -1 -1 -1 -1 -1 -1 -1 -1 -1 -1 -1 -1 -1 -1 -1 -1 -1 -1 -1 -1 -1 -1 -1 -1 -1 -1 -1 -1 -1 -1 -1 -1 -1 -1 -1; -1 -1 -1 -1 -1 -1 -1 -1 -1 -1 -1 -1 -1 -1 -1 -1 -1 -1 -1 -1 -1 -1 -1 -1 -1 -1 -1 -1 -1 -1 -1 -1 -1 -1 -1 -1 -1 -1 -1 -1 -1 -1 -1 -1 -1 -1 -1 -1 -1 -1 -1; -1 -1 -1 -1 -1 -1 -1 -1 -1 -1 -1 -1 -1 -1 -1 -1 -1 -1 -1 -1 -1 -1 -1 -1 -1 -1 -1 -1 -1 -1 -1 -1 -1 -1 -1 -1 -1 -1 -1 -1 -1 -1 -1 -1 -1 -1 -1 -1 -1 -1 -1; -1 -1 -1 -1 -1 -1 -1 -1 -1 -1 -1 -1 -1 -1 -1"
     ]
    },
    {
     "name": "stdout",
     "output_type": "stream",
     "text": [
      " -1 -1 -1 -1 -1 -1 -1 -1 -1 -1 -1 -1 -1 -1 -1 -1 -1 -1 -1 -1 -1 -1 -1 -1 -1 -1 -1 -1 -1 -1 -1 -1 -1 -1 -1 -1; -1 -1 -1 -1 -1 -1 -1 -1 -1 -1 -1 -1 -1 -1 -1 -1 -1 -1 -1 -1 -1 -1 -1 -1 -1 -1 -1 -1 -1 -1 -1 -1 -1 -1 -1 -1 -1 -1 -1 -1 -1 -1 -1 -1 -1 -1 -1 -1 -1 -1 -1; -1 -1 -1 -1 -1 -1 -1 -1 -1 -1 -1 -1 -1 -1 -1 -1 -1 -1 -1 -1 -1 -1 -1 -1 -1 -1 -1 -1 -1 -1 -1 -1 -1 -1 -1 -1 -1 -1 -1 -1 -1 -1 -1 -1 -1 -1 -1 -1 -1 -1 -1; -1 -1 -1 -1 -1 -1 -1 -1 -1 -1 -1 -1 -1 -1 -1 -1 -1 -1 -1 -1 -1 -1 -1 -1 -1 -1 -1 -1 -1 -1 -1 -1 -1 -1 -1 -1 -1 -1 -1 -1 -1 -1 -1 -1 -1 -1 -1 -1 -1 -1 -1; -1 -1 -1 -1 -1 -1 -1 -1 -1 -1 -1 -1 -1 -1 -1 -1 -1 -1 -1 -1 -1 -1 -1 -1 -1 -1 -1 -1 -1 -1 -1 -1 -1 -1 -1 -1 -1 -1 -1 -1 -1 -1 -1 -1 -1 -1 -1 -1 -1 -1 -1; -1 -1 -1 -1 -1 -1 -1 -1 -1 -1 -1 -1 -1 -1 -1 -1 -1 -1 -1 -1 -1 -1 -1 -1 -1 -1 -1 -1 -1 -1 -1 -1 -1 -1 -1 -1 -1 -1 -1 -1 -1 -1 -1 -1 -1 -1 -1 -1 -1 -1 -1; -1 -1 -1 -1 -1 -1 -1 -1 -1 -1 -1 -1 -1 -1 -1 -1 -1 -1 -1 -1 -1 -1 -1 -1 -1 -1 -1 -1 -1 -1 -1 -1 -1 -1 -1 -1 -1 -1 -1 -1 -1 -1 -1 -1 -1 -1 -1 -1 -1 -1 -1; -1 -1 -1 -1 -1 -1 -1 -1 -1 -1 -1 -1 -1 -1 -1 -1 -1 -1 -1 -1 -1 -1 -1 -1 -1 -1 -1 -1 -1 -1 -1 -1 -1 -1 -1 -1 -1 -1 -1 -1 -1 -1 -1 -1 -1 -1 -1 -1 -1 -1 -1; -1 -1 -1 -1 -1 -1 -1 -1 -1 -1 -1 -1 -1 -1 -1 -1 -1 -1 -1 -1 -1 -1 -1 -1 -1 -1 -1 -1 -1 -1 -1 -1 -1 -1 -1 -1 -1 -1 -1 -1 -1 -1 -1 -1 -1 -1 -1 -1 -1 -1 -1; -1 -1 -1 -1 -1 -1 -1 -1 -1 -1 -1 -1 -1 -1 -1 -1 -1 -1 -1 -1 -1 -1 -1 -1 -1 -1 -1 -1 -1 -1 -1 -1 -1 -1 -1 -1 -1 -1 -1 -1 -1 -1 -1 -1 -1 -1 -1 -1 -1 -1 -1; -1 -1 -1 -1 -1 -1 -1 -1 -1 -1 -1 -1 -1 -1 -1 -1 -1 -1 -1 -1 -1 -1 -1 -1 -1 -1 -1 -1 -1 -1 -1 -1 -1 -1 -1 -1 -1 -1 -1 -1 -1 -1 -1 -1 -1 -1 -1 -1 -1 -1 -1; -1 -1 -1 -1 -1 -1 -1 -1 -1 -1 -1 -1 -1 -1 -1 -1 -1 -1 -1 -1 -1 -1 -1 -1 -1 -1 -1 -1 -1 -1 -1 -1 -1 -1 -1 -1 -1 -1 -1 -1 -1 -1 -1 -1 -1 -1 -1 -1 -1 -1 -1; -1 -1 -1 -1 -1 -1 -1 -1 -1 -1 -1 -1 -1 -1 -1 -1 -1 -1 -1 -1 -1 -1 -1 -1 -1 -1 -1 -1 -1 -1 -1 -1 -1 -1 -1 -1 -1 -1 -1 -1 -1 -1 -1 -1 -1 -1 -1 -1 -1 -1 -1; -1 -1 -1 -1 -1 -1 -1 -1 -1 -1 -1 -1 -1 -1 -1 -1 -1 -1 -1 -1 -1 -1 -1 -1 -1 -1 -1 -1 -1 -1 -1 -1 -1 -1 -1 -1 -1 -1 -1 -1 -1 -1 -1 -1 -1 -1 -1 -1 -1 -1 -1; -1 -1 -1 -1 -1 -1 -1 -1 -1 -1 -1 -1 -1 -1 -1 -1 -1 -1 -1 -1 -1 -1 -1 -1 -1 -1 -1 -1 -1 -1 -1 -1 -1 -1 -1 -1 -1 -1 -1 -1 -1 -1 -1 -1 -1 -1 -1 -1 -1 -1 -1; -1 -1 -1 -1 -1 -1 -1 -1 -1 -1 -1 -1 -1 -1 -1 -1 -1 -1 -1 -1 -1 -1 -1 -1 -1 -1 -1 -1 -1 -1 -1 -1 -1 -1 -1 -1 -1 -1 -1 -1 -1 -1 -1 -1 -1 -1 -1 -1 -1 -1 -1; -1 -1 -1 -1 -1 -1 -1 -1 -1 -1 "
     ]
    },
    {
     "name": "stdout",
     "output_type": "stream",
     "text": [
      "-1 -1 -1 -1 -1 -1 -1 -1 -1 -1 -1 -1 -1 -1 -1 -1 -1 -1 -1 -1 -1 -1 -1 -1 -1 -1 -1 -1 -1 -1 -1 -1 -1 -1 -1 -1 -1 -1 -1 -1 -1])\n",
      "\n",
      "entities\n"
     ]
    },
    {
     "name": "stdout",
     "output_type": "stream",
     "text": [
      "Entity[JumpThru(\"jumpThru\""
     ]
    },
    {
     "name": "stdout",
     "output_type": "stream",
     "text": [
      ", Dict{String, Any}(\"x\" => 0x28, \"width\" => 0x18, \"originX\" => 0x00, \"originY\" => 0x00, \"texture\" => \"default\", \"y\" => 0xf8), 0x00), Player(\"player\", Dict{String, Any}(\"x\" => 0x30, \"width\" => 0x08, \"originX\" => 0x04, \"originY\" => 0x08, \"y\" => 0xf8), 0x02), SpikesUp(\"spikesUp\", Dict{String, Any}(\"x\" => 0x78, \"width\" => 0x08, \"originX\" => 0x00, \"originY\" => 0x04, \"type\" => \"default\", \"y\" => 0xf0), 0x05), SpikesUp(\"spikesUp\", Dict{String, Any}(\"x\" => 0x80, \"width\" => 0x20, \"originX\" => 0x00, \"originY\" => 0x04, \"type\" => \"default\", \"y\" => 0xe8), 0x06), SpikesUp(\"spikesUp\", Dict{String, Any}(\"x\" => 0xa0, \"width\" => 0x20, \"originX\" => 0x00, \"originY\" => 0x04, \"type\" => \"default\", \"y\" => 0xc8), 0x07), SpikesUp(\"spikesUp\", Dict{String, Any}(\"x\" => 0xc0, \"width\" => 0x10, \"originX\" => 0x00, \"originY\" => 0x04, \"type\" => \"default\", \"y\" => 0xd0), 0x08), Strawberry(\"strawberry\", Dict{String, Any}(\"winged\" => false, \"order\" => 0x01, \"x\" => 264, \"checkpointID\" => 0x02, \"originX\" => 0x04, \"originY\" => 0x04, \"y\" => 0xd8), 0x09), JumpThru(\"jumpThru\", Dict{String, Any}(\"x\" => 352, \"width\" => 0x18, \"originX\" => 0x00, \"originY\" => 0x00, \"texture\" => \"default\", \"y\" => 0xf8), 0x0b), Player(\"player\", Dict{String, Any}(\"x\" => 368, \"width\" => 0x08, \"originX\" => 0x04, \"originY\" => 0x08, \"y\" => 0xf8), 0x0c), Spring(\"spring\", Dict{String, Any}(\"playerCanUse\" => true, \"x\" => 320, \"originX\" => 0x04, \"originY\" => 0x08, \"y\" => 0xe0), 0x0e), ZipMover(\"zipMover\", Dict{String, Any}(\"nodes\""
     ]
    },
    {
     "name": "stdout",
     "output_type": "stream",
     "text": [
      " => Tuple{Integer, Integer}[(384, 56)], \"height\" => 0x20, \"x\" => 384, \"width\" => 0x10, \"originX\" => 0x00, \"originY\" => 0x00, \"y\" => 0x78), 0x11), SpikesUp(\"spikesUp\", Dict{String, Any}(\"x\" => 384, \"width\" => 0x10, \"originX\" => 0x00, \"originY\" => 0x04, \"type\" => \"default\", \"y\" => 0x78), 0x12), SpikesUp(\"spikesUp\", Dict{String, Any}(\"x\" => 320, \"width\" => 0x38, \"originX\" => 0x00, \"originY\" => 0x04, \"type\" => \"default\", \"y\" => 0xa0), 0x14), SpikesUp(\"spikesUp\", Dict{String, Any}(\"x\" => 376, \"width\" => 0x18, \"originX\" => 0x00, \"originY\" => 0x04, \"type\" => \"default\", \"y\" => 0xa8), 0x15), SpikesUp(\"spikesUp\", Dict{String, Any}(\"x\" => 0xf0, \"width\" => 0x38, \"originX\" => 0x00, \"originY\" => 0x04, \"type\" => \"default\", \"y\" => 0x60), 0x18), CrumbleBlock(\"crumbleBlock\", Dict{String, Any}(\"x\" => 304, \"width\" => 0x28, \"originX\" => 0x00, \"originY\" => 0x00, \"y\" => 0x40), 0x1d), SpikesUp(\"spikesUp\", Dict{String, Any}(\"x\" => 0xd8, \"width\" => 0x18, \"originX\" => 0x00, \"originY\" => 0x04, \"type\" => \"default\", \"y\" => 0x58), 0x1e), SpikesUp(\"spikesUp\", Dict{String, Any}(\"x\" => 296, \"width\" => 0x08, \"originX\" => 0x00, \"o"
     ]
    },
    {
     "name": "stdout",
     "output_type": "stream",
     "text": [
      "riginY\" => 0x04, \"type\" => \"default\", \"y\" => 0x78), 0x23), SpikesDown(\"spikesDown\", Dict{String, Any}(\"x\" => 352, \"width\" => 0x20, \"originX\" => 0x00, \"originY\" => 0x00, \"type\" => \"default\", \"y\" => 0x10), 0x25), Player(\"player\", Dict{String, Any}(\"x\" => 0xd8, \"width\" => 0x08, \"originX\" => 0x04, \"originY\" => 0x08, \"y\" => 0xf8), 0x26), SpikesRight(\"spikesRight\", Dict{String, Any}(\"height\" => 0x28, \"x\" => 0x68, \"originX\" => 0x00, \"originY\" => 0x00, \"type\" => \"default\", \"y\" => 0x60), 0x28), ZipMover(\"zipMover\", Dict{String, Any}(\"nodes\" => Tuple{Integer, Integer}[(64, 176)], \"height\" => 0x18, \"x\" => 0x08, \"width\" => 0x18, \"originX\" => 0x00, \"originY\" => 0x00, \"y\" => 0xb0), 0x29), SpikesRight(\"spikesRight\", Dict{String, Any}(\"height\" => 0x28, \"x\" => 0x50, \"originX\" => 0x00, \"originY\" => 0x00, \"type\" => \"default\", \"y\" => 0x88), 0x2a), Lightbeam(\"lightbeam\", Dict{String, Any}(\"rotation\" => -90, \"height\" => 0x20, \"flag\" => \"\", \"x\" => 0x03, \"width\" => 0x18, \"originX\" => 0x0c, \"originY\" => 0x00, \"y\" => 0xbc), 0x2b), SpikesLeft(\"spikesLeft\", Dict{String, Any}(\"height\" => 0x18, \"x\" => 0xa0, \"originX\" => 0x04, \"originY\" => 0x00, \"type\" => \"default\", \"y\" => 0xc8), 0x2c), SpikesRight(\"spikesRight\", Dict{String, Any}(\"height\" => 0x28, \"x\" => 0x08, \"originX\" => 0x00, \"originY\" => 0x00, \"type\" => \"default\", \"y\" => 0xd0), 0x2d)]\n",
      "\n",
      "triggers"
     ]
    },
    {
     "name": "stdout",
     "output_type": "stream",
     "text": [
      "\n",
      "Trigger[CameraTargetTrigger(\"cameraTargetTrigger\", Dict{String, Any}(\"yOnly\" => false, \"x\" => 296, \"lerpStrength\" => 0x01, \"positionMode\" => \"BottomToTop\", \"height\" => 0x48, \"xOnly\" => false, \"originX\" => 0x00, \"y\" => 0x58, \"width\" => 0x70, \"originY\" => 0x00, \"nodes\" => Tuple{Integer, Integer}[(296, 40)]), 0x03)]\n",
      "\n",
      "name\n",
      "lvl_11\n",
      "\n",
      "color\n",
      "3\n",
      "\n",
      "position\n",
      "(3352, -2680)\n",
      "\n",
      "size\n",
      "(408, 264)\n",
      "\n",
      "musicLayer1\n",
      "true\n",
      "\n",
      "musicLayer2\n",
      "true\n",
      "\n",
      "musicLayer3\n",
      "true\n",
      "\n",
      "musicLayer4\n",
      "true\n",
      "\n",
      "musicProgress\n",
      "\n",
      "\n",
      "ambienceProgress\n",
      "\n",
      "\n",
      "delayAltMusicFade\n",
      "false\n",
      "\n",
      "dark\n",
      "false\n",
      "\n",
      "space\n",
      "false\n",
      "\n",
      "underwater\n",
      "false\n",
      "\n",
      "whisper\n",
      "false\n",
      "\n",
      "music\n",
      "\n",
      "\n",
      "altMusic\n",
      "\n",
      "\n",
      "disableDownTransition\n",
      "false\n",
      "\n",
      "windPattern\n",
      "None\n",
      "\n",
      "cameraOffsetX\n",
      "0\n",
      "\n",
      "cameraOffsetY\n",
      "0\n",
      "\n"
     ]
    }
   ],
   "source": [
    "for att in ROOM_ATTR\n",
    "    println(att, \"\\n\", getproperty(test_room, att), \"\\n\")\n",
    "end"
   ]
  },
  {
   "cell_type": "code",
   "execution_count": 23,
   "metadata": {},
   "outputs": [
    {
     "data": {
      "text/plain": [
       "26-element Vector{Entity}:\n",
       " JumpThru(\"jumpThru\", Dict{String, Any}(\"x\" => 0x28, \"width\" => 0x18, \"originX\" => 0x00, \"originY\" => 0x00, \"texture\" => \"default\", \"y\" => 0xf8), 0x00)\n",
       " Player(\"player\", Dict{String, Any}(\"x\" => 0x30, \"width\" => 0x08, \"originX\" => 0x04, \"originY\" => 0x08, \"y\" => 0xf8), 0x02)\n",
       " SpikesUp(\"spikesUp\", Dict{String, Any}(\"x\" => 0x78, \"width\" => 0x08, \"originX\" => 0x00, \"originY\" => 0x04, \"type\" => \"default\", \"y\" => 0xf0), 0x05)\n",
       " SpikesUp(\"spikesUp\", Dict{String, Any}(\"x\" => 0x80, \"width\" => 0x20, \"originX\" => 0x00, \"originY\" => 0x04, \"type\" => \"default\", \"y\" => 0xe8), 0x06)\n",
       " SpikesUp(\"spikesUp\", Dict{String, Any}(\"x\" => 0xa0, \"width\" => 0x20, \"originX\" => 0x00, \"originY\" => 0x04, \"type\" => \"default\", \"y\" => 0xc8), 0x07)\n",
       " SpikesUp(\"spikesUp\", Dict{String, Any}(\"x\" => 0xc0, \"width\" => 0x10, \"originX\" => 0x00, \"originY\" => 0x04, \"type\" => \"default\", \"y\" => 0xd0), 0x08)\n",
       " Strawberry(\"strawberry\", Dict{String, Any}(\"winged\" => false, \"order\" => 0x01, \"x\" => 264, \"checkpointID\" => 0x02, \"originX\" => 0x04, \"originY\" => 0x04, \"y\" => 0xd8), 0x09)\n",
       " JumpThru(\"jumpThru\", Dict{String, Any}(\"x\" => 352, \"width\" => 0x18, \"originX\" => 0x00, \"originY\" => 0x00, \"texture\" => \"default\", \"y\" => 0xf8), 0x0b)\n",
       " Player(\"player\", Dict{String, Any}(\"x\" => 368, \"width\" => 0x08, \"originX\" => 0x04, \"originY\" => 0x08, \"y\" => 0xf8), 0x0c)\n",
       " Spring(\"spring\", Dict{String, Any}(\"playerCanUse\" => true, \"x\" => 320, \"originX\" => 0x04, \"originY\" => 0x08, \"y\" => 0xe0), 0x0e)\n",
       " ⋮\n",
       " SpikesUp(\"spikesUp\", Dict{String, Any}(\"x\" => 296, \"width\" => 0x08, \"originX\" => 0x00, \"originY\" => 0x04, \"type\" => \"default\", \"y\" => 0x78), 0x23)\n",
       " SpikesDown(\"spikesDown\", Dict{String, Any}(\"x\" => 352, \"width\" => 0x20, \"originX\" => 0x00, \"originY\" => 0x00, \"type\" => \"default\", \"y\" => 0x10), 0x25)\n",
       " Player(\"player\", Dict{String, Any}(\"x\" => 0xd8, \"width\" => 0x08, \"originX\" => 0x04, \"originY\" => 0x08, \"y\" => 0xf8), 0x26)\n",
       " SpikesRight(\"spikesRight\", Dict{String, Any}(\"height\" => 0x28, \"x\" => 0x68, \"originX\" => 0x00, \"originY\" => 0x00, \"type\" => \"default\", \"y\" => 0x60), 0x28)\n",
       " ZipMover(\"zipMover\", Dict{String, Any}(\"nodes\" => Tuple{Integer, Integer}[(64, 176)], \"height\" => 0x18, \"x\" => 0x08, \"width\" => 0x18, \"originX\" => 0x00, \"originY\" => 0x00, \"y\" => 0xb0), 0x29)\n",
       " SpikesRight(\"spikesRight\", Dict{String, Any}(\"height\" => 0x28, \"x\" => 0x50, \"originX\" => 0x00, \"originY\" => 0x00, \"type\" => \"default\", \"y\" => 0x88), 0x2a)\n",
       " Lightbeam(\"lightbeam\", Dict{String, Any}(\"rotation\" => -90, \"height\" => 0x20, \"flag\" => \"\", \"x\" => 0x03, \"width\" => 0x18, \"originX\" => 0x0c, \"originY\" => 0x00, \"y\" => 0xbc), 0x2b)\n",
       " SpikesLeft(\"spikesLeft\", Dict{String, Any}(\"height\" => 0x18, \"x\" => 0xa0, \"originX\" => 0x04, \"originY\" => 0x00, \"type\" => \"default\", \"y\" => 0xc8), 0x2c)\n",
       " SpikesRight(\"spikesRight\", Dict{String, Any}(\"height\" => 0x28, \"x\" => 0x08, \"originX\" => 0x00, \"originY\" => 0x00, \"type\" => \"default\", \"y\" => 0xd0), 0x2d)"
      ]
     },
     "metadata": {},
     "output_type": "display_data"
    }
   ],
   "source": [
    "test_room_entities = test_room.entities"
   ]
  },
  {
   "cell_type": "code",
   "execution_count": 41,
   "metadata": {},
   "outputs": [],
   "source": [
    "l_entities = Vector()\n",
    "for ent in test_room_entities\n",
    "    push!(l_entities, Dict(ent))\n",
    "end"
   ]
  },
  {
   "cell_type": "code",
   "execution_count": 51,
   "metadata": {},
   "outputs": [
    {
     "data": {
      "text/plain": [
       "2590"
      ]
     },
     "metadata": {},
     "output_type": "display_data"
    }
   ],
   "source": [
    "open(\"temp.json\",\"w\") do f \n",
    "    write(f, JSON.json(l_entities))\n",
    "end"
   ]
  },
  {
   "cell_type": "code",
   "execution_count": 59,
   "metadata": {},
   "outputs": [
    {
     "data": {
      "text/plain": [
       "\"lvl_11\""
      ]
     },
     "metadata": {},
     "output_type": "display_data"
    }
   ],
   "source": [
    "test_room.name"
   ]
  },
  {
   "cell_type": "code",
   "execution_count": 56,
   "metadata": {},
   "outputs": [
    {
     "data": {
      "text/plain": [
       "33×51 Matrix{Int64}:\n",
       " -1  -1  -1  -1  -1  -1  -1  -1  -1  …  -1  -1  -1  -1  -1  -1  -1  -1  -1\n",
       " -1  -1  -1  -1  -1  -1  -1  -1  -1     -1  -1  -1  -1  -1  -1  -1  -1  -1\n",
       " -1  -1  -1  -1  -1  -1  -1  -1  -1     -1  -1  -1  -1  -1  -1  -1  -1  -1\n",
       " -1  -1  -1  -1  -1  -1  -1  -1  -1     -1  -1  -1  -1  -1  -1  -1  -1  -1\n",
       " -1  -1  -1  -1  -1  -1  -1  -1  -1     -1  -1  -1  -1  -1  -1  -1  -1  -1\n",
       " -1  -1  -1  -1  -1  -1  -1  -1  -1  …  -1  -1  -1  -1  -1  -1  -1  -1  -1\n",
       " -1  -1  -1  -1  -1  -1  -1  -1  -1     -1  -1  -1  -1  -1  -1  -1  -1  -1\n",
       " -1  -1  -1  -1  -1  -1  -1  -1  -1     -1  -1  -1  -1  -1  -1  -1  -1  -1\n",
       " -1  -1  -1  -1  -1  -1  -1  -1  -1     -1  -1  -1  -1  -1  -1  -1  -1  -1\n",
       " -1  -1  -1  -1  -1  -1  -1  -1  -1     -1  -1  -1  -1  -1  -1  -1  -1  -1\n",
       "  ⋮                   ⋮              ⋱               ⋮                   ⋮\n",
       " -1  -1  -1  -1  -1  -1  -1  -1  -1     -1  -1  -1  -1  -1  -1  -1  -1  -1\n",
       " -1  -1  -1  -1  -1  -1  -1  -1  -1  …  -1  -1  -1  -1  -1  -1  -1  -1  -1\n",
       " -1  -1  -1  -1  -1  -1  -1  -1  -1     -1  -1  -1  -1  -1  -1  -1  -1  -1\n",
       " -1  -1  -1  -1  -1  -1  -1  -1  -1     -1  -1  -1  -1  -1  -1  -1  -1  -1\n",
       " -1  -1  -1  -1  -1  -1  -1  -1  -1     -1  -1  -1  -1  -1  -1  -1  -1  -1\n",
       " -1  -1  -1  -1  -1  -1  -1  -1  -1     -1  -1  -1  -1  -1  -1  -1  -1  -1\n",
       " -1  -1  -1  -1  -1  -1  -1  -1  -1  …  -1  -1  -1  -1  -1  -1  -1  -1  -1\n",
       " -1  -1  -1  -1  -1  -1  -1  -1  -1     -1  -1  -1  -1  -1  -1  -1  -1  -1\n",
       " -1  -1  -1  -1  -1  -1  -1  -1  -1     -1  -1  -1  -1  -1  -1  -1  -1  -1"
      ]
     },
     "metadata": {},
     "output_type": "display_data"
    }
   ],
   "source": [
    "fgt_matrix = test_room.fgTiles.data\n",
    "bgt_matrix = test_room.bgTiles.data\n",
    "objt_matrix = test_room.objTiles.data"
   ]
  },
  {
   "cell_type": "code",
   "execution_count": 57,
   "metadata": {},
   "outputs": [],
   "source": [
    "writedlm(\"test_fg.csv\",  fgt_matrix, ';')\n",
    "writedlm(\"test_bg.csv\",  bgt_matrix, ';')\n",
    "writedlm(\"test_boj.csv\",  objt_matrix, ';')"
   ]
  },
  {
   "cell_type": "code",
   "execution_count": 55,
   "metadata": {},
   "outputs": [
    {
     "name": "stdout",
     "output_type": "stream",
     "text": [
      "[-1 -1 -1 -1 -1 -1 -1 -1 -1 -1 -1 -1 -1 -1 -1 -1 -1 -1 -1 -1 -1 -1 -1 -1 -1 -1 -1 -1 -1 -1 -1 -1 -1 -1 -1 -1 -1 -1 -1 -1 -1 -1 -1 -1 -1 -1 -1 -1 -1 -1 -1; -1 -1 -1 -1 -1 -1 -1 -1 -1 -1 -1 -1 -1 -1 -1 -1 -1 -1 -1 -1 -1 -1 -1 -1 -1 -1 -1 -1 -1 -1 -1 -1 -1 -1 -1 -1 -1 -1 -1 -1 -1 -1 -1 -1 -1 -1 -1 -1 -1 -1 -1; -1 -1 -1 -1 -1 -1 -1 -1 -1 -1 -1 -1 -1 -1 -1 -1 -1 -1 -1 -1 -1 -1 -1 -1 -1 -1 -1 -1 -1 -1 -1 -1 -1 -1 -1 -1 -1 -1 -1 -1 -1 -1 -1 -1 -1 -1 -1 -1 -1 -1 -1; -1 -1 -1 -1 -1 -1 -1 -1 -1 -1 -1 -1 -1 -1 -1 -1 -1 -1 -1 -1 -1 -1 -1 -1 -1 -1 -1 -1 -1 -1 -1 -1 -1 -1 -1 -1 -1 -1 -1 -1 -1 -1 -1 -1 -1 -1 -1 -1 -1 -1 -1; -1 -1 -1 -1 -1 -1 -1 -1 -1 -1 -1 -1 -1 -1 -1 -1 -1 -1 -1 -1 -1 -1 -1 -1 -1 -1 -1 -1 -1 -1 -1 -1 -1 -1 -1 -1 -1 -1 -1 -1 -1 -1 -1 -1 -1 -1 -1 -1 -1 -1 -1; -1 -1 -1 -1 -1 -1 -1 -1 -1 -1 -1 -1 -1 -1 -1 -1 -1 -1 -1 -1 -1 -1 -1 -1 -1 -1 -1 -1 -1 -1 -1 -1 -1 -1 -1 -1 -1 -1 -1 -1 -1 -1 -1 -1 -1 -1 -1 -1 -1 -1 -1; -1 -1 -1 -1 -1 -1 -1 -1 -1 -1 -1 -1 -1 -1 -1 -1 -1 -1 -1 -1 -1 -1 -1 -1 -1 -1 -1 -1 -1 -1 -1 -1 -1 -1 -1 -1 -1 -1 -1 -1 -1 -1 -1 -1 -1 -1 -1 -1 -1 -1 -1; -1 -1 -1 -1 -1 -1 -1 -1 -1 -1 -1 -1 -1 -1 -1 -1 -1 -1 -1 -1 -1 -1 -1 -1 -1 -1 -1 -1 -1 -1 -1 -1 -1 -1 -1 -1 -1 -1 -1 -1 -1 -1 -1 -1 -1 -1 -1 -1 -1 -1 -1; -1 -1 -1 -1 -1 -1 -1 -1 -1 -1 -1 -1 -1 -1 -1 -1 -1 -1 -1 -1 -1 -1 -1 -1 -1 -1 -1 -1 -1 -1 -1 -1 -1 -1 -1 -1 -1 -1 -1 -1 -1 -1 -1 -1 -1 -1 -1 -1 -1 -1 -1; -1 -1 -1 -1 -1 -1 -1 -1 -1 -1 -1 -1 -1 -1 -1 -1 -1 -1 -1 -1 -1 -1 -1 -1 -1 -1 -1 -1 -1 -1 -1 -1 -1 -1 -1 -1 -1 -1 -1 -1 -1 -1 -1 -1 -1 -1 -1 -1 -1 -1 -1; -1 -1 -1 -1 -1 -1 -1 -1 -1 -1 -1 -1 -1 -1 -1 -1 -1 -1 -1 -1 -1 -1 -1 -1 -1 -1 -1 -1 -1 -1 -1 -1 -1 -1 -1 -1 -1 -1 -1 -1 -1 -1 -1 -1 -1 -1 -1 -1 -1 -1 -1; -1 -1 -1 -1 -1 -1 -1 -1 -1 -1 -1 -1 -1 -1 -1 -1 -1 -1 -1 -1 -1 -1 -1 -1 -1 -1 -1 -1 -1 -1 -1 -1 -1 -1 -1 -1 -1 -1 -1 -1 -1 -1 -1 -1 -1 -1 -1 -1 -1 -1 -1; -1 -1 -1 -1 -1 -1 -1 -1 -1 -1 -1 -1 -1 -1 -1 -1 -1 -1 -1 -1 -1 -1 -1 -1 -1 -1 -1 -1 -1 -1 -1 -1 -1 -1 -1 -1 -1 -1 -1 -1 -1 -1 -1 -1 -1 -1 -1 -1 -1 -1 -1; -1 -1 -1 -1 -1 -1 -1 -1 -1 -1 -1 -1 -1 -1 -1 -1 -1 -1 -1 -1 -1 -1 -1 -1 -1 -1 -1 -1 -1 -1 -1 -1 -1 -1 -1 -1 -1 -1 -1 -1 -1 -1 -1 -1 -1 -1 -1 -1 -1 -1 -1; -1 -1 -1 -1 -1 -1 -1 -1 -1 -1 -1 -1 -1 -1 -1 -1 -1 -1 -1 -1 -1 -1 -1 -1 -1 -1 -1 -1 -1 -1 -1 -1 -1 -1 -1 -1 -1 -1 -1 -1 -1 -1 -1 -1 -1 -1 -1 -1 -1 -1 -1; -1 -1 -1 -1 -1 -1 -1 -1 -1 -1 -1 -1 -1 -1 -1 -1 -1 -1 -1 -1 -1 -1 -1 -1 -1 -1 -1 -1 -1 -1 -1 -1 -1 -1 -1 -1 -1 -1 -1 -1 -1 -1 -1 -1 -1 -1 -1 -1 -1 -1 -1; -1 -1 -1 -1 -1 -1 -1 -1 -1 -1 -1 -1 -1 -1 -1 -1 -1 -1 -1 -1 -1 -1 -1 -1 -1 -1 -1 -1 -1 -1 -1 -1 -1 -1 -1 -1 -1 -1 -1 -1 -1 -1 -1 -1 -1 -1 -1 -1 -1 -1 -1; -1 -1 -1 -1 -1 -1 -1 -1 -1 -1 -1 -1 -1 -1 -1 -1 -1 -1 -1 -1 -1 -1 -1 -1 -1 -1 -1 -1 -1 -1 -1 -1 -1 -1 -1 -1 -1 -1 -1 -1 -1 -1 -1 -1 -1 -1 -1 -1 -1 -1 -1; -1 -1 -1 -1 -1 -1 -1 -1 -1 -1 -1 -1 -1 -1 -1 -1 -1 -1 -1 -1 -1 -1 -1 -1 -1 -1 -1 -1 -1 -1 -1 -1 -1 -1 -1 -1 -1 -1 -1 -1 -1 -1 -1 -1 -1 -1 -1 -1 -1 -1 -1; -1 -1 -1 -1 -1 -1 -1 -1 -1 -1 -1 -1 -1 -1 -1 -1 -1 -1 -1 -1 -1 -1 -1 -1 -1 -1 -1 -1 -1 -1 -1 -1 -1 -1 -1 -1 -1 -1 -1 -1 -1 -1 -1 -1 -1 -1 -1 -1 -1 -1 -1; -1 -1 -1 -1 -1 -1 -1 -1 -1 -1 -1 -1 -1 -1 -1 -1 -1 -1 -1 -1 -1 -1 -1 -1 -1 -1 -1 -1 -1 -1 -1 -1 -1 -1 -1 -1 -1 -1 -1 -1 -1 -1 -1 -1 -1 -1 -1 -1 -1 -1 -1; -1 -1 -1 -1 -1 -1 -1 -1 -1 -1 -1 -1 -1 -1 -1 -1 -1 -1 -1 -1 -1 -1 -1 -1 -1 -1 -1 -1 -1 -1 -1 -1 -1 -1 -1 -1 -1 -1 -1 -1 -1 -1 -1 -1 -1 -1 -1 -1 -1 -1 -1; -1 -1 -1 -1 -1 -1 -1 -1 -1 -1 -1 -1 -1 -1 -1 -1 -1 -1 -1 -1 -1 -1 -1 -1 -1 -1 -1 -1 -1 -1 -1 -1 -1 -1 -1 -1 -1 -1 -1 -1 -1 -1 -1 -1 -1 -1 -1 -1 -1 -1 -1; -1 -1 -1 -1 -1 -1 -1 -1 -1 -1 -1 -1 -1 -1 -1 -1 -1 -1 -1 -1 -1 -1 -1 -1 -1 -1 -1 -1 -1 -1 -1 -1 -1 -1 -1 -1 -1 -1 -1 -1 -1 -1 -1 -1 -1 -1 -1 -1 -1 -1 -1; -1 -1 -1 -1 -1 -1 -1 -1 -1 -1 -1 -1 -1 -1 -1 -1 -1 -1 -1 -1 -1 -1 -1 -1 -1 -1 -1 -1 -1 -1 -1 -1 -1 -1 -1 -1 -1 -1 -1 -1 -1 -1 -1 -1 -1 -1 -1 -1 -1 -1 -1; -1 -1 -1 -1 -1 -1 -1 -1 -1 -1 -1 -1 -1 -1 -1 -1 -1 -1 -1 -1 -1 -1 -1 -1 -1 -1 -1 -1 -1 -1 -1 -1 -1 -1 -1 -1 -1 -1 -1 -1 -1 -1 -1 -1 -1 -1 -1 -1 -1 -1 -1; -1 -1 -1 -1 -1 -1 -1 -1 -1 -1 -1 -1 -1 -1 -1 -1 -1 -1 -1 -1 -1 -1 -1 -1 -1 -1 -1 -1 -1 -1 -1 -1 -1 -1 -1 -1 -1 -1 -1 -1 -1 -1 -1 -1 -1 -1 -1 -1 -1 -1 -1; -1 -1 -1 -1 -1 -1 -1 -1 -1 -1 -1 -1 -1 -1 -1 -1 -1 -1 -1 -1 -1 -1 -1 -1 -1 -1 -1 -1 -1 -1 -1 -1 -1 -1 -1 -1 -1 -1 -1 -1 -1 -1 -1 -1 -1 -1 -1 -1 -1 -1 -1; -1 -1 -1 -1 -1 -1 -1 -1 -1 -1 -1 -1 -1 -1 -1 -1 -1 -1 -1 -1 -1 -1 -1 -1 -1 -1 -1 -1 -1 -1 -1 -1 -1 -1 -1 -1 -1 -1 -1 -1 -1 -1 -1 -1 -1 -1 -1 -1 -1 -1 -1; -1 -1 -1 -1 -1 -1 -1 -1 -1 -1 -1 -1 -1 -1 -1 -1 -1 -1 -1 -1 -1 -1 -1 -1 -1 -1 -1 -1 -1 -1 -1 -1 -1 -1 -1 -1 -1 -1 -1 -1 -1 -1 -1 -1 -1 -1 -1 -1 -1 -1 -1; -1 -1 -1 -1 -1 -1 -1 -1 -1 -1 -1 -1 -1 -1 -1 -1 -1 -1 -1 -1 -1 -1 -1 -1 -1 -1 -1 -1 -1 -1 -1 -1 -1 -1 -1 -1 -1 -1 -1 -1 -1 -1 -1 -1 -1 -1 -1 -1 -1 -1 -1; -1 -1 -1 -1 -1 -1 -1 -1 -1 -1 -1 -1 -1 -1 -1 -1 -1 -1 -1 -1 -1 -1 -1 -1 -1 -1 -1 -1 -1 -1 -1 -1 -1 -1 -1 -1 -1 -1 -1 -1 -1 -1 -1 -1 -1 -1 -1 -1 -1 -1 -1; -1 -1 -1 -1 -1 -1 -1 -1 -1 -1 -1 -1 -1 -1 -1 -1 -1 -1 -1 -1 -1 -1 -1 -1 -1 -1 -1 -1 -1 -1 -1 -1 -1 -1 -1 -1 -1 -1 -1 -1 -1 -1 -1 -1 -1 -1 -1 -1 -1 -1 -1]\n"
     ]
    }
   ],
   "source": [
    "println(Base.string(test_room.objTiles.data))"
   ]
  },
  {
   "cell_type": "code",
   "execution_count": 50,
   "metadata": {},
   "outputs": [
    {
     "data": {
      "text/plain": [
       "(:fgDecals, :bgDecals, :fgTiles, :bgTiles, :objTiles, :entities, :triggers, :name, :color, :position, :size, :musicLayer1, :musicLayer2, :musicLayer3, :musicLayer4, :musicProgress, :ambienceProgress, :delayAltMusicFade, :dark, :space, :underwater, :whisper, :music, :altMusic, :disableDownTransition, :windPattern, :cameraOffsetX, :cameraOffsetY)"
      ]
     },
     "metadata": {},
     "output_type": "display_data"
    }
   ],
   "source": [
    "ROOM_ATTR"
   ]
  },
  {
   "cell_type": "code",
   "execution_count": 51,
   "metadata": {},
   "outputs": [
    {
     "data": {
      "text/plain": [
       "(:fgDecals, :bgDecals, :fgTiles, :bgTiles, :objTiles)"
      ]
     },
     "metadata": {},
     "output_type": "display_data"
    }
   ],
   "source": [
    "ROOM_ATTR[1:5]"
   ]
  }
 ],
 "metadata": {
  "kernelspec": {
   "display_name": "Julia 1.6.0",
   "language": "julia",
   "name": "julia-1.6"
  },
  "language_info": {
   "file_extension": ".jl",
   "mimetype": "application/julia",
   "name": "julia",
   "version": "1.6.0"
  },
  "orig_nbformat": 4
 },
 "nbformat": 4,
 "nbformat_minor": 2
}
