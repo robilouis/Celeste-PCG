{
 "cells": [
  {
   "cell_type": "code",
   "execution_count": 4,
   "metadata": {},
   "outputs": [],
   "source": [
    "import sys"
   ]
  },
  {
   "cell_type": "code",
   "execution_count": 9,
   "metadata": {},
   "outputs": [
    {
     "data": {
      "text/plain": [
       "['/home/robilouis/Documents/Private/seleCte/Celeste-PCG/seleCte/level_generation',\n",
       " '/home/robilouis/.asdf/installs/python/3.11.1/lib/python311.zip',\n",
       " '/home/robilouis/.asdf/installs/python/3.11.1/lib/python3.11',\n",
       " '/home/robilouis/.asdf/installs/python/3.11.1/lib/python3.11/lib-dynload',\n",
       " '',\n",
       " '/home/robilouis/.local/lib/python3.11/site-packages',\n",
       " '/home/robilouis/.asdf/installs/python/3.11.1/lib/python3.11/site-packages',\n",
       " '.',\n",
       " '..']"
      ]
     },
     "execution_count": 9,
     "metadata": {},
     "output_type": "execute_result"
    }
   ],
   "source": [
    "sys.path"
   ]
  },
  {
   "cell_type": "code",
   "execution_count": 12,
   "metadata": {},
   "outputs": [],
   "source": [
    "sys.path.append(\"/home/robilouis/Documents/Private/seleCte/Celeste-PCG/seleCte/celeskeleton/\")"
   ]
  },
  {
   "cell_type": "code",
   "execution_count": 13,
   "metadata": {},
   "outputs": [],
   "source": [
    "from celeskeleton import PCG_skeleton, json_to_skeleton"
   ]
  },
  {
   "cell_type": "code",
   "execution_count": null,
   "metadata": {},
   "outputs": [],
   "source": []
  }
 ],
 "metadata": {
  "kernelspec": {
   "display_name": "Python 3",
   "language": "python",
   "name": "python3"
  },
  "language_info": {
   "codemirror_mode": {
    "name": "ipython",
    "version": 3
   },
   "file_extension": ".py",
   "mimetype": "text/x-python",
   "name": "python",
   "nbconvert_exporter": "python",
   "pygments_lexer": "ipython3",
   "version": "3.11.1"
  }
 },
 "nbformat": 4,
 "nbformat_minor": 2
}
