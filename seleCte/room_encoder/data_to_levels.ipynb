{
 "cells": [
  {
   "cell_type": "markdown",
   "metadata": {},
   "source": [
    "## Julia Level Encoder"
   ]
  },
  {
   "cell_type": "code",
   "execution_count": 2,
   "metadata": {},
   "outputs": [],
   "source": [
    "using CSV\n",
    "using DataFrames\n",
    "using DelimitedFiles\n",
    "using JSON\n",
    "using Maple"
   ]
  },
  {
   "cell_type": "code",
   "execution_count": 29,
   "metadata": {},
   "outputs": [
    {
     "data": {
      "text/plain": [
       "\"h))))((#((((00000000000000))))SS##S)))SShh\\nhh)))(#(((#(000000P00000000)))SSSSS)))Shhh\\nhhh(((((((((000000000000000))SSSSSS)))hhh)\\nhhh(((((((00000000000000000SS(#((S00))hhh)\\nh(((#000((000000000000000000(((#(0000Shh))\\n#((00000000000000000000000000(((00000Shh))\\n((#000000000\" ⋯ 4061 bytes ⋯ \"0000(((SS(#\\n000000000000000000000000000000000000SSSS#(\\n000000000000000000000000000000000000000000\\n((((hhS(00000000000hhh00000000000000000000\\n(((hhh)(((S00000000hhh00000000000000000000\\n((hhhh)))SS00000000h(S00000000000000000000\\n(((S)))))SS00000000((S000000000000(#SSSS((\\n\""
      ]
     },
     "metadata": {},
     "output_type": "display_data"
    }
   ],
   "source": [
    "fgt = \"\"\"\n",
    "h))))((#((((00000000000000))))SS##S)))SShh\n",
    "hh)))(#(((#(000000P00000000)))SSSSS)))Shhh\n",
    "hhh(((((((((000000000000000))SSSSSS)))hhh)\n",
    "hhh(((((((00000000000000000SS(#((S00))hhh)\n",
    "h(((#000((000000000000000000(((#(0000Shh))\n",
    "#((00000000000000000000000000(((00000Shh))\n",
    "((#00000000000000000000000000(((00000Shhhh\n",
    "S0000000000000000000000000000#(000000Shhhh\n",
    "S0000000000000000000000000000((000000Shhhh\n",
    "S0000000000000000000000000000((000000SShhh\n",
    "S000000000000000000000000000000000000))))S\n",
    "S000000000000000000000000000000000000))))S\n",
    "S0000000000000000000000000000000000000(((#\n",
    "S00000000000000000000000000000000000000#((\n",
    "S00000000000000000000000000000000000000000\n",
    "SS00000000((00000(((0000000000000000000000\n",
    "((00000000((#((((((#0000000000000000000000\n",
    "((00000000SS(((((#((0000000000000000000000\n",
    "((S000000SSSSS((((((0000000000000000000000\n",
    "((SSSSSSSSSSSSS)))))0000000000000000000000\n",
    "))hhhhhSSSS##S)))))000000000SS000000SS))))\n",
    ")))hhhhhSSS##S)0000000000000SS0000000S))))\n",
    ")))hhhhSSS00000000000000000))S000000000)))\n",
    ")))hhhSSS000000000000000000)))00000000000)\n",
    "hhhhhS)))000000000000000000))000000000000)\n",
    "hhSSS())000000000000000000000000000000000S\n",
    "hhSSS))00000000000000000000000000000000000\n",
    "hh(()))00000000000000000000000000000000000\n",
    "h((()))00000000000000000000000000000000000\n",
    "((#((((00000000000000000000000000000000000\n",
    "((((((000000000000000000000000000000000000\n",
    "((#(((000000000000000000000000000000000000\n",
    "((((#(000000000000000000000000000000000000\n",
    "#(((((000000000000000000000000000000000000\n",
    "((((((000000000000000000000000000000000000\n",
    "(((((0000000000000000000000000000(#((00000\n",
    "((#((0000000000000000000000000000##((((S))\n",
    "hhhhS000000000000000000000000000000##((S))\n",
    "hhhSS000000000000000000000000000000000(#S)\n",
    "hhhSS00000000000000000000000000000000000SS\n",
    "hhSSS00000000000000000000000000000000000hS\n",
    "h)))000000000000000000000000000000000000hS\n",
    "))))000000000000000000000000000000000000hS\n",
    "))))000000000000000000000000000000000000hS\n",
    "SSS((00000000000000000000000000000000000))\n",
    "hSS((00000000000000000000000000000000000))\n",
    "hSS(((0000000000000000000000000000000000SS\n",
    "hhS(((0000000000000000000000000000000000hS\n",
    "hhS(((0000000000000000000000000000000000hh\n",
    "hhS(((0000000000000000000000000000000000(h\n",
    "hhS((0000000000000000000000000000000000000\n",
    "hhSS00000000000000000000000000000000000000\n",
    "h))000000000000000000000000000000000000000\n",
    ")))000000000000000000000000000000000000000\n",
    ")))000000000000000000000000000#(0000000000\n",
    "(((000000000000000000000000000(#0000000000\n",
    "###000000000000000000000000000((0(00000000\n",
    "(((000000000000000000000000000#(0(#(hh0000\n",
    "hh(0000000000000000000000000000#0(((hhhhhh\n",
    "hh(00000000000000000000000000000000(#Shhhh\n",
    "h(#000000000000000000000000000000000SSShh)\n",
    "S##000000000000000000000000000000000SS))))\n",
    "S)(00000000000000000000000000000000000)))S\n",
    "SS00000000000000000000000000000000000000hh\n",
    "#S00000000000000000000000000000000000000hh\n",
    "#(000000000000000000000000000000000000000h\n",
    "((0000000000000000000000000000000000000000\n",
    "((0000000000000000000000000000000000000000\n",
    "((0000000000000000000000000000000000000000\n",
    "(#0000000000000000000000000000000000000000\n",
    "hh0000000000000000000000000000000000000000\n",
    "hh0000000000000000000000000000000000000000\n",
    "hS0000000000000000000000000000000000000000\n",
    "))0000000000000000000000000000000000000000\n",
    "))0000000000000000000000000000000000000000\n",
    "))0000000000000000000000000000000000000000\n",
    "SS0000000000000000000000000000000000000000\n",
    "(#0000000000000000000000000000000000000000\n",
    "((0000000000000000000000000000000000000000\n",
    "(00000000000000000000000000000000000000000\n",
    "(00000000000000000000000000000000000000000\n",
    "(000000000000000000000000000000000))))hhhh\n",
    "(000000000000000000000000000000000)))))hh(\n",
    "(000000000000000000000000000000000)))))SS(\n",
    "(0000000000000000000000000000000000S)))SS(\n",
    "#(0000000000000000000000000000000000))))SS\n",
    "((0000000000000000000000000000000000))))))\n",
    "(#0000000000000000000000000000000000))))))\n",
    "0000000000000000000000000000000000000))))S\n",
    "00000000000000000000000000000000000000)))S\n",
    "00000000000000000000000000000000000000SSSh\n",
    "0000000000000000000000000000000000000##SSh\n",
    "0000000000000000000000000000000000(((((SSh\n",
    "0000000000000000000000000000000000#(((SShh\n",
    "0000000000000000000000000000000000((((SShh\n",
    "000000000000000000000000000000000((((())hh\n",
    "000000000000000000000000000000000((#()))hh\n",
    "0000000000000000000000000000000000((()))hh\n",
    "0000000000000000000000000000000000((()))(h\n",
    "00000000000000000000000000000000000(#))((h\n",
    "00000000000000000000000000000000000(((SS(#\n",
    "000000000000000000000000000000000000SSSS#(\n",
    "000000000000000000000000000000000000000000\n",
    "((((hhS(00000000000hhh00000000000000000000\n",
    "(((hhh)(((S00000000hhh00000000000000000000\n",
    "((hhhh)))SS00000000h(S00000000000000000000\n",
    "(((S)))))SS00000000((S000000000000(#SSSS((\n",
    "\"\"\""
   ]
  },
  {
   "cell_type": "code",
   "execution_count": 18,
   "metadata": {},
   "outputs": [
    {
     "data": {
      "text/plain": [
       "\"1111111111111111111111111111111111111111\\n1000000000000000000000000000000000000001\\n1000000000000000000000000000000000000001\\n10000000000000000000R0000000000000000001\\n10000000000000000000000000000000H0000001\\n1000000000000000000000000000000000000001\\n100000000000000000R000000\" ⋯ 402 bytes ⋯ \"00000000000000000000001\\n10000000000000F000000000R000000000000001\\n10000P0000000000000000000000000000000001\\n1000000000000000000000000000000000000001\\n1000___000000000000000000000000000000001\\n10000000000000^^^^^^^^^^^^^^^^^^^^^^^^01\\n1111111111111111111111111111111111111111\\n\""
      ]
     },
     "metadata": {},
     "output_type": "display_data"
    }
   ],
   "source": [
    "fgt = \"\"\"\n",
    "1111111111111111111111111111111111111111\n",
    "1000000000000000000000000000000000000001\n",
    "1000000000000000000000000000000000000001\n",
    "10000000000000000000R0000000000000000001\n",
    "10000000000000000000000000000000H0000001\n",
    "1000000000000000000000000000000000000001\n",
    "100000000000000000R000000000000000000001\n",
    "1000000000000000000000000000000000000001\n",
    "1000000000000000000000000000000000000001\n",
    "10000000000000R0000000000000000000000001\n",
    "10000000000000000000000000Q0000000000001\n",
    "1000000000000000000000000000000000000001\n",
    "1000000000000000000000000000000000000001\n",
    "1000000000000000000000000000000000000001\n",
    "1000000000000000000000000R00000000000001\n",
    "1000000000000000000000000000000000000001\n",
    "1000000000000000000000000000000000000001\n",
    "10000000000000F000000000R000000000000001\n",
    "10000P0000000000000000000000000000000001\n",
    "1000000000000000000000000000000000000001\n",
    "1000___000000000000000000000000000000001\n",
    "10000000000000^^^^^^^^^^^^^^^^^^^^^^^^01\n",
    "1111111111111111111111111111111111111111\n",
    "\"\"\""
   ]
  },
  {
   "cell_type": "code",
   "execution_count": 19,
   "metadata": {},
   "outputs": [
    {
     "data": {
      "text/plain": [
       "943"
      ]
     },
     "metadata": {},
     "output_type": "display_data"
    }
   ],
   "source": [
    "sizeof(fgt)"
   ]
  },
  {
   "cell_type": "code",
   "execution_count": 4,
   "metadata": {},
   "outputs": [
    {
     "data": {
      "text/plain": [
       "920"
      ]
     },
     "metadata": {},
     "output_type": "display_data"
    }
   ],
   "source": [
    "23*40"
   ]
  },
  {
   "cell_type": "code",
   "execution_count": 20,
   "metadata": {},
   "outputs": [
    {
     "data": {
      "text/plain": [
       "Room(Decal[], Decal[], Tiles(['1' '1' … '1' '1'; '1' '0' … '0' '1'; … ; '1' '0' … '0' '1'; '1' '1' … '1' '1']), Tiles(['0' '0' … '0' '0'; '0' '0' … '0' '0'; … ; '0' '0' … '0' '0'; '0' '0' … '0' '0']), ObjectTiles([-1 -1 … -1 -1; -1 -1 … -1 -1; … ; -1 -1 … -1 -1; -1 -1 … -1 -1]), Entity[Refill(\"refill\", Dict{String, Any}(\"twoDash\" => false, \"x\" => 164, \"oneUse\" => false, \"y\" => 28), 11), CrystalHeart(\"blackGem\", Dict{String, Any}(\"fake\" => false, \"fakeHeartDialog\" => \"CH9_FAKE_HEART\", \"x\" => 256, \"keepGoingDialog\" => \"CH9_KEEP_GOING\", \"removeCameraTriggers\" => false, \"y\" => 32), 12), Refill(\"refill\", Dict{String, Any}(\"twoDash\" => false, \"x\" => 148, \"oneUse\" => false, \"y\" => 52), 13), Refill(\"refill\", Dict{String, Any}(\"twoDash\" => false, \"x\" => 116, \"oneUse\" => false, \"y\" => 76), 14), Booster(\"booster\", Dict{String, Any}(\"ch9_hub_booster\" => false, \"x\" => 212, \"red\" => true, \"y\" => 84), 15), Refill(\"refill\", Dict{String, Any}(\"twoDash\" => false, \"x\" => 204, \"oneUse\" => false, \"y\" => 116), 16), Feather(\"infiniteStar\", Dict{String, Any}(\"singleUse\" => false, \"x\" => 116, \"shielded\" => false, \"y\" => 140), 17), Refill(\"refill\", Dict{String, Any}(\"twoDash\" => false, \"x\" => 196, \"oneUse\" => false, \"y\" => 140), 18), Player(\"player\", Dict{String, Any}(\"x\" => 48, \"y\" => 152), 19), JumpThru(\"jumpThru\", Dict{String, Any}(\"x\" => 32, \"width\" => 24, \"surfaceIndex\" => -1, \"texture\" => \"wood\", \"y\" => 160), 20), SpikesUp(\"spikesUp\", Dict{String, Any}(\"x\" => 112, \"width\" => 192, \"type\" => \"default\", \"y\" => 176), 21)], Trigger[], \"room_1\", 0, (0, 0), (320, 184), true, true, true, true, \"\", \"\", false, false, false, false, false, \"music_oldsite_awake\", \"\", false, \"None\", 0.0, 0.0)"
      ]
     },
     "metadata": {},
     "output_type": "display_data"
    }
   ],
   "source": [
    "room = Room(\n",
    "    name=\"room_1\",\n",
    "    fgTiles=FgTiles(fgt),\n",
    "    position=(0, 0),\n",
    "    size=size(FgTiles(fgt)),\n",
    "    entities=entityMap(fgt)\n",
    ")"
   ]
  },
  {
   "cell_type": "code",
   "execution_count": 21,
   "metadata": {},
   "outputs": [
    {
     "data": {
      "text/plain": [
       "11-element Vector{Entity}:\n",
       " Refill(\"refill\", Dict{String, Any}(\"twoDash\" => false, \"x\" => 164, \"oneUse\" => false, \"y\" => 28), 11)\n",
       " CrystalHeart(\"blackGem\", Dict{String, Any}(\"fake\" => false, \"fakeHeartDialog\" => \"CH9_FAKE_HEART\", \"x\" => 256, \"keepGoingDialog\" => \"CH9_KEEP_GOING\", \"removeCameraTriggers\" => false, \"y\" => 32), 12)\n",
       " Refill(\"refill\", Dict{String, Any}(\"twoDash\" => false, \"x\" => 148, \"oneUse\" => false, \"y\" => 52), 13)\n",
       " Refill(\"refill\", Dict{String, Any}(\"twoDash\" => false, \"x\" => 116, \"oneUse\" => false, \"y\" => 76), 14)\n",
       " Booster(\"booster\", Dict{String, Any}(\"ch9_hub_booster\" => false, \"x\" => 212, \"red\" => true, \"y\" => 84), 15)\n",
       " Refill(\"refill\", Dict{String, Any}(\"twoDash\" => false, \"x\" => 204, \"oneUse\" => false, \"y\" => 116), 16)\n",
       " Feather(\"infiniteStar\", Dict{String, Any}(\"singleUse\" => false, \"x\" => 116, \"shielded\" => false, \"y\" => 140), 17)\n",
       " Refill(\"refill\", Dict{String, Any}(\"twoDash\" => false, \"x\" => 196, \"oneUse\" => false, \"y\" => 140), 18)\n",
       " Player(\"player\", Dict{String, Any}(\"x\" => 48, \"y\" => 152), 19)\n",
       " JumpThru(\"jumpThru\", Dict{String, Any}(\"x\" => 32, \"width\" => 24, \"surfaceIndex\" => -1, \"texture\" => \"wood\", \"y\" => 160), 20)\n",
       " SpikesUp(\"spikesUp\", Dict{String, Any}(\"x\" => 112, \"width\" => 192, \"type\" => \"default\", \"y\" => 176), 21)"
      ]
     },
     "metadata": {},
     "output_type": "display_data"
    }
   ],
   "source": [
    "room.entities"
   ]
  },
  {
   "cell_type": "code",
   "execution_count": 22,
   "metadata": {},
   "outputs": [
    {
     "data": {
      "text/plain": [
       "Room[]"
      ]
     },
     "metadata": {},
     "output_type": "display_data"
    }
   ],
   "source": [
    "room_vect = Room[]"
   ]
  },
  {
   "cell_type": "code",
   "execution_count": 23,
   "metadata": {},
   "outputs": [
    {
     "data": {
      "text/plain": [
       "1-element Vector{Room}:\n",
       " Room(Decal[], Decal[], Tiles(['1' '1' … '1' '1'; '1' '0' … '0' '1'; … ; '1' '0' … '0' '1'; '1' '1' … '1' '1']), Tiles(['0' '0' … '0' '0'; '0' '0' … '0' '0'; … ; '0' '0' … '0' '0'; '0' '0' … '0' '0']), ObjectTiles([-1 -1 … -1 -1; -1 -1 … -1 -1; … ; -1 -1 … -1 -1; -1 -1 … -1 -1]), Entity[Refill(\"refill\", Dict{String, Any}(\"twoDash\" => false, \"x\" => 164, \"oneUse\" => false, \"y\" => 28), 11), CrystalHeart(\"blackGem\", Dict{String, Any}(\"fake\" => false, \"fakeHeartDialog\" => \"CH9_FAKE_HEART\", \"x\" => 256, \"keepGoingDialog\" => \"CH9_KEEP_GOING\", \"removeCameraTriggers\" => false, \"y\" => 32), 12), Refill(\"refill\", Dict{String, Any}(\"twoDash\" => false, \"x\" => 148, \"oneUse\" => false, \"y\" => 52), 13), Refill(\"refill\", Dict{String, Any}(\"twoDash\" => false, \"x\" => 116, \"oneUse\" => false, \"y\" => 76), 14), Booster(\"booster\", Dict{String, Any}(\"ch9_hub_booster\" => false, \"x\" => 212, \"red\" => true, \"y\" => 84), 15), Refill(\"refill\", Dict{String, Any}(\"twoDash\" => false, \"x\" => 204, \"oneUse\" => false, \"y\" => 116), 16), Feather(\"infiniteStar\", Dict{String, Any}(\"singleUse\" => false, \"x\" => 116, \"shielded\" => false, \"y\" => 140), 17), Refill(\"refill\", Dict{String, Any}(\"twoDash\" => false, \"x\" => 196, \"oneUse\" => false, \"y\" => 140), 18), Player(\"player\", Dict{String, Any}(\"x\" => 48, \"y\" => 152), 19), JumpThru(\"jumpThru\", Dict{String, Any}(\"x\" => 32, \"width\" => 24, \"surfaceIndex\" => -1, \"texture\" => \"wood\", \"y\" => 160), 20), SpikesUp(\"spikesUp\", Dict{String, Any}(\"x\" => 112, \"width\" => 192, \"type\" => \"default\", \"y\" => 176), 21)], Trigger[], \"room_1\", 0, (0, 0), (320, 184), true, true, true, true, \"\", \"\", false, false, false, false, false, \"music_oldsite_awake\", \"\", false, \"None\", 0.0, 0.0)"
      ]
     },
     "metadata": {},
     "output_type": "display_data"
    }
   ],
   "source": [
    "push!(room_vect, room)"
   ]
  },
  {
   "cell_type": "code",
   "execution_count": 24,
   "metadata": {},
   "outputs": [
    {
     "data": {
      "text/plain": [
       "1402"
      ]
     },
     "metadata": {},
     "output_type": "display_data"
    }
   ],
   "source": [
    "map = Map(\"test-map-heart-final\", room_vect)\n",
    "encodeMap(map, \"test_map_heart_final.bin\")"
   ]
  },
  {
   "cell_type": "code",
   "execution_count": 27,
   "metadata": {},
   "outputs": [
    {
     "ename": "UndefVarError",
     "evalue": "UndefVarError: `d_metadata` not defined",
     "output_type": "error",
     "traceback": [
      "UndefVarError: `d_metadata` not defined\n",
      "\n",
      "Stacktrace:\n",
      " [1] top-level scope\n",
      "   @ ~/Documents/Private/seleCte/Celeste-PCG/seleCte/room_encoder/data_to_levels.ipynb:2"
     ]
    }
   ],
   "source": [
    "room_vect = Room[]\n",
    "    for i = 1:length(d_metadata)\n",
    "        push!(room_vect, create_room(i, d_metadata, lvl_data_folder))\n",
    "    end\n",
    "    map = Map(\n",
    "        map_name,\n",
    "        room_vect\n",
    "    )"
   ]
  },
  {
   "cell_type": "markdown",
   "metadata": {},
   "source": [
    "## Function to encode map"
   ]
  },
  {
   "cell_type": "markdown",
   "metadata": {},
   "source": [
    "#### Load metadata json file into a dict"
   ]
  },
  {
   "cell_type": "code",
   "execution_count": 21,
   "metadata": {},
   "outputs": [
    {
     "data": {
      "text/plain": [
       "Dict{String, Any} with 10 entries:\n",
       "  \"room_7\"  => Dict{String, Any}(\"exits\"=>Dict{String, Any}(\"left\"=>Any[Any[-68…\n",
       "  \"room_4\"  => Dict{String, Any}(\"exits\"=>Dict{String, Any}(\"left\"=>Any[Any[-37…\n",
       "  \"room_9\"  => Dict{String, Any}(\"exits\"=>Dict{String, Any}(\"left\"=>Any[Any[-10…\n",
       "  \"room_3\"  => Dict{String, Any}(\"exits\"=>Dict{String, Any}(\"left\"=>Any[Any[-29…\n",
       "  \"room_1\"  => Dict{String, Any}(\"exits\"=>Dict{String, Any}(\"left\"=>Any[], \"rig…\n",
       "  \"room_2\"  => Dict{String, Any}(\"exits\"=>Dict{String, Any}(\"left\"=>Any[Any[2, …\n",
       "  \"room_8\"  => Dict{String, Any}(\"exits\"=>Dict{String, Any}(\"left\"=>Any[], \"rig…\n",
       "  \"room_10\" => Dict{String, Any}(\"exits\"=>Dict{String, Any}(\"left\"=>Any[Any[-10…\n",
       "  \"room_5\"  => Dict{String, Any}(\"exits\"=>Dict{String, Any}(\"left\"=>Any[Any[-51…\n",
       "  \"room_6\"  => Dict{String, Any}(\"exits\"=>Dict{String, Any}(\"left\"=>Any[], \"rig…"
      ]
     },
     "metadata": {},
     "output_type": "display_data"
    }
   ],
   "source": [
    "d_metadata_lvl = Dict()\n",
    "open(\"../pcg/pcg_model/test_full_lvl/data.json\", \"r\") do f\n",
    "    global d_metadata_lvl\n",
    "    dicttxt = read(f, String)  # file information to string\n",
    "    d_metadata_lvl=JSON.parse(dicttxt)  # parse and transform data\n",
    "end"
   ]
  },
  {
   "cell_type": "markdown",
   "metadata": {},
   "source": [
    "#### Functions to loop over all rooms data (both json and csv) and create a Room Vector + encoding Map object"
   ]
  },
  {
   "cell_type": "code",
   "execution_count": 44,
   "metadata": {},
   "outputs": [
    {
     "data": {
      "text/plain": [
       "create_map_file (generic function with 1 method)"
      ]
     },
     "metadata": {},
     "output_type": "display_data"
    }
   ],
   "source": [
    "function get_origin_room_from_metadata_dict(room_nb, d_metadata)\n",
    "    get(get(d_metadata, \"room_$room_nb\", nothing), \"origin\", nothing)\n",
    "end\n",
    "\n",
    "function create_room(room_nb, d_metadata, lvl_data_folder)\n",
    "    data = Matrix(CSV.read(\"$lvl_data_folder/room_$room_nb.csv\", DataFrame, header=false, types=Char))\n",
    "    fgTiles = FgTiles(data)\n",
    "    origin = get_origin_room_from_metadata_dict(room_nb, d_metadata)\n",
    "    Room(\n",
    "        name = \"room_$room_nb\",\n",
    "        fgTiles = fgTiles,\n",
    "        position = (origin[1]*8, origin[2]*8),\n",
    "        size = size(fgTiles),\n",
    "        entities = entityMap(data)\n",
    "    )\n",
    "end\n",
    "\n",
    "function create_map_file(d_metadata, lvl_data_folder, map_name)\n",
    "    room_vect = Room[]\n",
    "    for i = 1:length(d_metadata)\n",
    "        push!(room_vect, create_room(i, d_metadata, lvl_data_folder))\n",
    "    end\n",
    "    map = Map(\n",
    "        map_name,\n",
    "        room_vect\n",
    "    )\n",
    "\n",
    "    encodeMap(map, \"$map_name.bin\")\n",
    "end"
   ]
  },
  {
   "cell_type": "code",
   "execution_count": 26,
   "metadata": {},
   "outputs": [
    {
     "data": {
      "text/plain": [
       "Room(Decal[], Decal[], Tiles(['3' '3' … '3' '3'; '3' '0' … '0' '3'; … ; '3' '0' … '0' '3'; '3' '3' … '3' '3']), Tiles(['0' '0' … '0' '0'; '0' '0' … '0' '0'; … ; '0' '0' … '0' '0'; '0' '0' … '0' '0']), ObjectTiles([-1 -1 … -1 -1; -1 -1 … -1 -1; … ; -1 -1 … -1 -1; -1 -1 … -1 -1]), Entity[], Trigger[], \"room_1\", 0, (0, 0), (384, 192), true, true, true, true, \"\", \"\", false, false, false, false, false, \"music_oldsite_awake\", \"\", false, \"None\", 0.0, 0.0)"
      ]
     },
     "metadata": {},
     "output_type": "display_data"
    }
   ],
   "source": [
    "room = Room(\n",
    "    name = \"room_1\",\n",
    "    fgTiles = fgTiles,\n",
    "    position = (0, 0),\n",
    "    size = size(fgTiles),\n",
    "    entities = entityMap(fgTiles)\n",
    ")"
   ]
  },
  {
   "cell_type": "code",
   "execution_count": 27,
   "metadata": {},
   "outputs": [
    {
     "data": {
      "text/plain": [
       "1-element Vector{Room}:\n",
       " Room(Decal[], Decal[], Tiles(['3' '3' … '3' '3'; '3' '0' … '0' '3'; … ; '3' '0' … '0' '3'; '3' '3' … '3' '3']), Tiles(['0' '0' … '0' '0'; '0' '0' … '0' '0'; … ; '0' '0' … '0' '0'; '0' '0' … '0' '0']), ObjectTiles([-1 -1 … -1 -1; -1 -1 … -1 -1; … ; -1 -1 … -1 -1; -1 -1 … -1 -1]), Entity[], Trigger[], \"room_1\", 0, (0, 0), (384, 192), true, true, true, true, \"\", \"\", false, false, false, false, false, \"music_oldsite_awake\", \"\", false, \"None\", 0.0, 0.0)"
      ]
     },
     "metadata": {},
     "output_type": "display_data"
    }
   ],
   "source": [
    "room_vect = Room[room]"
   ]
  },
  {
   "cell_type": "code",
   "execution_count": null,
   "metadata": {},
   "outputs": [],
   "source": [
    "map = Map(\"test_map\")"
   ]
  },
  {
   "cell_type": "code",
   "execution_count": 25,
   "metadata": {},
   "outputs": [
    {
     "ename": "ErrorException",
     "evalue": "cannot assign a value to imported variable Base.map from module Main",
     "output_type": "error",
     "traceback": [
      "cannot assign a value to imported variable Base.map from module Main\n",
      "\n",
      "Stacktrace:\n",
      " [1] top-level scope\n",
      "   @ ~/Documents/Private/seleCte/Celeste-PCG/seleCte/room_encoder/data_to_levels.ipynb:1"
     ]
    }
   ],
   "source": [
    "map = Map(\n",
    "    \"test_map\",\n",
    "    Room[room]\n",
    ")"
   ]
  },
  {
   "cell_type": "code",
   "execution_count": 47,
   "metadata": {},
   "outputs": [
    {
     "data": {
      "text/plain": [
       "8073"
      ]
     },
     "metadata": {},
     "output_type": "display_data"
    }
   ],
   "source": [
    "create_map_file(d_metadata_lvl, \"../pcg/pcg_model/test_full_lvl\", \"test_map_en_legende\")"
   ]
  },
  {
   "cell_type": "code",
   "execution_count": 24,
   "metadata": {},
   "outputs": [
    {
     "ename": "ErrorException",
     "evalue": "cannot assign a value to imported variable Base.map from module Main",
     "output_type": "error",
     "traceback": [
      "cannot assign a value to imported variable Base.map from module Main\n",
      "\n",
      "Stacktrace:\n",
      " [1] top-level scope\n",
      "   @ ~/Documents/Private/seleCte/Celeste-PCG/seleCte/room_encoder/data_to_levels.ipynb:29"
     ]
    }
   ],
   "source": [
    "lvl_1_fg = \"\"\"\n",
    "333333333333333333333333333333333333333333333333\n",
    "3                                              3\n",
    "3                                              3\n",
    "3                                              3\n",
    "3                                              3\n",
    "3                                              3\n",
    "3                                              3\n",
    "3                                              3\n",
    "3                                              3\n",
    "3                                              3\n",
    "3                                              3\n",
    "3                                              3\n",
    "3                                              3\n",
    "3                                              3\n",
    "3333333                                        3\n",
    "3vvvvvv    Q                         F         3\n",
    "3                                              3\n",
    "3        O                                     3\n",
    "3>                                             3\n",
    "3>    3333>  R                                 3\n",
    "3     3333>        DDDDDD                      3\n",
    "3                  DDDDDD                      3\n",
    "3P ^^^^^^                                      3\n",
    "333333333333333333333333333333333333333333333333\n",
    "\"\"\"\n",
    "\n",
    "\n",
    "map = Map(\n",
    "    \"EntityMapExample\",\n",
    "    Room[\n",
    "        Room(\n",
    "            name = \"lvl_1\",\n",
    "\n",
    "            fgTiles = FgTiles(lvl_1_fg),\n",
    "\n",
    "            position = (0, 0),\n",
    "            size = size(fgTiles),\n",
    "\n",
    "            entities = entityMap(lvl_1_fg)\n",
    "        )\n",
    "    ]\n",
    ")\n",
    "\n",
    "encodeMap(map, \"Testing-EntityMap.bin\")"
   ]
  },
  {
   "cell_type": "code",
   "execution_count": null,
   "metadata": {},
   "outputs": [],
   "source": []
  }
 ],
 "metadata": {
  "kernelspec": {
   "display_name": "Julia 1.9.3",
   "language": "julia",
   "name": "julia-1.9"
  },
  "language_info": {
   "file_extension": ".jl",
   "mimetype": "application/julia",
   "name": "julia",
   "version": "1.9.3"
  },
  "orig_nbformat": 4
 },
 "nbformat": 4,
 "nbformat_minor": 2
}
