{
 "cells": [
  {
   "cell_type": "markdown",
   "metadata": {},
   "source": [
    "## Julia Level Encoder"
   ]
  },
  {
   "cell_type": "code",
   "execution_count": 12,
   "metadata": {},
   "outputs": [],
   "source": [
    "using CSV\n",
    "using DataFrames\n",
    "using DelimitedFiles\n",
    "using JSON\n",
    "using Maple"
   ]
  },
  {
   "cell_type": "markdown",
   "metadata": {},
   "source": [
    "## Function to encode map"
   ]
  },
  {
   "cell_type": "markdown",
   "metadata": {},
   "source": [
    "#### Load metadata json file into a dict"
   ]
  },
  {
   "cell_type": "code",
   "execution_count": 21,
   "metadata": {},
   "outputs": [
    {
     "data": {
      "text/plain": [
       "Dict{String, Any} with 10 entries:\n",
       "  \"room_7\"  => Dict{String, Any}(\"exits\"=>Dict{String, Any}(\"left\"=>Any[Any[-68…\n",
       "  \"room_4\"  => Dict{String, Any}(\"exits\"=>Dict{String, Any}(\"left\"=>Any[Any[-37…\n",
       "  \"room_9\"  => Dict{String, Any}(\"exits\"=>Dict{String, Any}(\"left\"=>Any[Any[-10…\n",
       "  \"room_3\"  => Dict{String, Any}(\"exits\"=>Dict{String, Any}(\"left\"=>Any[Any[-29…\n",
       "  \"room_1\"  => Dict{String, Any}(\"exits\"=>Dict{String, Any}(\"left\"=>Any[], \"rig…\n",
       "  \"room_2\"  => Dict{String, Any}(\"exits\"=>Dict{String, Any}(\"left\"=>Any[Any[2, …\n",
       "  \"room_8\"  => Dict{String, Any}(\"exits\"=>Dict{String, Any}(\"left\"=>Any[], \"rig…\n",
       "  \"room_10\" => Dict{String, Any}(\"exits\"=>Dict{String, Any}(\"left\"=>Any[Any[-10…\n",
       "  \"room_5\"  => Dict{String, Any}(\"exits\"=>Dict{String, Any}(\"left\"=>Any[Any[-51…\n",
       "  \"room_6\"  => Dict{String, Any}(\"exits\"=>Dict{String, Any}(\"left\"=>Any[], \"rig…"
      ]
     },
     "metadata": {},
     "output_type": "display_data"
    }
   ],
   "source": [
    "d_metadata_lvl = Dict()\n",
    "open(\"../pcg/pcg_model/test_full_lvl/data.json\", \"r\") do f\n",
    "    global d_metadata_lvl\n",
    "    dicttxt = read(f, String)  # file information to string\n",
    "    d_metadata_lvl=JSON.parse(dicttxt)  # parse and transform data\n",
    "end"
   ]
  },
  {
   "cell_type": "markdown",
   "metadata": {},
   "source": [
    "#### Functions to loop over all rooms data (both json and csv) and create a Room Vector + encoding Map object"
   ]
  },
  {
   "cell_type": "code",
   "execution_count": 44,
   "metadata": {},
   "outputs": [
    {
     "data": {
      "text/plain": [
       "create_map_file (generic function with 1 method)"
      ]
     },
     "metadata": {},
     "output_type": "display_data"
    }
   ],
   "source": [
    "function get_origin_room_from_metadata_dict(room_nb, d_metadata)\n",
    "    get(get(d_metadata, \"room_$room_nb\", nothing), \"origin\", nothing)\n",
    "end\n",
    "\n",
    "function create_room(room_nb, d_metadata, lvl_data_folder)\n",
    "    data = Matrix(CSV.read(\"$lvl_data_folder/room_$room_nb.csv\", DataFrame, header=false, types=Char))\n",
    "    fgTiles = FgTiles(data)\n",
    "    origin = get_origin_room_from_metadata_dict(room_nb, d_metadata)\n",
    "    Room(\n",
    "        name = \"room_$room_nb\",\n",
    "        fgTiles = fgTiles,\n",
    "        position = (origin[1]*8, origin[2]*8),\n",
    "        size = size(fgTiles),\n",
    "        entities = entityMap(data)\n",
    "    )\n",
    "end\n",
    "\n",
    "function create_map_file(d_metadata, lvl_data_folder, map_name)\n",
    "    room_vect = Room[]\n",
    "    for i = 1:length(d_metadata)\n",
    "        push!(room_vect, create_room(i, d_metadata, lvl_data_folder))\n",
    "    end\n",
    "    map = Map(\n",
    "        map_name,\n",
    "        room_vect\n",
    "    )\n",
    "\n",
    "    encodeMap(map, \"$map_name.bin\")\n",
    "end"
   ]
  },
  {
   "cell_type": "code",
   "execution_count": 47,
   "metadata": {},
   "outputs": [
    {
     "data": {
      "text/plain": [
       "8073"
      ]
     },
     "metadata": {},
     "output_type": "display_data"
    }
   ],
   "source": [
    "create_map_file(d_metadata_lvl, \"../pcg/pcg_model/test_full_lvl\", \"test_map_en_legende\")"
   ]
  }
 ],
 "metadata": {
  "kernelspec": {
   "display_name": "Julia 1.9.3",
   "language": "julia",
   "name": "julia-1.9"
  },
  "language_info": {
   "file_extension": ".jl",
   "mimetype": "application/julia",
   "name": "julia",
   "version": "1.9.3"
  },
  "orig_nbformat": 4
 },
 "nbformat": 4,
 "nbformat_minor": 2
}
