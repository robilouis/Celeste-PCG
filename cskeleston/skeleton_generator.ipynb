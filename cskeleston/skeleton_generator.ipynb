{
 "cells": [
  {
   "cell_type": "code",
   "execution_count": null,
   "metadata": {},
   "outputs": [],
   "source": [
    "using Pkg\n",
    "using Maple\n",
    "using DelimitedFiles"
   ]
  },
  {
   "cell_type": "code",
   "execution_count": null,
   "metadata": {},
   "outputs": [
    {
     "data": {
      "text/plain": [
       "empty_room_gen (generic function with 1 method)"
      ]
     },
     "metadata": {},
     "output_type": "display_data"
    }
   ],
   "source": [
    "function empty_room_gen(height::Int64, width::Int64)\n",
    "    wall = \"\"\"3\"\"\"\n",
    "    void = \"\"\" \"\"\"\n",
    "    madeline = \"\"\"P\"\"\"\n",
    "    room = (wall^width)*\"\"\"\\n\"\"\"\n",
    "    for w in 1:height-3\n",
    "        room = room*wall*void^(width-2)*wall*\"\"\"\\n\"\"\"\n",
    "    end\n",
    "    room = room*wall*void*madeline*void^(width-4)*wall*\"\"\"\\n\"\"\"*(wall^width)*\"\"\"\\n\"\"\"\n",
    "end"
   ]
  },
  {
   "cell_type": "code",
   "execution_count": null,
   "metadata": {},
   "outputs": [
    {
     "name": "stdout",
     "output_type": "stream",
     "text": [
      "33333333333333333333333333333333333333333333333333\n",
      "3                                                3\n",
      "3                                                3\n",
      "3                                                3\n",
      "3                                                3\n",
      "3                                                3\n",
      "3                                                3\n",
      "3                                                3\n",
      "3 P                                              3\n",
      "33333333333333333333333333333333333333333333333333\n",
      "\n"
     ]
    }
   ],
   "source": [
    "println(empty_room_gen(10, 50))"
   ]
  },
  {
   "cell_type": "code",
   "execution_count": null,
   "metadata": {},
   "outputs": [],
   "source": []
  }
 ],
 "metadata": {
  "kernelspec": {
   "display_name": "Julia 1.6.0",
   "language": "julia",
   "name": "julia-1.6"
  },
  "language_info": {
   "file_extension": ".jl",
   "mimetype": "application/julia",
   "name": "julia",
   "version": "1.6.0"
  },
  "orig_nbformat": 4,
  "vscode": {
   "interpreter": {
    "hash": "d6248864f58b5a9a10dd3ab44a0b1668ea608c6d64d96b764c5e1b824bc50df5"
   }
  }
 },
 "nbformat": 4,
 "nbformat_minor": 2
}
