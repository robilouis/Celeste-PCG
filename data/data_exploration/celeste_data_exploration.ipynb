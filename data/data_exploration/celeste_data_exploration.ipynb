{
 "cells": [
  {
   "attachments": {},
   "cell_type": "markdown",
   "metadata": {},
   "source": [
    "# Celeste Database Exploration"
   ]
  },
  {
   "cell_type": "code",
   "execution_count": 66,
   "metadata": {},
   "outputs": [],
   "source": [
    "import os\n",
    "import pandas as pd\n",
    "import numpy as np"
   ]
  },
  {
   "attachments": {},
   "cell_type": "markdown",
   "metadata": {},
   "source": [
    "### 1 - Room sizes distribution\n",
    "\n",
    "So that we kinda have a better idea of what size of room we should generate in the Cskeleton"
   ]
  },
  {
   "cell_type": "code",
   "execution_count": 67,
   "metadata": {},
   "outputs": [],
   "source": [
    "directory = '../'\n",
    "\n",
    "l_filenames_fg = []\n",
    "\n",
    "for folder in os.scandir(directory):\n",
    "    for filename in os.scandir(folder.path):\n",
    "        if filename.path.endswith(\"fg.csv\"):\n",
    "            l_filenames_fg.append(filename.path)\n",
    "\n",
    "l_size = []\n",
    "for file in l_filenames_fg:\n",
    "    l_size.append(pd.read_csv(file, sep=\";\", header=None).shape)\n",
    "\n",
    "df_size_rooms = pd.DataFrame(l_size, columns=[\"height\", \"width\"])\n",
    "df_size_rooms[\"unique_comb_width\"] = [df_size_rooms[df_size_rooms.width == w].height.unique().size for w in df_size_rooms.width]\n",
    "df_size_rooms[\"unique_comb_height\"] = [df_size_rooms[df_size_rooms.height == h].width.unique().size for h in df_size_rooms.height]"
   ]
  },
  {
   "cell_type": "code",
   "execution_count": 34,
   "metadata": {},
   "outputs": [
    {
     "data": {
      "text/plain": [
       "<AxesSubplot:ylabel='Frequency'>"
      ]
     },
     "execution_count": 34,
     "metadata": {},
     "output_type": "execute_result"
    },
    {
     "data": {
      "image/png": "[encoded data removed]",
      "text/plain": [
       "<Figure size 432x288 with 1 Axes>"
      ]
     },
     "metadata": {
      "needs_background": "light"
     },
     "output_type": "display_data"
    }
   ],
   "source": [
    "df_size_rooms['width'].plot(kind='hist')"
   ]
  },
  {
   "cell_type": "code",
   "execution_count": 35,
   "metadata": {},
   "outputs": [
    {
     "data": {
      "text/plain": [
       "<AxesSubplot:ylabel='Frequency'>"
      ]
     },
     "execution_count": 35,
     "metadata": {},
     "output_type": "execute_result"
    },
    {
     "data": {
      "image/png": "[encoded data removed]",
      "text/plain": [
       "<Figure size 432x288 with 1 Axes>"
      ]
     },
     "metadata": {
      "needs_background": "light"
     },
     "output_type": "display_data"
    }
   ],
   "source": [
    "df_size_rooms['height'].plot(kind='hist')"
   ]
  },
  {
   "cell_type": "code",
   "execution_count": 65,
   "metadata": {},
   "outputs": [
    {
     "data": {
      "text/plain": [
       "width\n",
       "40     [23, 28, 43, 25, 36, 27, 38, 24, 29, 49, 90, 1...\n",
       "41                                                  [23]\n",
       "42                                      [23, 25, 35, 45]\n",
       "43                              [23, 24, 25, 26, 33, 36]\n",
       "44                                          [23, 60, 42]\n",
       "                             ...                        \n",
       "334                                                 [23]\n",
       "362                                                [158]\n",
       "451                                                 [25]\n",
       "659                                                 [23]\n",
       "768                                                [340]\n",
       "Name: height, Length: 155, dtype: object"
      ]
     },
     "execution_count": 65,
     "metadata": {},
     "output_type": "execute_result"
    }
   ],
   "source": [
    "df_size_rooms.groupby(\"width\")[\"height\"].unique()"
   ]
  },
  {
   "attachments": {},
   "cell_type": "markdown",
   "metadata": {},
   "source": [
    "### 2 - Entities distribution"
   ]
  },
  {
   "cell_type": "markdown",
   "metadata": {},
   "source": []
  }
 ],
 "metadata": {
  "kernelspec": {
   "display_name": "Python 3",
   "language": "python",
   "name": "python3"
  },
  "language_info": {
   "codemirror_mode": {
    "name": "ipython",
    "version": 3
   },
   "file_extension": ".py",
   "mimetype": "text/x-python",
   "name": "python",
   "nbconvert_exporter": "python",
   "pygments_lexer": "ipython3",
   "version": "3.10.2"
  },
  "orig_nbformat": 4,
  "vscode": {
   "interpreter": {
    "hash": "369f2c481f4da34e4445cda3fffd2e751bd1c4d706f27375911949ba6bb62e1c"
   }
  }
 },
 "nbformat": 4,
 "nbformat_minor": 2
}
