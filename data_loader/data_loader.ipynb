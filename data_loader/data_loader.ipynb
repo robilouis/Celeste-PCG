{
 "cells": [
  {
   "cell_type": "markdown",
   "metadata": {},
   "source": [
    "# Celeste Data Loader"
   ]
  },
  {
   "cell_type": "code",
   "execution_count": 1,
   "metadata": {},
   "outputs": [],
   "source": [
    "using Pkg\n",
    "using DelimitedFiles\n",
    "using Maple\n",
    "using JSON"
   ]
  },
  {
   "cell_type": "markdown",
   "metadata": {},
   "source": [
    "#### Get all filenames of levels to loop later on"
   ]
  },
  {
   "cell_type": "code",
   "execution_count": 2,
   "metadata": {},
   "outputs": [],
   "source": [
    "PATH_TO_CELESTE_LEVELS = \"D:/master_thesis_v2/Code/celeste_maps/\"\n",
    "\n",
    "CELESTE_LEVELS_FILENAME_VECT = Vector{String}()\n",
    "for name in readdir(PATH_TO_CELESTE_LEVELS)\n",
    "    push!(CELESTE_LEVELS_FILENAME_VECT, PATH_TO_CELESTE_LEVELS*name)\n",
    "end"
   ]
  },
  {
   "cell_type": "code",
   "execution_count": 3,
   "metadata": {},
   "outputs": [
    {
     "data": {
      "text/plain": [
       "27-element Vector{String}:\n",
       " \"D:/master_thesis_v2/Code/celeste_maps/0-Intro.bin\"\n",
       " \"D:/master_thesis_v2/Code/celeste_maps/1-ForsakenCity.bin\"\n",
       " \"D:/master_thesis_v2/Code/celeste_maps/1H-ForsakenCity.bin\"\n",
       " \"D:/master_thesis_v2/Code/celeste_maps/1X-ForsakenCity.bin\"\n",
       " \"D:/master_thesis_v2/Code/celeste_maps/2-OldSite.bin\"\n",
       " \"D:/master_thesis_v2/Code/celeste_maps/2H-OldSite.bin\"\n",
       " \"D:/master_thesis_v2/Code/celeste_maps/2X-OldSite.bin\"\n",
       " \"D:/master_thesis_v2/Code/celeste_maps/3-CelestialResort.bin\"\n",
       " \"D:/master_thesis_v2/Code/celeste_maps/3H-CelestialResort.bin\"\n",
       " \"D:/master_thesis_v2/Code/celeste_maps/3X-CelestialResort.bin\"\n",
       " ⋮\n",
       " \"D:/master_thesis_v2/Code/celeste_maps/6X-Reflection.bin\"\n",
       " \"D:/master_thesis_v2/Code/celeste_maps/7-Summit.bin\"\n",
       " \"D:/master_thesis_v2/Code/celeste_maps/7H-Summit.bin\"\n",
       " \"D:/master_thesis_v2/Code/celeste_maps/7X-Summit.bin\"\n",
       " \"D:/master_thesis_v2/Code/celeste_maps/8-Epilogue.bin\"\n",
       " \"D:/master_thesis_v2/Code/celeste_maps/9-Core.bin\"\n",
       " \"D:/master_thesis_v2/Code/celeste_maps/9H-Core.bin\"\n",
       " \"D:/master_thesis_v2/Code/celeste_maps/9X-Core.bin\"\n",
       " \"D:/master_thesis_v2/Code/celeste_maps/LostLevels.bin\""
      ]
     },
     "metadata": {},
     "output_type": "display_data"
    }
   ],
   "source": [
    "CELESTE_LEVELS_FILENAME_VECT"
   ]
  },
  {
   "cell_type": "code",
   "execution_count": 10,
   "metadata": {},
   "outputs": [
    {
     "data": {
      "text/plain": [
       "filepath_to_name (generic function with 1 method)"
      ]
     },
     "metadata": {},
     "output_type": "display_data"
    }
   ],
   "source": [
    "function filepath_to_name(fp)\n",
    "    split(last(split(fp, '/')), '.')[1]\n",
    "end"
   ]
  },
  {
   "cell_type": "code",
   "execution_count": 13,
   "metadata": {},
   "outputs": [
    {
     "data": {
      "text/plain": [
       "\"0-Intro\""
      ]
     },
     "metadata": {},
     "output_type": "display_data"
    }
   ],
   "source": [
    "filepath_to_name(CELESTE_LEVELS_FILENAME_VECT[1])"
   ]
  },
  {
   "cell_type": "code",
   "execution_count": 32,
   "metadata": {},
   "outputs": [
    {
     "data": {
      "text/plain": [
       "room_to_data_files (generic function with 1 method)"
      ]
     },
     "metadata": {},
     "output_type": "display_data"
    }
   ],
   "source": [
    "function room_to_data_files(room, lvl_folder_name)\n",
    "    name = room.name\n",
    "    room_entities = room.entities\n",
    "    l_entities = Vector()\n",
    "    for ent in room_entities\n",
    "        push!(l_entities, Dict(ent))\n",
    "    end\n",
    "    open(lvl_folder_name*name*\"_entities.json\",\"w\") do f \n",
    "        write(f, JSON.json(l_entities))\n",
    "    end\n",
    "    writedlm(lvl_folder_name*name*\"_fg.csv\",  room.fgTiles.data, ';')\n",
    "    writedlm(lvl_folder_name*name*\"_bg.csv\",  room.bgTiles.data, ';')\n",
    "    writedlm(lvl_folder_name*name*\"_obj.csv\",  room.objTiles.data, ';')\n",
    "end"
   ]
  },
  {
   "cell_type": "code",
   "execution_count": 33,
   "metadata": {},
   "outputs": [
    {
     "data": {
      "text/plain": [
       "make_database (generic function with 1 method)"
      ]
     },
     "metadata": {},
     "output_type": "display_data"
    }
   ],
   "source": [
    "function make_database(path_database)\n",
    "    for file in CELESTE_LEVELS_FILENAME_VECT\n",
    "        lvl_name = filepath_to_name(file)*'/'\n",
    "        lvl_path = path_database*'/'*lvl_name\n",
    "        mkpath(lvl_path)\n",
    "        map = loadMap(file)\n",
    "        rooms = map.rooms\n",
    "        for room in rooms\n",
    "            room_to_data_files(room, lvl_path)\n",
    "        end\n",
    "    end\n",
    "end"
   ]
  },
  {
   "cell_type": "code",
   "execution_count": 34,
   "metadata": {},
   "outputs": [],
   "source": [
    "make_database(\"D:/master_thesis_v2/Code/Celeste-PCG/data\")"
   ]
  }
 ],
 "metadata": {
  "kernelspec": {
   "display_name": "Julia 1.6.0",
   "language": "julia",
   "name": "julia-1.6"
  },
  "language_info": {
   "file_extension": ".jl",
   "mimetype": "application/julia",
   "name": "julia",
   "version": "1.6.0"
  },
  "orig_nbformat": 4
 },
 "nbformat": 4,
 "nbformat_minor": 2
}
