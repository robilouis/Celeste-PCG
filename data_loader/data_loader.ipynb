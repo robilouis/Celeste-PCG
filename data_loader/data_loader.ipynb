{
 "cells": [
  {
   "cell_type": "markdown",
   "metadata": {},
   "source": [
    "# Celeste Data Loader"
   ]
  },
  {
   "cell_type": "code",
   "execution_count": 3,
   "metadata": {},
   "outputs": [],
   "source": [
    "using Pkg\n",
    "using DelimitedFiles\n",
    "using Maple"
   ]
  },
  {
   "cell_type": "markdown",
   "metadata": {},
   "source": [
    "#### Get all filenames of levels to loop later on"
   ]
  },
  {
   "cell_type": "code",
   "execution_count": 42,
   "metadata": {},
   "outputs": [],
   "source": [
    "PATH_TO_CELESTE_LEVELS = \"D:/Master Thesis/celeste_maps/\"\n",
    "\n",
    "CELESTE_LEVELS_FILENAME_VECT = Vector{String}()\n",
    "for name in readdir(PATH_TO_CELESTE_LEVELS)\n",
    "    push!(CELESTE_LEVELS_FILENAME_VECT, PATH_TO_CELESTE_LEVELS*name)\n",
    "end"
   ]
  }
 ],
 "metadata": {
  "kernelspec": {
   "display_name": "Julia 1.6.0",
   "language": "julia",
   "name": "julia-1.6"
  },
  "language_info": {
   "file_extension": ".jl",
   "mimetype": "application/julia",
   "name": "julia",
   "version": "1.6.0"
  },
  "orig_nbformat": 4
 },
 "nbformat": 4,
 "nbformat_minor": 2
}
